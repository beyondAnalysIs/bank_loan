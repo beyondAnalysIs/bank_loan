{
 "cells": [
  {
   "cell_type": "code",
   "execution_count": 2,
   "id": "b30effb4",
   "metadata": {},
   "outputs": [],
   "source": [
    "import pandas as pd\n",
    "import numpy as np\n",
    "import matplotlib.pyplot as plt\n",
    "import seaborn as sns\n",
    "from scipy import stats\n",
    "from sklearn.model_selection import train_test_split\n",
    "from sklearn.ensemble import RandomForestRegressor\n",
    "from sklearn.metrics import classification_report, confusion_matrix\n",
    "import warnings\n",
    "\n",
    "# configuración de warnings\n",
    "warnings.filterwarnings('ignore') # ignorar warnings\n",
    "\n",
    "# configuración de pandas\n",
    "pd.set_option('display.max_columns', None) # mostrar todas las columnas\n",
    "plt.style.use('seaborn-v0_8') # estilo de gráficos\n",
    "plt.rcParams['figure.figsize'] = (12, 8) # tamaño de gráficos\n"
   ]
  },
  {
   "cell_type": "markdown",
   "id": "a19b6cfb",
   "metadata": {},
   "source": [
    "==========================  \n",
    "    1. Carga y exploración inicial de datos \n",
    "============================="
   ]
  },
  {
   "cell_type": "code",
   "execution_count": 7,
   "id": "02bf4342",
   "metadata": {},
   "outputs": [
    {
     "name": "stdout",
     "output_type": "stream",
     "text": [
      "============================================================\n",
      "ANÁLISIS DE RIESGO CREDITICIO - BANK LOAN DATASET\n",
      "============================================================\n"
     ]
    }
   ],
   "source": [
    "print('=' * 60)\n",
    "print('ANÁLISIS DE RIESGO CREDITICIO - BANK LOAN DATASET')\n",
    "print('=' * 60)\n"
   ]
  },
  {
   "cell_type": "code",
   "execution_count": 13,
   "id": "ca1ae35b",
   "metadata": {},
   "outputs": [
    {
     "name": "stdout",
     "output_type": "stream",
     "text": [
      "El archivo se ha cargado correctamente.\n"
     ]
    }
   ],
   "source": [
    "# carga de datos\n",
    "try:\n",
    "    # leer el archivo csv con separador ';'\n",
    "    df = pd.read_csv('Bankloan.csv', sep=';', encoding='utf-8-sig')\n",
    "    print('El archivo se ha cargado correctamente.')\n",
    "except FileNotFoundError:\n",
    "    print('El archivo no se ha encontrado.') "
   ]
  },
  {
   "cell_type": "code",
   "execution_count": 15,
   "id": "84f1d22b",
   "metadata": {},
   "outputs": [
    {
     "name": "stdout",
     "output_type": "stream",
     "text": [
      "\n",
      "INFORMACIÓN GENERAL DEL DATASET:\n",
      "\n",
      "    - Dimensiones: 700 filas x 9 columnas \n",
      "\n",
      "    - Período de análisis: dataset historico de préstamos bancarios\n",
      "\n"
     ]
    }
   ],
   "source": [
    "#información del dataset\n",
    "print(f'''\\nINFORMACIÓN GENERAL DEL DATASET:\\n\n",
    "    - Dimensiones: {df.shape[0]} filas x {df.shape[1]} columnas \\n\n",
    "    - Período de análisis: dataset historico de préstamos bancarios\n",
    "''')"
   ]
  },
  {
   "cell_type": "markdown",
   "id": "41edf52e",
   "metadata": {},
   "source": [
    "==========================  \n",
    "    2. Análisis Exploratorio de Datos (EDA) \n",
    "============================="
   ]
  },
  {
   "cell_type": "code",
   "execution_count": null,
   "id": "ee74fe1a",
   "metadata": {},
   "outputs": [],
   "source": []
  }
 ],
 "metadata": {
  "kernelspec": {
   "display_name": "env_bank_loan",
   "language": "python",
   "name": "python3"
  },
  "language_info": {
   "codemirror_mode": {
    "name": "ipython",
    "version": 3
   },
   "file_extension": ".py",
   "mimetype": "text/x-python",
   "name": "python",
   "nbconvert_exporter": "python",
   "pygments_lexer": "ipython3",
   "version": "3.12.2"
  }
 },
 "nbformat": 4,
 "nbformat_minor": 5
}
