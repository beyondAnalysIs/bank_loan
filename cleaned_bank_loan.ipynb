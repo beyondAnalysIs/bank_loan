{
 "cells": [
  {
   "cell_type": "code",
   "execution_count": 88,
   "id": "a2a04fa2",
   "metadata": {},
   "outputs": [],
   "source": [
    "import pandas as pd\n",
    "import numpy as np\n",
    "import matplotlib.pyplot as plt\n",
    "import seaborn as sns\n",
    "import plotly.express as px\n",
    "import plotly.graph_objects as go\n",
    "from plotly.subplots import make_subplots\n",
    "from scipy import stats\n",
    "from sklearn.metrics import classification_report, confusion_matrix\n",
    "import plotly.io as pio\n",
    "from scipy import stats\n",
    "from scipy.stats import chi2_contingency, normaltest, mannwhitneyu\n",
    "\n",
    "pio.renderers.default = \"browser\"\n",
    "\n",
    "# configuración de visualización \n",
    "plt.style.use('seaborn-v0_8-dark')\n",
    "pd.set_option('display.max_columns', None)\n",
    "pd.set_option('display.width', None)\n",
    "sns.set_palette('husl')\n"
   ]
  },
  {
   "cell_type": "markdown",
   "id": "79dc6e96",
   "metadata": {},
   "source": [
    "-----CARGA DE DATOS"
   ]
  },
  {
   "cell_type": "code",
   "execution_count": 16,
   "id": "568ee214",
   "metadata": {},
   "outputs": [
    {
     "name": "stdout",
     "output_type": "stream",
     "text": [
      "\n",
      "      Dataframe de Préstamo Bancario:\n",
      "\n",
      "\n",
      "      Estadística Básica:\n",
      "               age          ed      employ     address        income  \\\n",
      "count  681.000000  680.000000  700.000000  700.000000  6.630000e+02   \n",
      "mean    34.898678    1.717647    8.388571    8.268571  4.574359e+07   \n",
      "std      8.861849    0.925652    6.658039    6.821609  3.744108e+07   \n",
      "min     20.000000    1.000000    0.000000    0.000000  1.400000e+07   \n",
      "25%     28.000000    1.000000    3.000000    3.000000  2.400000e+07   \n",
      "50%     34.000000    1.000000    7.000000    7.000000  3.400000e+07   \n",
      "75%     40.000000    2.000000   12.000000   12.000000  5.450000e+07   \n",
      "max    136.000000    5.000000   31.000000   34.000000  4.460000e+08   \n",
      "\n",
      "            debtinc      creddebt       othdebt  \n",
      "count  7.000000e+02  7.000000e+02  7.000000e+02  \n",
      "mean   1.026057e+07  1.553553e+06  3.058209e+06  \n",
      "std    6.827234e+06  2.117197e+06  3.287555e+06  \n",
      "min    4.000000e+05  1.169600e+04  4.558400e+04  \n",
      "25%    5.000000e+06  3.690592e+05  1.044178e+06  \n",
      "50%    8.600000e+06  8.548695e+05  1.987568e+06  \n",
      "75%    1.412500e+07  1.901955e+06  3.923065e+06  \n",
      "max    4.130000e+07  2.056131e+07  2.703360e+07  \n",
      "\n",
      "      Nombre de las columnas:\n",
      " Index(['age', 'ed', 'employ', 'address', 'income', 'debtinc', 'creddebt',\n",
      "       'othdebt', 'default'],\n",
      "      dtype='object')\n",
      " \n",
      "      Información general del dataframe:\n",
      " <bound method DataFrame.info of       age   ed  employ  address       income   debtinc  creddebt  othdebt  \\\n",
      "0    41.0  3.0      17       12  176000000.0   9300000  11359392  5008608   \n",
      "1    27.0  1.0      10        6   31000000.0  17300000   1362202  4000798   \n",
      "2    40.0  1.0      15        7          NaN   5500000    856075  2168925   \n",
      "3    41.0  NaN      15       14  120000000.0   2900000   2658720   821280   \n",
      "4    24.0  2.0       2        0   28000000.0  17300000   1787436  3056564   \n",
      "..    ...  ...     ...      ...          ...       ...       ...      ...   \n",
      "695  36.0  2.0       6       15   27000000.0   4600000    262062   979938   \n",
      "696  29.0  2.0       6        4   21000000.0  11500000    369495  2045505   \n",
      "697  33.0  1.0      15        3   32000000.0   7600000    491264  1940736   \n",
      "698  45.0  1.0      19       22   77000000.0   8400000   2302608  4165392   \n",
      "699  37.0  1.0      12       14          NaN  14700000   2994684  3473316   \n",
      "\n",
      "    default  \n",
      "0         1  \n",
      "1         0  \n",
      "2         0  \n",
      "3         0  \n",
      "4         1  \n",
      "..      ...  \n",
      "695       1  \n",
      "696       0  \n",
      "697       0  \n",
      "698       0  \n",
      "699       0  \n",
      "\n",
      "[700 rows x 9 columns]>\n",
      "\n",
      "\n",
      "      Primera filas:\n",
      "     age   ed  employ  address       income   debtinc  creddebt   othdebt  \\\n",
      "0  41.0  3.0      17       12  176000000.0   9300000  11359392   5008608   \n",
      "1  27.0  1.0      10        6   31000000.0  17300000   1362202   4000798   \n",
      "2  40.0  1.0      15        7          NaN   5500000    856075   2168925   \n",
      "3  41.0  NaN      15       14  120000000.0   2900000   2658720    821280   \n",
      "4  24.0  2.0       2        0   28000000.0  17300000   1787436   3056564   \n",
      "5  41.0  2.0       5        5   25000000.0  10200000    392700   2157300   \n",
      "6  39.0  1.0      20        9          NaN  30600000   3833874  16668126   \n",
      "7   NaN  1.0      12       11   38000000.0   3600000    128592   1239408   \n",
      "8  24.0  1.0       3        4   19000000.0  24400000   1358348   3277652   \n",
      "9  36.0  1.0       0       13   25000000.0  19700000   2777700   2147300   \n",
      "\n",
      "  default  \n",
      "0       1  \n",
      "1       0  \n",
      "2       0  \n",
      "3       0  \n",
      "4       1  \n",
      "5       0  \n",
      "6       0  \n",
      "7       0  \n",
      "8       1  \n",
      "9       0  \n",
      " \n",
      "      Últimas filas:\n",
      "       age   ed  employ  address       income   debtinc  creddebt  othdebt  \\\n",
      "690  24.0  2.0       0        5   16000000.0   7300000     24528  1143472   \n",
      "691  47.0  1.0      31        8  253000000.0   7200000   9308376  8907624   \n",
      "692   NaN  1.0       0       26          NaN  28900000   2754459  5048541   \n",
      "693  22.0  3.0       0        2   20000000.0   4700000    219020   720980   \n",
      "694  48.0  2.0       6        1   66000000.0  12100000   2315940  5670060   \n",
      "695  36.0  2.0       6       15   27000000.0   4600000    262062   979938   \n",
      "696  29.0  2.0       6        4   21000000.0  11500000    369495  2045505   \n",
      "697  33.0  1.0      15        3   32000000.0   7600000    491264  1940736   \n",
      "698  45.0  1.0      19       22   77000000.0   8400000   2302608  4165392   \n",
      "699  37.0  1.0      12       14          NaN  14700000   2994684  3473316   \n",
      "\n",
      "    default  \n",
      "690       0  \n",
      "691       0  \n",
      "692       1  \n",
      "693       0  \n",
      "694       0  \n",
      "695       1  \n",
      "696       0  \n",
      "697       0  \n",
      "698       0  \n",
      "699       0  \n",
      "\n",
      "      Tamaño del Dataframe: (700, 9)\n",
      "\n",
      "      \n"
     ]
    }
   ],
   "source": [
    "df_bank_loan = pd.read_excel('Bankloan.xlsx', sheet_name='Hoja2')\n",
    "print(f'''\n",
    "      Dataframe de Préstamo Bancario:\\n\\n\n",
    "      Estadística Básica:\\n {df_bank_loan.describe()}\\n\n",
    "      Nombre de las columnas:\\n {df_bank_loan.columns}\\n \n",
    "      Información general del dataframe:\\n {df_bank_loan.info}\\n\\n\n",
    "      Primera filas:\\n {df_bank_loan.head(10)}\\n \n",
    "      Últimas filas:\\n {df_bank_loan.tail(10)}\\n\n",
    "      Tamaño del Dataframe: {df_bank_loan.shape}\n",
    "      \n",
    "      ''')"
   ]
  },
  {
   "cell_type": "code",
   "execution_count": 27,
   "id": "c00f5627",
   "metadata": {},
   "outputs": [
    {
     "name": "stdout",
     "output_type": "stream",
     "text": [
      "Total de valores nulos:\n",
      " age       19\n",
      "ed        20\n",
      "income    37\n",
      "dtype: int64\n"
     ]
    }
   ],
   "source": [
    "# tratamiento de valores nulos\n",
    "df_nulls = df_bank_loan.isnull().sum()\n",
    "print(f'Total de valores nulos:\\n {df_nulls[df_nulls > 0]}')"
   ]
  },
  {
   "cell_type": "markdown",
   "id": "2cece2bd",
   "metadata": {},
   "source": [
    "----- TRATAMIENTO DE VALORES NULOS"
   ]
  },
  {
   "cell_type": "code",
   "execution_count": 44,
   "id": "c5a54b86",
   "metadata": {},
   "outputs": [
    {
     "name": "stdout",
     "output_type": "stream",
     "text": [
      "Dataframe sin valores nulos:\n",
      "     age   ed  employ  address       income   debtinc  creddebt   othdebt  \\\n",
      "0  41.0  3.0      17       12  176000000.0   9300000  11359392   5008608   \n",
      "1  27.0  1.0      10        6   31000000.0  17300000   1362202   4000798   \n",
      "2  40.0  1.0      15        7   34000000.0   5500000    856075   2168925   \n",
      "3  41.0  1.0      15       14  120000000.0   2900000   2658720    821280   \n",
      "4  24.0  2.0       2        0   28000000.0  17300000   1787436   3056564   \n",
      "5  41.0  2.0       5        5   25000000.0  10200000    392700   2157300   \n",
      "6  39.0  1.0      20        9   34000000.0  30600000   3833874  16668126   \n",
      "7  34.0  1.0      12       11   38000000.0   3600000    128592   1239408   \n",
      "8  24.0  1.0       3        4   19000000.0  24400000   1358348   3277652   \n",
      "9  36.0  1.0       0       13   25000000.0  19700000   2777700   2147300   \n",
      "\n",
      "  default  \n",
      "0       1  \n",
      "1       0  \n",
      "2       0  \n",
      "3       0  \n",
      "4       1  \n",
      "5       0  \n",
      "6       0  \n",
      "7       0  \n",
      "8       1  \n",
      "9       0  \n"
     ]
    }
   ],
   "source": [
    "# valores nulos y limpieza\n",
    "def clean_dataset(df):\n",
    "    \"\"\"Función que permite rellenar valores nulos en variables numéricas y variables categoricas\"\"\"\n",
    "    # Rellenar valores numericos con la mediana\n",
    "    numeric_columns = df_bank_loan.select_dtypes(include=[np.number]).columns\n",
    "    for col in numeric_columns:\n",
    "        df[col] = df[col].fillna(df[col].median())\n",
    "    \n",
    "    # Rellenar valores categoricos con la moda \n",
    "    categorical_columns = df_bank_loan.select_dtypes(include=['object']).columns\n",
    "    for col in categorical_columns:\n",
    "        df[col] = df[col].fillna(df[col].mode()[0])\n",
    "    \n",
    "    return df\n",
    "\n",
    "df_clean = clean_dataset(df_bank_loan.copy())   \n",
    "print(f'Dataframe sin valores nulos:\\n {df_clean.head(10)}')\n"
   ]
  },
  {
   "cell_type": "markdown",
   "id": "054f7729",
   "metadata": {},
   "source": [
    "----- ANÁLSIS UNIVARIANTE"
   ]
  },
  {
   "cell_type": "code",
   "execution_count": 60,
   "id": "135b01a9",
   "metadata": {},
   "outputs": [],
   "source": [
    "def univariante_analysis(df):\n",
    "    ''' Función de análisis univariante'''\n",
    "    numeric_cols = df.select_dtypes(include=[np.number]).columns\n",
    "    for col in numeric_cols:\n",
    "        fig = make_subplots(rows=1, cols=2, subplot_titles=['Histograma', 'Box Pot'])\n",
    "        \n",
    "        # Histograma\n",
    "        fig.add_trace(\n",
    "            go.Histogram(x=df[col], name='Histograma'),\n",
    "            row=1, col=1\n",
    "        )\n",
    "        \n",
    "        # Box plot\n",
    "        fig.add_trace(\n",
    "            go.Box(y=df[col], name='Box Plot'),\n",
    "            row=1, col=2\n",
    "        )\n",
    "          \n",
    "        # Etiquetas de ejes\n",
    "        fig.update_xaxes(title_text=col, row=1, col=1)   # X del histograma\n",
    "        fig.update_yaxes(title_text=\"Frecuencia\", row=1, col=1)  # Y del histograma\n",
    "        fig.update_yaxes(title_text=col, row=1, col=2)   # Y del boxplot\n",
    "        #titulo\n",
    "        fig.update_layout(title=f'Distribución de {col}')\n",
    "        fig.show(renderer='browser')\n",
    "        \n",
    "graphics_univariate = univariante_analysis(df_clean)"
   ]
  },
  {
   "cell_type": "markdown",
   "id": "9d600e8c",
   "metadata": {},
   "source": [
    "----- ANÁLISIS BIVARIANTE"
   ]
  },
  {
   "cell_type": "code",
   "execution_count": null,
   "id": "8b34b9ef",
   "metadata": {},
   "outputs": [],
   "source": []
  },
  {
   "cell_type": "code",
   "execution_count": null,
   "id": "9c961b55",
   "metadata": {},
   "outputs": [],
   "source": []
  }
 ],
 "metadata": {
  "kernelspec": {
   "display_name": "env_bank_loan",
   "language": "python",
   "name": "python3"
  },
  "language_info": {
   "codemirror_mode": {
    "name": "ipython",
    "version": 3
   },
   "file_extension": ".py",
   "mimetype": "text/x-python",
   "name": "python",
   "nbconvert_exporter": "python",
   "pygments_lexer": "ipython3",
   "version": "3.12.2"
  }
 },
 "nbformat": 4,
 "nbformat_minor": 5
}
