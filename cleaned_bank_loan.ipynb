{
 "cells": [
  {
   "cell_type": "code",
   "execution_count": null,
   "id": "a2a04fa2",
   "metadata": {},
   "outputs": [],
   "source": [
    "import pandas as pd\n",
    "import numpy as np\n",
    "import matplotlib.pyplot as plt\n",
    "import seaborn as sns\n",
    "import plotly.express as px\n",
    "import plotly.graph_objects as go\n",
    "from plotly.subplots import make_subplots\n",
    "from scipy import stats\n",
    "from sklearn.metrics import classification_report, confusion_matrix\n",
    "import plotly.io as pio\n",
    "from scipy import stats\n",
    "from scipy.stats import chi2_contingency, normaltest, mannwhitneyu\n",
    "\n",
    "# configuración de visualización \n",
    "plt.style.use('seaborn-v0_8-dark')\n",
    "pd.set_option('display.max_columns', None)\n",
    "pd.set_option('display.width', None)\n",
    "sns.set_palette('husl')\n"
   ]
  },
  {
   "cell_type": "markdown",
   "id": "79dc6e96",
   "metadata": {},
   "source": [
    "-----CARGA DE DATOS"
   ]
  },
  {
   "cell_type": "code",
   "execution_count": 84,
   "id": "568ee214",
   "metadata": {},
   "outputs": [
    {
     "name": "stdout",
     "output_type": "stream",
     "text": [
      "\n",
      "      Dataframe de Préstamo Bancario:\n",
      "\n",
      "\n",
      "      Estadística Básica:\n",
      "               age          ed      employ     address        income  \\\n",
      "count  681.000000  680.000000  700.000000  700.000000  6.630000e+02   \n",
      "mean    34.898678    1.717647    8.388571    8.268571  4.574359e+07   \n",
      "std      8.861849    0.925652    6.658039    6.821609  3.744108e+07   \n",
      "min     20.000000    1.000000    0.000000    0.000000  1.400000e+07   \n",
      "25%     28.000000    1.000000    3.000000    3.000000  2.400000e+07   \n",
      "50%     34.000000    1.000000    7.000000    7.000000  3.400000e+07   \n",
      "75%     40.000000    2.000000   12.000000   12.000000  5.450000e+07   \n",
      "max    136.000000    5.000000   31.000000   34.000000  4.460000e+08   \n",
      "\n",
      "            debtinc      creddebt       othdebt  \n",
      "count  7.000000e+02  7.000000e+02  7.000000e+02  \n",
      "mean   1.026057e+07  1.553553e+06  3.058209e+06  \n",
      "std    6.827234e+06  2.117197e+06  3.287555e+06  \n",
      "min    4.000000e+05  1.169600e+04  4.558400e+04  \n",
      "25%    5.000000e+06  3.690592e+05  1.044178e+06  \n",
      "50%    8.600000e+06  8.548695e+05  1.987568e+06  \n",
      "75%    1.412500e+07  1.901955e+06  3.923065e+06  \n",
      "max    4.130000e+07  2.056131e+07  2.703360e+07  \n",
      "\n",
      "      Nombre de las columnas:\n",
      " Index(['age', 'ed', 'employ', 'address', 'income', 'debtinc', 'creddebt',\n",
      "       'othdebt', 'default'],\n",
      "      dtype='object')\n",
      " \n",
      "      Información general del dataframe:\n",
      " <bound method DataFrame.info of       age   ed  employ  address       income   debtinc  creddebt  othdebt  \\\n",
      "0    41.0  3.0      17       12  176000000.0   9300000  11359392  5008608   \n",
      "1    27.0  1.0      10        6   31000000.0  17300000   1362202  4000798   \n",
      "2    40.0  1.0      15        7          NaN   5500000    856075  2168925   \n",
      "3    41.0  NaN      15       14  120000000.0   2900000   2658720   821280   \n",
      "4    24.0  2.0       2        0   28000000.0  17300000   1787436  3056564   \n",
      "..    ...  ...     ...      ...          ...       ...       ...      ...   \n",
      "695  36.0  2.0       6       15   27000000.0   4600000    262062   979938   \n",
      "696  29.0  2.0       6        4   21000000.0  11500000    369495  2045505   \n",
      "697  33.0  1.0      15        3   32000000.0   7600000    491264  1940736   \n",
      "698  45.0  1.0      19       22   77000000.0   8400000   2302608  4165392   \n",
      "699  37.0  1.0      12       14          NaN  14700000   2994684  3473316   \n",
      "\n",
      "    default  \n",
      "0         1  \n",
      "1         0  \n",
      "2         0  \n",
      "3         0  \n",
      "4         1  \n",
      "..      ...  \n",
      "695       1  \n",
      "696       0  \n",
      "697       0  \n",
      "698       0  \n",
      "699       0  \n",
      "\n",
      "[700 rows x 9 columns]>\n",
      "\n",
      "\n",
      "      Primera filas:\n",
      "     age   ed  employ  address       income   debtinc  creddebt   othdebt  \\\n",
      "0  41.0  3.0      17       12  176000000.0   9300000  11359392   5008608   \n",
      "1  27.0  1.0      10        6   31000000.0  17300000   1362202   4000798   \n",
      "2  40.0  1.0      15        7          NaN   5500000    856075   2168925   \n",
      "3  41.0  NaN      15       14  120000000.0   2900000   2658720    821280   \n",
      "4  24.0  2.0       2        0   28000000.0  17300000   1787436   3056564   \n",
      "5  41.0  2.0       5        5   25000000.0  10200000    392700   2157300   \n",
      "6  39.0  1.0      20        9          NaN  30600000   3833874  16668126   \n",
      "7   NaN  1.0      12       11   38000000.0   3600000    128592   1239408   \n",
      "8  24.0  1.0       3        4   19000000.0  24400000   1358348   3277652   \n",
      "9  36.0  1.0       0       13   25000000.0  19700000   2777700   2147300   \n",
      "\n",
      "  default  \n",
      "0       1  \n",
      "1       0  \n",
      "2       0  \n",
      "3       0  \n",
      "4       1  \n",
      "5       0  \n",
      "6       0  \n",
      "7       0  \n",
      "8       1  \n",
      "9       0  \n",
      " \n",
      "      Últimas filas:\n",
      "       age   ed  employ  address       income   debtinc  creddebt  othdebt  \\\n",
      "690  24.0  2.0       0        5   16000000.0   7300000     24528  1143472   \n",
      "691  47.0  1.0      31        8  253000000.0   7200000   9308376  8907624   \n",
      "692   NaN  1.0       0       26          NaN  28900000   2754459  5048541   \n",
      "693  22.0  3.0       0        2   20000000.0   4700000    219020   720980   \n",
      "694  48.0  2.0       6        1   66000000.0  12100000   2315940  5670060   \n",
      "695  36.0  2.0       6       15   27000000.0   4600000    262062   979938   \n",
      "696  29.0  2.0       6        4   21000000.0  11500000    369495  2045505   \n",
      "697  33.0  1.0      15        3   32000000.0   7600000    491264  1940736   \n",
      "698  45.0  1.0      19       22   77000000.0   8400000   2302608  4165392   \n",
      "699  37.0  1.0      12       14          NaN  14700000   2994684  3473316   \n",
      "\n",
      "    default  \n",
      "690       0  \n",
      "691       0  \n",
      "692       1  \n",
      "693       0  \n",
      "694       0  \n",
      "695       1  \n",
      "696       0  \n",
      "697       0  \n",
      "698       0  \n",
      "699       0  \n",
      "\n",
      "      Tamaño del Dataframe: (700, 9)\n",
      "\n",
      "      \n"
     ]
    }
   ],
   "source": [
    "df_bank_loan = pd.read_excel('Bankloan.xlsx', sheet_name='Hoja2')\n",
    "print(f'''\n",
    "      Dataframe de Préstamo Bancario:\\n\\n\n",
    "      Estadística Básica:\\n {df_bank_loan.describe()}\\n\n",
    "      Nombre de las columnas:\\n {df_bank_loan.columns}\\n \n",
    "      Información general del dataframe:\\n {df_bank_loan.info}\\n\\n\n",
    "      Primera filas:\\n {df_bank_loan.head(10)}\\n \n",
    "      Últimas filas:\\n {df_bank_loan.tail(10)}\\n\n",
    "      Tamaño del Dataframe: {df_bank_loan.shape}\n",
    "      \n",
    "      ''')"
   ]
  },
  {
   "cell_type": "code",
   "execution_count": 85,
   "id": "c00f5627",
   "metadata": {},
   "outputs": [
    {
     "name": "stdout",
     "output_type": "stream",
     "text": [
      "Total de valores nulos:\n",
      " age       19\n",
      "ed        20\n",
      "income    37\n",
      "dtype: int64\n"
     ]
    }
   ],
   "source": [
    "# tratamiento de valores nulos\n",
    "df_nulls = df_bank_loan.isnull().sum()\n",
    "print(f'Total de valores nulos:\\n {df_nulls[df_nulls > 0]}')"
   ]
  },
  {
   "cell_type": "markdown",
   "id": "2cece2bd",
   "metadata": {},
   "source": [
    "----- TRATAMIENTO DE VALORES NULOS"
   ]
  },
  {
   "cell_type": "code",
   "execution_count": 86,
   "id": "c5a54b86",
   "metadata": {},
   "outputs": [
    {
     "data": {
      "text/plain": [
       "0      1.0\n",
       "1      0.0\n",
       "2      0.0\n",
       "3      0.0\n",
       "4      1.0\n",
       "      ... \n",
       "695    1.0\n",
       "696    0.0\n",
       "697    0.0\n",
       "698    0.0\n",
       "699    0.0\n",
       "Name: default, Length: 700, dtype: float64"
      ]
     },
     "execution_count": 86,
     "metadata": {},
     "output_type": "execute_result"
    }
   ],
   "source": [
    "# Rellenar valores nulos\n",
    "df_bank_loan['age']=df_bank_loan['age'].where(df_bank_loan['age'] < 60)\n",
    "df_bank_loan['age'].fillna(df_bank_loan['age'].median())\n",
    "df_bank_loan['ed'].fillna(df_bank_loan['ed'].mode()[0])\n",
    "df_bank_loan['income'].fillna(df_bank_loan['income'].median())\n",
    "\n",
    "# conversión a columnas numéricas\n",
    "df_bank_loan['default']=pd.to_numeric(df_bank_loan['default'], errors='coerce')\n",
    "df_bank_loan['default'].fillna(0)\n"
   ]
  },
  {
   "cell_type": "markdown",
   "id": "054f7729",
   "metadata": {},
   "source": [
    "----- ANÁLSIS UNIVARIANTE"
   ]
  },
  {
   "cell_type": "code",
   "execution_count": 87,
   "id": "b5be9eac",
   "metadata": {},
   "outputs": [
    {
     "name": "stdout",
     "output_type": "stream",
     "text": [
      "=== Análisis Univariante===\n",
      "\n",
      "Estadística descriptivas:\n",
      "               age          ed      employ     address        income  \\\n",
      "count  680.000000  680.000000  700.000000  700.000000  6.630000e+02   \n",
      "mean    34.750000    1.717647    8.388571    8.268571  4.574359e+07   \n",
      "std      7.973215    0.925652    6.658039    6.821609  3.744108e+07   \n",
      "min     20.000000    1.000000    0.000000    0.000000  1.400000e+07   \n",
      "25%     28.000000    1.000000    3.000000    3.000000  2.400000e+07   \n",
      "50%     34.000000    1.000000    7.000000    7.000000  3.400000e+07   \n",
      "75%     40.000000    2.000000   12.000000   12.000000  5.450000e+07   \n",
      "max     56.000000    5.000000   31.000000   34.000000  4.460000e+08   \n",
      "\n",
      "            debtinc      creddebt       othdebt     default  \n",
      "count  7.000000e+02  7.000000e+02  7.000000e+02  698.000000  \n",
      "mean   1.026057e+07  1.553553e+06  3.058209e+06    0.262178  \n",
      "std    6.827234e+06  2.117197e+06  3.287555e+06    0.440134  \n",
      "min    4.000000e+05  1.169600e+04  4.558400e+04    0.000000  \n",
      "25%    5.000000e+06  3.690592e+05  1.044178e+06    0.000000  \n",
      "50%    8.600000e+06  8.548695e+05  1.987568e+06    0.000000  \n",
      "75%    1.412500e+07  1.901955e+06  3.923065e+06    1.000000  \n",
      "max    4.130000e+07  2.056131e+07  2.703360e+07    1.000000  \n"
     ]
    },
    {
     "data": {
      "application/vnd.plotly.v1+json": {
       "config": {
        "plotlyServerURL": "https://plot.ly"
       },
       "data": [
        {
         "bingroup": "x",
         "hovertemplate": "age=%{x}<br>count=%{y}<extra></extra>",
         "legendgroup": "",
         "marker": {
          "color": "#636efa",
          "pattern": {
           "shape": ""
          }
         },
         "name": "",
         "nbinsx": 30,
         "orientation": "v",
         "showlegend": false,
         "type": "histogram",
         "x": {
          "bdata": "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",
          "dtype": "f8"
         },
         "xaxis": "x",
         "yaxis": "y"
        }
       ],
       "layout": {
        "barmode": "relative",
        "legend": {
         "tracegroupgap": 0
        },
        "template": {
         "data": {
          "bar": [
           {
            "error_x": {
             "color": "#2a3f5f"
            },
            "error_y": {
             "color": "#2a3f5f"
            },
            "marker": {
             "line": {
              "color": "#E5ECF6",
              "width": 0.5
             },
             "pattern": {
              "fillmode": "overlay",
              "size": 10,
              "solidity": 0.2
             }
            },
            "type": "bar"
           }
          ],
          "barpolar": [
           {
            "marker": {
             "line": {
              "color": "#E5ECF6",
              "width": 0.5
             },
             "pattern": {
              "fillmode": "overlay",
              "size": 10,
              "solidity": 0.2
             }
            },
            "type": "barpolar"
           }
          ],
          "carpet": [
           {
            "aaxis": {
             "endlinecolor": "#2a3f5f",
             "gridcolor": "white",
             "linecolor": "white",
             "minorgridcolor": "white",
             "startlinecolor": "#2a3f5f"
            },
            "baxis": {
             "endlinecolor": "#2a3f5f",
             "gridcolor": "white",
             "linecolor": "white",
             "minorgridcolor": "white",
             "startlinecolor": "#2a3f5f"
            },
            "type": "carpet"
           }
          ],
          "choropleth": [
           {
            "colorbar": {
             "outlinewidth": 0,
             "ticks": ""
            },
            "type": "choropleth"
           }
          ],
          "contour": [
           {
            "colorbar": {
             "outlinewidth": 0,
             "ticks": ""
            },
            "colorscale": [
             [
              0,
              "#0d0887"
             ],
             [
              0.1111111111111111,
              "#46039f"
             ],
             [
              0.2222222222222222,
              "#7201a8"
             ],
             [
              0.3333333333333333,
              "#9c179e"
             ],
             [
              0.4444444444444444,
              "#bd3786"
             ],
             [
              0.5555555555555556,
              "#d8576b"
             ],
             [
              0.6666666666666666,
              "#ed7953"
             ],
             [
              0.7777777777777778,
              "#fb9f3a"
             ],
             [
              0.8888888888888888,
              "#fdca26"
             ],
             [
              1,
              "#f0f921"
             ]
            ],
            "type": "contour"
           }
          ],
          "contourcarpet": [
           {
            "colorbar": {
             "outlinewidth": 0,
             "ticks": ""
            },
            "type": "contourcarpet"
           }
          ],
          "heatmap": [
           {
            "colorbar": {
             "outlinewidth": 0,
             "ticks": ""
            },
            "colorscale": [
             [
              0,
              "#0d0887"
             ],
             [
              0.1111111111111111,
              "#46039f"
             ],
             [
              0.2222222222222222,
              "#7201a8"
             ],
             [
              0.3333333333333333,
              "#9c179e"
             ],
             [
              0.4444444444444444,
              "#bd3786"
             ],
             [
              0.5555555555555556,
              "#d8576b"
             ],
             [
              0.6666666666666666,
              "#ed7953"
             ],
             [
              0.7777777777777778,
              "#fb9f3a"
             ],
             [
              0.8888888888888888,
              "#fdca26"
             ],
             [
              1,
              "#f0f921"
             ]
            ],
            "type": "heatmap"
           }
          ],
          "histogram": [
           {
            "marker": {
             "pattern": {
              "fillmode": "overlay",
              "size": 10,
              "solidity": 0.2
             }
            },
            "type": "histogram"
           }
          ],
          "histogram2d": [
           {
            "colorbar": {
             "outlinewidth": 0,
             "ticks": ""
            },
            "colorscale": [
             [
              0,
              "#0d0887"
             ],
             [
              0.1111111111111111,
              "#46039f"
             ],
             [
              0.2222222222222222,
              "#7201a8"
             ],
             [
              0.3333333333333333,
              "#9c179e"
             ],
             [
              0.4444444444444444,
              "#bd3786"
             ],
             [
              0.5555555555555556,
              "#d8576b"
             ],
             [
              0.6666666666666666,
              "#ed7953"
             ],
             [
              0.7777777777777778,
              "#fb9f3a"
             ],
             [
              0.8888888888888888,
              "#fdca26"
             ],
             [
              1,
              "#f0f921"
             ]
            ],
            "type": "histogram2d"
           }
          ],
          "histogram2dcontour": [
           {
            "colorbar": {
             "outlinewidth": 0,
             "ticks": ""
            },
            "colorscale": [
             [
              0,
              "#0d0887"
             ],
             [
              0.1111111111111111,
              "#46039f"
             ],
             [
              0.2222222222222222,
              "#7201a8"
             ],
             [
              0.3333333333333333,
              "#9c179e"
             ],
             [
              0.4444444444444444,
              "#bd3786"
             ],
             [
              0.5555555555555556,
              "#d8576b"
             ],
             [
              0.6666666666666666,
              "#ed7953"
             ],
             [
              0.7777777777777778,
              "#fb9f3a"
             ],
             [
              0.8888888888888888,
              "#fdca26"
             ],
             [
              1,
              "#f0f921"
             ]
            ],
            "type": "histogram2dcontour"
           }
          ],
          "mesh3d": [
           {
            "colorbar": {
             "outlinewidth": 0,
             "ticks": ""
            },
            "type": "mesh3d"
           }
          ],
          "parcoords": [
           {
            "line": {
             "colorbar": {
              "outlinewidth": 0,
              "ticks": ""
             }
            },
            "type": "parcoords"
           }
          ],
          "pie": [
           {
            "automargin": true,
            "type": "pie"
           }
          ],
          "scatter": [
           {
            "fillpattern": {
             "fillmode": "overlay",
             "size": 10,
             "solidity": 0.2
            },
            "type": "scatter"
           }
          ],
          "scatter3d": [
           {
            "line": {
             "colorbar": {
              "outlinewidth": 0,
              "ticks": ""
             }
            },
            "marker": {
             "colorbar": {
              "outlinewidth": 0,
              "ticks": ""
             }
            },
            "type": "scatter3d"
           }
          ],
          "scattercarpet": [
           {
            "marker": {
             "colorbar": {
              "outlinewidth": 0,
              "ticks": ""
             }
            },
            "type": "scattercarpet"
           }
          ],
          "scattergeo": [
           {
            "marker": {
             "colorbar": {
              "outlinewidth": 0,
              "ticks": ""
             }
            },
            "type": "scattergeo"
           }
          ],
          "scattergl": [
           {
            "marker": {
             "colorbar": {
              "outlinewidth": 0,
              "ticks": ""
             }
            },
            "type": "scattergl"
           }
          ],
          "scattermap": [
           {
            "marker": {
             "colorbar": {
              "outlinewidth": 0,
              "ticks": ""
             }
            },
            "type": "scattermap"
           }
          ],
          "scattermapbox": [
           {
            "marker": {
             "colorbar": {
              "outlinewidth": 0,
              "ticks": ""
             }
            },
            "type": "scattermapbox"
           }
          ],
          "scatterpolar": [
           {
            "marker": {
             "colorbar": {
              "outlinewidth": 0,
              "ticks": ""
             }
            },
            "type": "scatterpolar"
           }
          ],
          "scatterpolargl": [
           {
            "marker": {
             "colorbar": {
              "outlinewidth": 0,
              "ticks": ""
             }
            },
            "type": "scatterpolargl"
           }
          ],
          "scatterternary": [
           {
            "marker": {
             "colorbar": {
              "outlinewidth": 0,
              "ticks": ""
             }
            },
            "type": "scatterternary"
           }
          ],
          "surface": [
           {
            "colorbar": {
             "outlinewidth": 0,
             "ticks": ""
            },
            "colorscale": [
             [
              0,
              "#0d0887"
             ],
             [
              0.1111111111111111,
              "#46039f"
             ],
             [
              0.2222222222222222,
              "#7201a8"
             ],
             [
              0.3333333333333333,
              "#9c179e"
             ],
             [
              0.4444444444444444,
              "#bd3786"
             ],
             [
              0.5555555555555556,
              "#d8576b"
             ],
             [
              0.6666666666666666,
              "#ed7953"
             ],
             [
              0.7777777777777778,
              "#fb9f3a"
             ],
             [
              0.8888888888888888,
              "#fdca26"
             ],
             [
              1,
              "#f0f921"
             ]
            ],
            "type": "surface"
           }
          ],
          "table": [
           {
            "cells": {
             "fill": {
              "color": "#EBF0F8"
             },
             "line": {
              "color": "white"
             }
            },
            "header": {
             "fill": {
              "color": "#C8D4E3"
             },
             "line": {
              "color": "white"
             }
            },
            "type": "table"
           }
          ]
         },
         "layout": {
          "annotationdefaults": {
           "arrowcolor": "#2a3f5f",
           "arrowhead": 0,
           "arrowwidth": 1
          },
          "autotypenumbers": "strict",
          "coloraxis": {
           "colorbar": {
            "outlinewidth": 0,
            "ticks": ""
           }
          },
          "colorscale": {
           "diverging": [
            [
             0,
             "#8e0152"
            ],
            [
             0.1,
             "#c51b7d"
            ],
            [
             0.2,
             "#de77ae"
            ],
            [
             0.3,
             "#f1b6da"
            ],
            [
             0.4,
             "#fde0ef"
            ],
            [
             0.5,
             "#f7f7f7"
            ],
            [
             0.6,
             "#e6f5d0"
            ],
            [
             0.7,
             "#b8e186"
            ],
            [
             0.8,
             "#7fbc41"
            ],
            [
             0.9,
             "#4d9221"
            ],
            [
             1,
             "#276419"
            ]
           ],
           "sequential": [
            [
             0,
             "#0d0887"
            ],
            [
             0.1111111111111111,
             "#46039f"
            ],
            [
             0.2222222222222222,
             "#7201a8"
            ],
            [
             0.3333333333333333,
             "#9c179e"
            ],
            [
             0.4444444444444444,
             "#bd3786"
            ],
            [
             0.5555555555555556,
             "#d8576b"
            ],
            [
             0.6666666666666666,
             "#ed7953"
            ],
            [
             0.7777777777777778,
             "#fb9f3a"
            ],
            [
             0.8888888888888888,
             "#fdca26"
            ],
            [
             1,
             "#f0f921"
            ]
           ],
           "sequentialminus": [
            [
             0,
             "#0d0887"
            ],
            [
             0.1111111111111111,
             "#46039f"
            ],
            [
             0.2222222222222222,
             "#7201a8"
            ],
            [
             0.3333333333333333,
             "#9c179e"
            ],
            [
             0.4444444444444444,
             "#bd3786"
            ],
            [
             0.5555555555555556,
             "#d8576b"
            ],
            [
             0.6666666666666666,
             "#ed7953"
            ],
            [
             0.7777777777777778,
             "#fb9f3a"
            ],
            [
             0.8888888888888888,
             "#fdca26"
            ],
            [
             1,
             "#f0f921"
            ]
           ]
          },
          "colorway": [
           "#636efa",
           "#EF553B",
           "#00cc96",
           "#ab63fa",
           "#FFA15A",
           "#19d3f3",
           "#FF6692",
           "#B6E880",
           "#FF97FF",
           "#FECB52"
          ],
          "font": {
           "color": "#2a3f5f"
          },
          "geo": {
           "bgcolor": "white",
           "lakecolor": "white",
           "landcolor": "#E5ECF6",
           "showlakes": true,
           "showland": true,
           "subunitcolor": "white"
          },
          "hoverlabel": {
           "align": "left"
          },
          "hovermode": "closest",
          "mapbox": {
           "style": "light"
          },
          "paper_bgcolor": "white",
          "plot_bgcolor": "#E5ECF6",
          "polar": {
           "angularaxis": {
            "gridcolor": "white",
            "linecolor": "white",
            "ticks": ""
           },
           "bgcolor": "#E5ECF6",
           "radialaxis": {
            "gridcolor": "white",
            "linecolor": "white",
            "ticks": ""
           }
          },
          "scene": {
           "xaxis": {
            "backgroundcolor": "#E5ECF6",
            "gridcolor": "white",
            "gridwidth": 2,
            "linecolor": "white",
            "showbackground": true,
            "ticks": "",
            "zerolinecolor": "white"
           },
           "yaxis": {
            "backgroundcolor": "#E5ECF6",
            "gridcolor": "white",
            "gridwidth": 2,
            "linecolor": "white",
            "showbackground": true,
            "ticks": "",
            "zerolinecolor": "white"
           },
           "zaxis": {
            "backgroundcolor": "#E5ECF6",
            "gridcolor": "white",
            "gridwidth": 2,
            "linecolor": "white",
            "showbackground": true,
            "ticks": "",
            "zerolinecolor": "white"
           }
          },
          "shapedefaults": {
           "line": {
            "color": "#2a3f5f"
           }
          },
          "ternary": {
           "aaxis": {
            "gridcolor": "white",
            "linecolor": "white",
            "ticks": ""
           },
           "baxis": {
            "gridcolor": "white",
            "linecolor": "white",
            "ticks": ""
           },
           "bgcolor": "#E5ECF6",
           "caxis": {
            "gridcolor": "white",
            "linecolor": "white",
            "ticks": ""
           }
          },
          "title": {
           "x": 0.05
          },
          "xaxis": {
           "automargin": true,
           "gridcolor": "white",
           "linecolor": "white",
           "ticks": "",
           "title": {
            "standoff": 15
           },
           "zerolinecolor": "white",
           "zerolinewidth": 2
          },
          "yaxis": {
           "automargin": true,
           "gridcolor": "white",
           "linecolor": "white",
           "ticks": "",
           "title": {
            "standoff": 15
           },
           "zerolinecolor": "white",
           "zerolinewidth": 2
          }
         }
        },
        "title": {
         "text": "Distribucion de Edad"
        },
        "xaxis": {
         "anchor": "y",
         "domain": [
          0,
          1
         ],
         "title": {
          "text": "age"
         }
        },
        "yaxis": {
         "anchor": "x",
         "domain": [
          0,
          1
         ],
         "title": {
          "text": "count"
         }
        }
       }
      }
     },
     "metadata": {},
     "output_type": "display_data"
    }
   ],
   "source": [
    "def univariante_analysis(df):\n",
    "    ''' Función de análisis univariante'''\n",
    "    print('=== Análisis Univariante===')\n",
    "    \n",
    "    # Estadística Descriptiva\n",
    "    print(f'\\nEstadística descriptivas:\\n {df_bank_loan.describe()}')\n",
    "    \n",
    "    # columna de edad transformada\n",
    "    ed_map={\n",
    "        1: \"Postgrado / Máster / Doctorado\",\n",
    "        2: \"Universidad / Grado\",\n",
    "        3: \"Secundaria / Bachillerato\",\n",
    "        4: \"Primaria\",\n",
    "        5: \"Sin estudios\"\n",
    "    }\n",
    "    df_bank_loan['ed_text'] = df_bank_loan['ed'].map(ed_map)\n",
    "    # Distribución de variables numéricas\n",
    "    numeric_cols = ['age', 'ed_text', 'employ', 'address', 'income', 'debtinc', 'creddebt', 'othdebt']\n",
    "\n",
    "    fig = px.histogram(df_bank_loan, x='age', nbins=30, title='Distribucion de Edad')\n",
    "    fig.show()    \n",
    "\n",
    "    # variables categóricas\n",
    "    fig = px.pie(df_bank_loan, names='ed_text', title='Distribució')\n",
    "    \n",
    "univariante_analysis(df_bank_loan)"
   ]
  },
  {
   "cell_type": "code",
   "execution_count": 88,
   "id": "135b01a9",
   "metadata": {},
   "outputs": [
    {
     "name": "stdout",
     "output_type": "stream",
     "text": [
      "=== Análisis Univariante===\n",
      "\n",
      "Estadística descriptivas:\n",
      "               age          ed      employ     address        income  \\\n",
      "count  680.000000  680.000000  700.000000  700.000000  6.630000e+02   \n",
      "mean    34.750000    1.717647    8.388571    8.268571  4.574359e+07   \n",
      "std      7.973215    0.925652    6.658039    6.821609  3.744108e+07   \n",
      "min     20.000000    1.000000    0.000000    0.000000  1.400000e+07   \n",
      "25%     28.000000    1.000000    3.000000    3.000000  2.400000e+07   \n",
      "50%     34.000000    1.000000    7.000000    7.000000  3.400000e+07   \n",
      "75%     40.000000    2.000000   12.000000   12.000000  5.450000e+07   \n",
      "max     56.000000    5.000000   31.000000   34.000000  4.460000e+08   \n",
      "\n",
      "            debtinc      creddebt       othdebt     default  \n",
      "count  7.000000e+02  7.000000e+02  7.000000e+02  698.000000  \n",
      "mean   1.026057e+07  1.553553e+06  3.058209e+06    0.262178  \n",
      "std    6.827234e+06  2.117197e+06  3.287555e+06    0.440134  \n",
      "min    4.000000e+05  1.169600e+04  4.558400e+04    0.000000  \n",
      "25%    5.000000e+06  3.690592e+05  1.044178e+06    0.000000  \n",
      "50%    8.600000e+06  8.548695e+05  1.987568e+06    0.000000  \n",
      "75%    1.412500e+07  1.901955e+06  3.923065e+06    1.000000  \n",
      "max    4.130000e+07  2.056131e+07  2.703360e+07    1.000000  \n"
     ]
    },
    {
     "data": {
      "application/vnd.plotly.v1+json": {
       "config": {
        "plotlyServerURL": "https://plot.ly"
       },
       "data": [
        {
         "bingroup": "x",
         "hovertemplate": "age=%{x}<br>count=%{y}<extra></extra>",
         "legendgroup": "",
         "marker": {
          "color": "#636efa",
          "pattern": {
           "shape": ""
          }
         },
         "name": "",
         "nbinsx": 30,
         "orientation": "v",
         "showlegend": false,
         "type": "histogram",
         "x": {
          "bdata": "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",
          "dtype": "f8"
         },
         "xaxis": "x",
         "yaxis": "y"
        }
       ],
       "layout": {
        "barmode": "relative",
        "legend": {
         "tracegroupgap": 0
        },
        "template": {
         "data": {
          "bar": [
           {
            "error_x": {
             "color": "#2a3f5f"
            },
            "error_y": {
             "color": "#2a3f5f"
            },
            "marker": {
             "line": {
              "color": "#E5ECF6",
              "width": 0.5
             },
             "pattern": {
              "fillmode": "overlay",
              "size": 10,
              "solidity": 0.2
             }
            },
            "type": "bar"
           }
          ],
          "barpolar": [
           {
            "marker": {
             "line": {
              "color": "#E5ECF6",
              "width": 0.5
             },
             "pattern": {
              "fillmode": "overlay",
              "size": 10,
              "solidity": 0.2
             }
            },
            "type": "barpolar"
           }
          ],
          "carpet": [
           {
            "aaxis": {
             "endlinecolor": "#2a3f5f",
             "gridcolor": "white",
             "linecolor": "white",
             "minorgridcolor": "white",
             "startlinecolor": "#2a3f5f"
            },
            "baxis": {
             "endlinecolor": "#2a3f5f",
             "gridcolor": "white",
             "linecolor": "white",
             "minorgridcolor": "white",
             "startlinecolor": "#2a3f5f"
            },
            "type": "carpet"
           }
          ],
          "choropleth": [
           {
            "colorbar": {
             "outlinewidth": 0,
             "ticks": ""
            },
            "type": "choropleth"
           }
          ],
          "contour": [
           {
            "colorbar": {
             "outlinewidth": 0,
             "ticks": ""
            },
            "colorscale": [
             [
              0,
              "#0d0887"
             ],
             [
              0.1111111111111111,
              "#46039f"
             ],
             [
              0.2222222222222222,
              "#7201a8"
             ],
             [
              0.3333333333333333,
              "#9c179e"
             ],
             [
              0.4444444444444444,
              "#bd3786"
             ],
             [
              0.5555555555555556,
              "#d8576b"
             ],
             [
              0.6666666666666666,
              "#ed7953"
             ],
             [
              0.7777777777777778,
              "#fb9f3a"
             ],
             [
              0.8888888888888888,
              "#fdca26"
             ],
             [
              1,
              "#f0f921"
             ]
            ],
            "type": "contour"
           }
          ],
          "contourcarpet": [
           {
            "colorbar": {
             "outlinewidth": 0,
             "ticks": ""
            },
            "type": "contourcarpet"
           }
          ],
          "heatmap": [
           {
            "colorbar": {
             "outlinewidth": 0,
             "ticks": ""
            },
            "colorscale": [
             [
              0,
              "#0d0887"
             ],
             [
              0.1111111111111111,
              "#46039f"
             ],
             [
              0.2222222222222222,
              "#7201a8"
             ],
             [
              0.3333333333333333,
              "#9c179e"
             ],
             [
              0.4444444444444444,
              "#bd3786"
             ],
             [
              0.5555555555555556,
              "#d8576b"
             ],
             [
              0.6666666666666666,
              "#ed7953"
             ],
             [
              0.7777777777777778,
              "#fb9f3a"
             ],
             [
              0.8888888888888888,
              "#fdca26"
             ],
             [
              1,
              "#f0f921"
             ]
            ],
            "type": "heatmap"
           }
          ],
          "histogram": [
           {
            "marker": {
             "pattern": {
              "fillmode": "overlay",
              "size": 10,
              "solidity": 0.2
             }
            },
            "type": "histogram"
           }
          ],
          "histogram2d": [
           {
            "colorbar": {
             "outlinewidth": 0,
             "ticks": ""
            },
            "colorscale": [
             [
              0,
              "#0d0887"
             ],
             [
              0.1111111111111111,
              "#46039f"
             ],
             [
              0.2222222222222222,
              "#7201a8"
             ],
             [
              0.3333333333333333,
              "#9c179e"
             ],
             [
              0.4444444444444444,
              "#bd3786"
             ],
             [
              0.5555555555555556,
              "#d8576b"
             ],
             [
              0.6666666666666666,
              "#ed7953"
             ],
             [
              0.7777777777777778,
              "#fb9f3a"
             ],
             [
              0.8888888888888888,
              "#fdca26"
             ],
             [
              1,
              "#f0f921"
             ]
            ],
            "type": "histogram2d"
           }
          ],
          "histogram2dcontour": [
           {
            "colorbar": {
             "outlinewidth": 0,
             "ticks": ""
            },
            "colorscale": [
             [
              0,
              "#0d0887"
             ],
             [
              0.1111111111111111,
              "#46039f"
             ],
             [
              0.2222222222222222,
              "#7201a8"
             ],
             [
              0.3333333333333333,
              "#9c179e"
             ],
             [
              0.4444444444444444,
              "#bd3786"
             ],
             [
              0.5555555555555556,
              "#d8576b"
             ],
             [
              0.6666666666666666,
              "#ed7953"
             ],
             [
              0.7777777777777778,
              "#fb9f3a"
             ],
             [
              0.8888888888888888,
              "#fdca26"
             ],
             [
              1,
              "#f0f921"
             ]
            ],
            "type": "histogram2dcontour"
           }
          ],
          "mesh3d": [
           {
            "colorbar": {
             "outlinewidth": 0,
             "ticks": ""
            },
            "type": "mesh3d"
           }
          ],
          "parcoords": [
           {
            "line": {
             "colorbar": {
              "outlinewidth": 0,
              "ticks": ""
             }
            },
            "type": "parcoords"
           }
          ],
          "pie": [
           {
            "automargin": true,
            "type": "pie"
           }
          ],
          "scatter": [
           {
            "fillpattern": {
             "fillmode": "overlay",
             "size": 10,
             "solidity": 0.2
            },
            "type": "scatter"
           }
          ],
          "scatter3d": [
           {
            "line": {
             "colorbar": {
              "outlinewidth": 0,
              "ticks": ""
             }
            },
            "marker": {
             "colorbar": {
              "outlinewidth": 0,
              "ticks": ""
             }
            },
            "type": "scatter3d"
           }
          ],
          "scattercarpet": [
           {
            "marker": {
             "colorbar": {
              "outlinewidth": 0,
              "ticks": ""
             }
            },
            "type": "scattercarpet"
           }
          ],
          "scattergeo": [
           {
            "marker": {
             "colorbar": {
              "outlinewidth": 0,
              "ticks": ""
             }
            },
            "type": "scattergeo"
           }
          ],
          "scattergl": [
           {
            "marker": {
             "colorbar": {
              "outlinewidth": 0,
              "ticks": ""
             }
            },
            "type": "scattergl"
           }
          ],
          "scattermap": [
           {
            "marker": {
             "colorbar": {
              "outlinewidth": 0,
              "ticks": ""
             }
            },
            "type": "scattermap"
           }
          ],
          "scattermapbox": [
           {
            "marker": {
             "colorbar": {
              "outlinewidth": 0,
              "ticks": ""
             }
            },
            "type": "scattermapbox"
           }
          ],
          "scatterpolar": [
           {
            "marker": {
             "colorbar": {
              "outlinewidth": 0,
              "ticks": ""
             }
            },
            "type": "scatterpolar"
           }
          ],
          "scatterpolargl": [
           {
            "marker": {
             "colorbar": {
              "outlinewidth": 0,
              "ticks": ""
             }
            },
            "type": "scatterpolargl"
           }
          ],
          "scatterternary": [
           {
            "marker": {
             "colorbar": {
              "outlinewidth": 0,
              "ticks": ""
             }
            },
            "type": "scatterternary"
           }
          ],
          "surface": [
           {
            "colorbar": {
             "outlinewidth": 0,
             "ticks": ""
            },
            "colorscale": [
             [
              0,
              "#0d0887"
             ],
             [
              0.1111111111111111,
              "#46039f"
             ],
             [
              0.2222222222222222,
              "#7201a8"
             ],
             [
              0.3333333333333333,
              "#9c179e"
             ],
             [
              0.4444444444444444,
              "#bd3786"
             ],
             [
              0.5555555555555556,
              "#d8576b"
             ],
             [
              0.6666666666666666,
              "#ed7953"
             ],
             [
              0.7777777777777778,
              "#fb9f3a"
             ],
             [
              0.8888888888888888,
              "#fdca26"
             ],
             [
              1,
              "#f0f921"
             ]
            ],
            "type": "surface"
           }
          ],
          "table": [
           {
            "cells": {
             "fill": {
              "color": "#EBF0F8"
             },
             "line": {
              "color": "white"
             }
            },
            "header": {
             "fill": {
              "color": "#C8D4E3"
             },
             "line": {
              "color": "white"
             }
            },
            "type": "table"
           }
          ]
         },
         "layout": {
          "annotationdefaults": {
           "arrowcolor": "#2a3f5f",
           "arrowhead": 0,
           "arrowwidth": 1
          },
          "autotypenumbers": "strict",
          "coloraxis": {
           "colorbar": {
            "outlinewidth": 0,
            "ticks": ""
           }
          },
          "colorscale": {
           "diverging": [
            [
             0,
             "#8e0152"
            ],
            [
             0.1,
             "#c51b7d"
            ],
            [
             0.2,
             "#de77ae"
            ],
            [
             0.3,
             "#f1b6da"
            ],
            [
             0.4,
             "#fde0ef"
            ],
            [
             0.5,
             "#f7f7f7"
            ],
            [
             0.6,
             "#e6f5d0"
            ],
            [
             0.7,
             "#b8e186"
            ],
            [
             0.8,
             "#7fbc41"
            ],
            [
             0.9,
             "#4d9221"
            ],
            [
             1,
             "#276419"
            ]
           ],
           "sequential": [
            [
             0,
             "#0d0887"
            ],
            [
             0.1111111111111111,
             "#46039f"
            ],
            [
             0.2222222222222222,
             "#7201a8"
            ],
            [
             0.3333333333333333,
             "#9c179e"
            ],
            [
             0.4444444444444444,
             "#bd3786"
            ],
            [
             0.5555555555555556,
             "#d8576b"
            ],
            [
             0.6666666666666666,
             "#ed7953"
            ],
            [
             0.7777777777777778,
             "#fb9f3a"
            ],
            [
             0.8888888888888888,
             "#fdca26"
            ],
            [
             1,
             "#f0f921"
            ]
           ],
           "sequentialminus": [
            [
             0,
             "#0d0887"
            ],
            [
             0.1111111111111111,
             "#46039f"
            ],
            [
             0.2222222222222222,
             "#7201a8"
            ],
            [
             0.3333333333333333,
             "#9c179e"
            ],
            [
             0.4444444444444444,
             "#bd3786"
            ],
            [
             0.5555555555555556,
             "#d8576b"
            ],
            [
             0.6666666666666666,
             "#ed7953"
            ],
            [
             0.7777777777777778,
             "#fb9f3a"
            ],
            [
             0.8888888888888888,
             "#fdca26"
            ],
            [
             1,
             "#f0f921"
            ]
           ]
          },
          "colorway": [
           "#636efa",
           "#EF553B",
           "#00cc96",
           "#ab63fa",
           "#FFA15A",
           "#19d3f3",
           "#FF6692",
           "#B6E880",
           "#FF97FF",
           "#FECB52"
          ],
          "font": {
           "color": "#2a3f5f"
          },
          "geo": {
           "bgcolor": "white",
           "lakecolor": "white",
           "landcolor": "#E5ECF6",
           "showlakes": true,
           "showland": true,
           "subunitcolor": "white"
          },
          "hoverlabel": {
           "align": "left"
          },
          "hovermode": "closest",
          "mapbox": {
           "style": "light"
          },
          "paper_bgcolor": "white",
          "plot_bgcolor": "#E5ECF6",
          "polar": {
           "angularaxis": {
            "gridcolor": "white",
            "linecolor": "white",
            "ticks": ""
           },
           "bgcolor": "#E5ECF6",
           "radialaxis": {
            "gridcolor": "white",
            "linecolor": "white",
            "ticks": ""
           }
          },
          "scene": {
           "xaxis": {
            "backgroundcolor": "#E5ECF6",
            "gridcolor": "white",
            "gridwidth": 2,
            "linecolor": "white",
            "showbackground": true,
            "ticks": "",
            "zerolinecolor": "white"
           },
           "yaxis": {
            "backgroundcolor": "#E5ECF6",
            "gridcolor": "white",
            "gridwidth": 2,
            "linecolor": "white",
            "showbackground": true,
            "ticks": "",
            "zerolinecolor": "white"
           },
           "zaxis": {
            "backgroundcolor": "#E5ECF6",
            "gridcolor": "white",
            "gridwidth": 2,
            "linecolor": "white",
            "showbackground": true,
            "ticks": "",
            "zerolinecolor": "white"
           }
          },
          "shapedefaults": {
           "line": {
            "color": "#2a3f5f"
           }
          },
          "ternary": {
           "aaxis": {
            "gridcolor": "white",
            "linecolor": "white",
            "ticks": ""
           },
           "baxis": {
            "gridcolor": "white",
            "linecolor": "white",
            "ticks": ""
           },
           "bgcolor": "#E5ECF6",
           "caxis": {
            "gridcolor": "white",
            "linecolor": "white",
            "ticks": ""
           }
          },
          "title": {
           "x": 0.05
          },
          "xaxis": {
           "automargin": true,
           "gridcolor": "white",
           "linecolor": "white",
           "ticks": "",
           "title": {
            "standoff": 15
           },
           "zerolinecolor": "white",
           "zerolinewidth": 2
          },
          "yaxis": {
           "automargin": true,
           "gridcolor": "white",
           "linecolor": "white",
           "ticks": "",
           "title": {
            "standoff": 15
           },
           "zerolinecolor": "white",
           "zerolinewidth": 2
          }
         }
        },
        "title": {
         "text": "Distribucion de Edad"
        },
        "xaxis": {
         "anchor": "y",
         "domain": [
          0,
          1
         ],
         "title": {
          "text": "age"
         }
        },
        "yaxis": {
         "anchor": "x",
         "domain": [
          0,
          1
         ],
         "title": {
          "text": "count"
         }
        }
       }
      }
     },
     "metadata": {},
     "output_type": "display_data"
    },
    {
     "data": {
      "application/vnd.plotly.v1+json": {
       "config": {
        "plotlyServerURL": "https://plot.ly"
       },
       "data": [
        {
         "domain": {
          "x": [
           0,
           1
          ],
          "y": [
           0,
           1
          ]
         },
         "hovertemplate": "ed_text=%{label}<extra></extra>",
         "labels": [
          "Secundaria / Bachillerato",
          "Postgrado / Máster / Doctorado",
          "Postgrado / Máster / Doctorado",
          null,
          "Universidad / Grado",
          "Universidad / Grado",
          "Postgrado / Máster / Doctorado",
          "Postgrado / Máster / Doctorado",
          "Postgrado / Máster / Doctorado",
          "Postgrado / Máster / Doctorado",
          "Postgrado / Máster / Doctorado",
          "Postgrado / Máster / Doctorado",
          "Postgrado / Máster / Doctorado",
          "Postgrado / Máster / Doctorado",
          "Postgrado / Máster / Doctorado",
          "Universidad / Grado",
          "Universidad / Grado",
          "Postgrado / Máster / Doctorado",
          "Postgrado / Máster / Doctorado",
          null,
          "Postgrado / Máster / Doctorado",
          "Postgrado / Máster / Doctorado",
          "Postgrado / Máster / Doctorado",
          "Postgrado / Máster / Doctorado",
          null,
          "Primaria",
          "Universidad / Grado",
          "Postgrado / Máster / Doctorado",
          "Universidad / Grado",
          "Secundaria / Bachillerato",
          "Postgrado / Máster / Doctorado",
          "Postgrado / Máster / Doctorado",
          null,
          "Postgrado / Máster / Doctorado",
          "Postgrado / Máster / Doctorado",
          "Universidad / Grado",
          "Universidad / Grado",
          "Universidad / Grado",
          null,
          "Postgrado / Máster / Doctorado",
          "Postgrado / Máster / Doctorado",
          "Postgrado / Máster / Doctorado",
          "Universidad / Grado",
          "Postgrado / Máster / Doctorado",
          "Postgrado / Máster / Doctorado",
          "Universidad / Grado",
          "Postgrado / Máster / Doctorado",
          "Postgrado / Máster / Doctorado",
          "Universidad / Grado",
          "Postgrado / Máster / Doctorado",
          "Postgrado / Máster / Doctorado",
          "Postgrado / Máster / Doctorado",
          "Postgrado / Máster / Doctorado",
          null,
          "Universidad / Grado",
          "Postgrado / Máster / Doctorado",
          "Postgrado / Máster / Doctorado",
          "Universidad / Grado",
          "Secundaria / Bachillerato",
          "Secundaria / Bachillerato",
          "Postgrado / Máster / Doctorado",
          "Postgrado / Máster / Doctorado",
          "Postgrado / Máster / Doctorado",
          "Universidad / Grado",
          "Universidad / Grado",
          "Universidad / Grado",
          "Universidad / Grado",
          "Postgrado / Máster / Doctorado",
          "Universidad / Grado",
          "Postgrado / Máster / Doctorado",
          "Universidad / Grado",
          "Universidad / Grado",
          "Postgrado / Máster / Doctorado",
          "Secundaria / Bachillerato",
          "Postgrado / Máster / Doctorado",
          "Postgrado / Máster / Doctorado",
          "Postgrado / Máster / Doctorado",
          "Postgrado / Máster / Doctorado",
          "Postgrado / Máster / Doctorado",
          "Postgrado / Máster / Doctorado",
          "Postgrado / Máster / Doctorado",
          "Postgrado / Máster / Doctorado",
          "Postgrado / Máster / Doctorado",
          "Primaria",
          "Postgrado / Máster / Doctorado",
          "Postgrado / Máster / Doctorado",
          "Universidad / Grado",
          "Secundaria / Bachillerato",
          "Postgrado / Máster / Doctorado",
          "Universidad / Grado",
          "Postgrado / Máster / Doctorado",
          "Postgrado / Máster / Doctorado",
          "Postgrado / Máster / Doctorado",
          "Universidad / Grado",
          "Secundaria / Bachillerato",
          "Postgrado / Máster / Doctorado",
          null,
          "Postgrado / Máster / Doctorado",
          "Universidad / Grado",
          "Secundaria / Bachillerato",
          "Postgrado / Máster / Doctorado",
          "Postgrado / Máster / Doctorado",
          "Postgrado / Máster / Doctorado",
          "Universidad / Grado",
          "Universidad / Grado",
          "Postgrado / Máster / Doctorado",
          "Postgrado / Máster / Doctorado",
          "Postgrado / Máster / Doctorado",
          "Universidad / Grado",
          "Universidad / Grado",
          "Secundaria / Bachillerato",
          "Postgrado / Máster / Doctorado",
          "Secundaria / Bachillerato",
          null,
          "Postgrado / Máster / Doctorado",
          "Universidad / Grado",
          "Universidad / Grado",
          "Universidad / Grado",
          "Universidad / Grado",
          "Postgrado / Máster / Doctorado",
          "Postgrado / Máster / Doctorado",
          "Postgrado / Máster / Doctorado",
          "Primaria",
          "Postgrado / Máster / Doctorado",
          "Postgrado / Máster / Doctorado",
          "Postgrado / Máster / Doctorado",
          "Universidad / Grado",
          "Universidad / Grado",
          "Postgrado / Máster / Doctorado",
          "Universidad / Grado",
          "Primaria",
          "Postgrado / Máster / Doctorado",
          "Universidad / Grado",
          "Postgrado / Máster / Doctorado",
          "Postgrado / Máster / Doctorado",
          "Universidad / Grado",
          "Universidad / Grado",
          null,
          "Postgrado / Máster / Doctorado",
          "Universidad / Grado",
          "Postgrado / Máster / Doctorado",
          "Postgrado / Máster / Doctorado",
          "Secundaria / Bachillerato",
          "Postgrado / Máster / Doctorado",
          "Postgrado / Máster / Doctorado",
          "Universidad / Grado",
          "Primaria",
          "Primaria",
          "Postgrado / Máster / Doctorado",
          "Postgrado / Máster / Doctorado",
          "Universidad / Grado",
          "Postgrado / Máster / Doctorado",
          "Postgrado / Máster / Doctorado",
          "Postgrado / Máster / Doctorado",
          "Universidad / Grado",
          "Secundaria / Bachillerato",
          "Postgrado / Máster / Doctorado",
          "Postgrado / Máster / Doctorado",
          "Postgrado / Máster / Doctorado",
          "Postgrado / Máster / Doctorado",
          "Postgrado / Máster / Doctorado",
          "Secundaria / Bachillerato",
          "Universidad / Grado",
          "Postgrado / Máster / Doctorado",
          "Universidad / Grado",
          "Universidad / Grado",
          "Postgrado / Máster / Doctorado",
          "Postgrado / Máster / Doctorado",
          "Primaria",
          "Postgrado / Máster / Doctorado",
          "Postgrado / Máster / Doctorado",
          "Postgrado / Máster / Doctorado",
          "Postgrado / Máster / Doctorado",
          "Postgrado / Máster / Doctorado",
          "Postgrado / Máster / Doctorado",
          "Postgrado / Máster / Doctorado",
          "Postgrado / Máster / Doctorado",
          "Universidad / Grado",
          "Postgrado / Máster / Doctorado",
          "Universidad / Grado",
          "Postgrado / Máster / Doctorado",
          "Universidad / Grado",
          "Secundaria / Bachillerato",
          "Postgrado / Máster / Doctorado",
          "Primaria",
          "Postgrado / Máster / Doctorado",
          "Postgrado / Máster / Doctorado",
          "Postgrado / Máster / Doctorado",
          "Postgrado / Máster / Doctorado",
          "Postgrado / Máster / Doctorado",
          "Universidad / Grado",
          "Postgrado / Máster / Doctorado",
          "Postgrado / Máster / Doctorado",
          "Postgrado / Máster / Doctorado",
          "Universidad / Grado",
          "Postgrado / Máster / Doctorado",
          "Postgrado / Máster / Doctorado",
          "Primaria",
          "Postgrado / Máster / Doctorado",
          "Universidad / Grado",
          "Postgrado / Máster / Doctorado",
          "Secundaria / Bachillerato",
          "Primaria",
          "Universidad / Grado",
          "Secundaria / Bachillerato",
          "Secundaria / Bachillerato",
          "Postgrado / Máster / Doctorado",
          "Universidad / Grado",
          "Postgrado / Máster / Doctorado",
          "Universidad / Grado",
          "Secundaria / Bachillerato",
          "Postgrado / Máster / Doctorado",
          "Secundaria / Bachillerato",
          "Secundaria / Bachillerato",
          null,
          "Secundaria / Bachillerato",
          "Postgrado / Máster / Doctorado",
          "Universidad / Grado",
          "Universidad / Grado",
          "Primaria",
          "Postgrado / Máster / Doctorado",
          "Secundaria / Bachillerato",
          "Secundaria / Bachillerato",
          "Secundaria / Bachillerato",
          "Universidad / Grado",
          "Postgrado / Máster / Doctorado",
          "Universidad / Grado",
          "Primaria",
          "Universidad / Grado",
          "Postgrado / Máster / Doctorado",
          "Secundaria / Bachillerato",
          "Postgrado / Máster / Doctorado",
          "Universidad / Grado",
          "Universidad / Grado",
          "Postgrado / Máster / Doctorado",
          "Postgrado / Máster / Doctorado",
          "Universidad / Grado",
          "Universidad / Grado",
          "Universidad / Grado",
          "Postgrado / Máster / Doctorado",
          null,
          "Postgrado / Máster / Doctorado",
          "Universidad / Grado",
          "Secundaria / Bachillerato",
          "Secundaria / Bachillerato",
          "Postgrado / Máster / Doctorado",
          "Postgrado / Máster / Doctorado",
          "Postgrado / Máster / Doctorado",
          "Postgrado / Máster / Doctorado",
          "Universidad / Grado",
          "Universidad / Grado",
          "Postgrado / Máster / Doctorado",
          "Universidad / Grado",
          "Universidad / Grado",
          "Postgrado / Máster / Doctorado",
          "Postgrado / Máster / Doctorado",
          "Postgrado / Máster / Doctorado",
          "Secundaria / Bachillerato",
          "Secundaria / Bachillerato",
          "Universidad / Grado",
          "Postgrado / Máster / Doctorado",
          "Universidad / Grado",
          "Universidad / Grado",
          "Postgrado / Máster / Doctorado",
          "Postgrado / Máster / Doctorado",
          "Postgrado / Máster / Doctorado",
          "Postgrado / Máster / Doctorado",
          "Secundaria / Bachillerato",
          "Postgrado / Máster / Doctorado",
          "Postgrado / Máster / Doctorado",
          "Universidad / Grado",
          "Postgrado / Máster / Doctorado",
          "Secundaria / Bachillerato",
          "Postgrado / Máster / Doctorado",
          "Universidad / Grado",
          "Universidad / Grado",
          "Universidad / Grado",
          "Postgrado / Máster / Doctorado",
          "Postgrado / Máster / Doctorado",
          "Postgrado / Máster / Doctorado",
          "Postgrado / Máster / Doctorado",
          "Postgrado / Máster / Doctorado",
          "Postgrado / Máster / Doctorado",
          "Universidad / Grado",
          "Postgrado / Máster / Doctorado",
          "Universidad / Grado",
          "Postgrado / Máster / Doctorado",
          "Universidad / Grado",
          "Postgrado / Máster / Doctorado",
          "Postgrado / Máster / Doctorado",
          "Universidad / Grado",
          null,
          "Universidad / Grado",
          "Postgrado / Máster / Doctorado",
          "Postgrado / Máster / Doctorado",
          "Postgrado / Máster / Doctorado",
          "Postgrado / Máster / Doctorado",
          "Postgrado / Máster / Doctorado",
          "Universidad / Grado",
          "Postgrado / Máster / Doctorado",
          "Postgrado / Máster / Doctorado",
          "Universidad / Grado",
          "Postgrado / Máster / Doctorado",
          "Postgrado / Máster / Doctorado",
          "Secundaria / Bachillerato",
          "Postgrado / Máster / Doctorado",
          "Secundaria / Bachillerato",
          "Postgrado / Máster / Doctorado",
          "Postgrado / Máster / Doctorado",
          "Postgrado / Máster / Doctorado",
          null,
          "Postgrado / Máster / Doctorado",
          "Postgrado / Máster / Doctorado",
          "Postgrado / Máster / Doctorado",
          "Primaria",
          "Postgrado / Máster / Doctorado",
          "Postgrado / Máster / Doctorado",
          "Primaria",
          "Postgrado / Máster / Doctorado",
          "Secundaria / Bachillerato",
          "Postgrado / Máster / Doctorado",
          "Secundaria / Bachillerato",
          "Postgrado / Máster / Doctorado",
          "Postgrado / Máster / Doctorado",
          "Universidad / Grado",
          "Postgrado / Máster / Doctorado",
          "Postgrado / Máster / Doctorado",
          "Postgrado / Máster / Doctorado",
          "Postgrado / Máster / Doctorado",
          "Postgrado / Máster / Doctorado",
          "Postgrado / Máster / Doctorado",
          "Secundaria / Bachillerato",
          "Primaria",
          "Primaria",
          "Universidad / Grado",
          "Postgrado / Máster / Doctorado",
          "Universidad / Grado",
          "Postgrado / Máster / Doctorado",
          "Secundaria / Bachillerato",
          "Postgrado / Máster / Doctorado",
          "Postgrado / Máster / Doctorado",
          null,
          "Universidad / Grado",
          "Secundaria / Bachillerato",
          "Universidad / Grado",
          "Postgrado / Máster / Doctorado",
          "Universidad / Grado",
          "Postgrado / Máster / Doctorado",
          "Universidad / Grado",
          "Universidad / Grado",
          "Universidad / Grado",
          "Postgrado / Máster / Doctorado",
          "Postgrado / Máster / Doctorado",
          "Universidad / Grado",
          "Secundaria / Bachillerato",
          "Secundaria / Bachillerato",
          "Postgrado / Máster / Doctorado",
          "Universidad / Grado",
          "Secundaria / Bachillerato",
          "Secundaria / Bachillerato",
          "Postgrado / Máster / Doctorado",
          "Universidad / Grado",
          "Postgrado / Máster / Doctorado",
          null,
          "Postgrado / Máster / Doctorado",
          "Universidad / Grado",
          "Sin estudios",
          "Universidad / Grado",
          "Postgrado / Máster / Doctorado",
          "Secundaria / Bachillerato",
          "Postgrado / Máster / Doctorado",
          "Postgrado / Máster / Doctorado",
          "Postgrado / Máster / Doctorado",
          "Postgrado / Máster / Doctorado",
          "Universidad / Grado",
          "Postgrado / Máster / Doctorado",
          "Primaria",
          "Postgrado / Máster / Doctorado",
          "Postgrado / Máster / Doctorado",
          "Postgrado / Máster / Doctorado",
          "Postgrado / Máster / Doctorado",
          "Postgrado / Máster / Doctorado",
          "Universidad / Grado",
          "Postgrado / Máster / Doctorado",
          "Sin estudios",
          "Postgrado / Máster / Doctorado",
          "Postgrado / Máster / Doctorado",
          "Sin estudios",
          null,
          "Postgrado / Máster / Doctorado",
          "Postgrado / Máster / Doctorado",
          "Secundaria / Bachillerato",
          "Postgrado / Máster / Doctorado",
          "Primaria",
          "Secundaria / Bachillerato",
          "Postgrado / Máster / Doctorado",
          "Postgrado / Máster / Doctorado",
          "Postgrado / Máster / Doctorado",
          "Universidad / Grado",
          "Postgrado / Máster / Doctorado",
          "Universidad / Grado",
          "Universidad / Grado",
          "Universidad / Grado",
          "Secundaria / Bachillerato",
          "Postgrado / Máster / Doctorado",
          "Universidad / Grado",
          "Postgrado / Máster / Doctorado",
          "Secundaria / Bachillerato",
          "Postgrado / Máster / Doctorado",
          "Postgrado / Máster / Doctorado",
          "Universidad / Grado",
          "Postgrado / Máster / Doctorado",
          "Postgrado / Máster / Doctorado",
          "Primaria",
          "Universidad / Grado",
          "Universidad / Grado",
          "Postgrado / Máster / Doctorado",
          "Postgrado / Máster / Doctorado",
          "Universidad / Grado",
          "Postgrado / Máster / Doctorado",
          "Postgrado / Máster / Doctorado",
          "Universidad / Grado",
          "Postgrado / Máster / Doctorado",
          "Secundaria / Bachillerato",
          "Primaria",
          "Primaria",
          null,
          "Postgrado / Máster / Doctorado",
          "Postgrado / Máster / Doctorado",
          "Postgrado / Máster / Doctorado",
          "Postgrado / Máster / Doctorado",
          "Postgrado / Máster / Doctorado",
          "Postgrado / Máster / Doctorado",
          "Universidad / Grado",
          "Universidad / Grado",
          "Universidad / Grado",
          "Postgrado / Máster / Doctorado",
          "Secundaria / Bachillerato",
          "Universidad / Grado",
          "Universidad / Grado",
          "Postgrado / Máster / Doctorado",
          "Postgrado / Máster / Doctorado",
          "Postgrado / Máster / Doctorado",
          "Postgrado / Máster / Doctorado",
          "Primaria",
          "Postgrado / Máster / Doctorado",
          "Secundaria / Bachillerato",
          "Postgrado / Máster / Doctorado",
          "Secundaria / Bachillerato",
          null,
          "Postgrado / Máster / Doctorado",
          "Universidad / Grado",
          "Secundaria / Bachillerato",
          "Postgrado / Máster / Doctorado",
          "Primaria",
          "Postgrado / Máster / Doctorado",
          "Sin estudios",
          "Postgrado / Máster / Doctorado",
          "Postgrado / Máster / Doctorado",
          "Postgrado / Máster / Doctorado",
          "Postgrado / Máster / Doctorado",
          "Universidad / Grado",
          "Secundaria / Bachillerato",
          "Universidad / Grado",
          "Postgrado / Máster / Doctorado",
          "Postgrado / Máster / Doctorado",
          "Secundaria / Bachillerato",
          "Universidad / Grado",
          "Universidad / Grado",
          "Universidad / Grado",
          "Secundaria / Bachillerato",
          "Primaria",
          "Postgrado / Máster / Doctorado",
          "Postgrado / Máster / Doctorado",
          "Universidad / Grado",
          "Universidad / Grado",
          "Postgrado / Máster / Doctorado",
          "Postgrado / Máster / Doctorado",
          "Universidad / Grado",
          "Postgrado / Máster / Doctorado",
          "Postgrado / Máster / Doctorado",
          "Universidad / Grado",
          "Postgrado / Máster / Doctorado",
          "Universidad / Grado",
          "Secundaria / Bachillerato",
          "Universidad / Grado",
          "Primaria",
          "Universidad / Grado",
          "Universidad / Grado",
          "Universidad / Grado",
          "Postgrado / Máster / Doctorado",
          "Secundaria / Bachillerato",
          "Postgrado / Máster / Doctorado",
          "Secundaria / Bachillerato",
          "Postgrado / Máster / Doctorado",
          "Universidad / Grado",
          null,
          "Universidad / Grado",
          "Postgrado / Máster / Doctorado",
          "Universidad / Grado",
          "Secundaria / Bachillerato",
          "Universidad / Grado",
          "Sin estudios",
          "Postgrado / Máster / Doctorado",
          "Universidad / Grado",
          "Secundaria / Bachillerato",
          "Postgrado / Máster / Doctorado",
          "Postgrado / Máster / Doctorado",
          "Universidad / Grado",
          "Postgrado / Máster / Doctorado",
          "Universidad / Grado",
          "Secundaria / Bachillerato",
          "Universidad / Grado",
          "Postgrado / Máster / Doctorado",
          "Universidad / Grado",
          "Universidad / Grado",
          "Postgrado / Máster / Doctorado",
          "Secundaria / Bachillerato",
          "Postgrado / Máster / Doctorado",
          "Universidad / Grado",
          "Secundaria / Bachillerato",
          "Universidad / Grado",
          "Postgrado / Máster / Doctorado",
          "Postgrado / Máster / Doctorado",
          "Postgrado / Máster / Doctorado",
          "Postgrado / Máster / Doctorado",
          "Postgrado / Máster / Doctorado",
          "Postgrado / Máster / Doctorado",
          "Universidad / Grado",
          "Postgrado / Máster / Doctorado",
          null,
          "Secundaria / Bachillerato",
          "Universidad / Grado",
          "Postgrado / Máster / Doctorado",
          "Postgrado / Máster / Doctorado",
          "Postgrado / Máster / Doctorado",
          "Universidad / Grado",
          "Universidad / Grado",
          "Universidad / Grado",
          "Postgrado / Máster / Doctorado",
          "Postgrado / Máster / Doctorado",
          "Postgrado / Máster / Doctorado",
          "Universidad / Grado",
          "Postgrado / Máster / Doctorado",
          "Secundaria / Bachillerato",
          "Universidad / Grado",
          "Universidad / Grado",
          "Primaria",
          "Universidad / Grado",
          "Secundaria / Bachillerato",
          "Postgrado / Máster / Doctorado",
          "Universidad / Grado",
          "Universidad / Grado",
          "Universidad / Grado",
          "Postgrado / Máster / Doctorado",
          "Postgrado / Máster / Doctorado",
          "Secundaria / Bachillerato",
          "Primaria",
          "Postgrado / Máster / Doctorado",
          "Secundaria / Bachillerato",
          "Universidad / Grado",
          "Universidad / Grado",
          "Secundaria / Bachillerato",
          "Universidad / Grado",
          "Secundaria / Bachillerato",
          "Primaria",
          "Secundaria / Bachillerato",
          "Universidad / Grado",
          "Secundaria / Bachillerato",
          "Postgrado / Máster / Doctorado",
          "Primaria",
          "Postgrado / Máster / Doctorado",
          "Postgrado / Máster / Doctorado",
          "Postgrado / Máster / Doctorado",
          "Postgrado / Máster / Doctorado",
          "Postgrado / Máster / Doctorado",
          "Postgrado / Máster / Doctorado",
          "Universidad / Grado",
          "Universidad / Grado",
          "Postgrado / Máster / Doctorado",
          "Universidad / Grado",
          "Postgrado / Máster / Doctorado",
          "Postgrado / Máster / Doctorado",
          "Secundaria / Bachillerato",
          "Primaria",
          "Postgrado / Máster / Doctorado",
          "Universidad / Grado",
          "Postgrado / Máster / Doctorado",
          "Postgrado / Máster / Doctorado",
          "Universidad / Grado",
          "Postgrado / Máster / Doctorado",
          "Secundaria / Bachillerato",
          "Primaria",
          "Postgrado / Máster / Doctorado",
          "Postgrado / Máster / Doctorado",
          "Postgrado / Máster / Doctorado",
          "Primaria",
          "Universidad / Grado",
          "Postgrado / Máster / Doctorado",
          "Universidad / Grado",
          "Secundaria / Bachillerato",
          "Postgrado / Máster / Doctorado",
          "Universidad / Grado",
          "Primaria",
          "Postgrado / Máster / Doctorado",
          "Postgrado / Máster / Doctorado",
          "Postgrado / Máster / Doctorado",
          "Postgrado / Máster / Doctorado",
          "Postgrado / Máster / Doctorado",
          "Universidad / Grado",
          "Universidad / Grado",
          "Postgrado / Máster / Doctorado",
          "Secundaria / Bachillerato",
          "Universidad / Grado",
          "Secundaria / Bachillerato",
          "Postgrado / Máster / Doctorado",
          "Postgrado / Máster / Doctorado",
          "Universidad / Grado",
          "Universidad / Grado",
          "Universidad / Grado",
          "Postgrado / Máster / Doctorado",
          "Universidad / Grado",
          "Universidad / Grado",
          "Postgrado / Máster / Doctorado",
          "Postgrado / Máster / Doctorado",
          "Primaria",
          "Postgrado / Máster / Doctorado",
          "Postgrado / Máster / Doctorado",
          "Postgrado / Máster / Doctorado",
          "Postgrado / Máster / Doctorado",
          "Primaria",
          "Secundaria / Bachillerato",
          "Postgrado / Máster / Doctorado",
          "Postgrado / Máster / Doctorado",
          "Secundaria / Bachillerato",
          "Postgrado / Máster / Doctorado",
          "Universidad / Grado",
          "Postgrado / Máster / Doctorado",
          "Universidad / Grado",
          "Postgrado / Máster / Doctorado",
          "Postgrado / Máster / Doctorado",
          "Universidad / Grado",
          "Universidad / Grado",
          "Universidad / Grado",
          "Postgrado / Máster / Doctorado",
          "Universidad / Grado",
          "Postgrado / Máster / Doctorado",
          "Postgrado / Máster / Doctorado",
          "Postgrado / Máster / Doctorado",
          "Universidad / Grado",
          "Postgrado / Máster / Doctorado",
          "Postgrado / Máster / Doctorado",
          "Postgrado / Máster / Doctorado",
          "Secundaria / Bachillerato",
          "Postgrado / Máster / Doctorado",
          "Postgrado / Máster / Doctorado",
          "Postgrado / Máster / Doctorado",
          "Postgrado / Máster / Doctorado",
          "Postgrado / Máster / Doctorado",
          "Universidad / Grado",
          "Postgrado / Máster / Doctorado",
          "Universidad / Grado",
          "Secundaria / Bachillerato",
          "Postgrado / Máster / Doctorado",
          "Postgrado / Máster / Doctorado",
          "Postgrado / Máster / Doctorado",
          "Universidad / Grado",
          "Postgrado / Máster / Doctorado",
          "Postgrado / Máster / Doctorado",
          "Secundaria / Bachillerato",
          "Universidad / Grado",
          "Postgrado / Máster / Doctorado",
          "Postgrado / Máster / Doctorado",
          "Postgrado / Máster / Doctorado",
          "Universidad / Grado",
          "Universidad / Grado",
          "Universidad / Grado",
          "Postgrado / Máster / Doctorado",
          "Postgrado / Máster / Doctorado",
          "Postgrado / Máster / Doctorado",
          "Postgrado / Máster / Doctorado",
          "Postgrado / Máster / Doctorado",
          "Primaria",
          "Postgrado / Máster / Doctorado",
          "Postgrado / Máster / Doctorado",
          "Postgrado / Máster / Doctorado",
          "Secundaria / Bachillerato",
          "Postgrado / Máster / Doctorado",
          "Postgrado / Máster / Doctorado",
          "Postgrado / Máster / Doctorado",
          "Universidad / Grado",
          "Postgrado / Máster / Doctorado",
          "Postgrado / Máster / Doctorado",
          "Secundaria / Bachillerato",
          "Universidad / Grado",
          "Universidad / Grado",
          "Universidad / Grado",
          "Postgrado / Máster / Doctorado",
          "Postgrado / Máster / Doctorado",
          "Postgrado / Máster / Doctorado"
         ],
         "legendgroup": "",
         "name": "",
         "showlegend": true,
         "type": "pie"
        }
       ],
       "layout": {
        "legend": {
         "tracegroupgap": 0
        },
        "template": {
         "data": {
          "bar": [
           {
            "error_x": {
             "color": "#2a3f5f"
            },
            "error_y": {
             "color": "#2a3f5f"
            },
            "marker": {
             "line": {
              "color": "#E5ECF6",
              "width": 0.5
             },
             "pattern": {
              "fillmode": "overlay",
              "size": 10,
              "solidity": 0.2
             }
            },
            "type": "bar"
           }
          ],
          "barpolar": [
           {
            "marker": {
             "line": {
              "color": "#E5ECF6",
              "width": 0.5
             },
             "pattern": {
              "fillmode": "overlay",
              "size": 10,
              "solidity": 0.2
             }
            },
            "type": "barpolar"
           }
          ],
          "carpet": [
           {
            "aaxis": {
             "endlinecolor": "#2a3f5f",
             "gridcolor": "white",
             "linecolor": "white",
             "minorgridcolor": "white",
             "startlinecolor": "#2a3f5f"
            },
            "baxis": {
             "endlinecolor": "#2a3f5f",
             "gridcolor": "white",
             "linecolor": "white",
             "minorgridcolor": "white",
             "startlinecolor": "#2a3f5f"
            },
            "type": "carpet"
           }
          ],
          "choropleth": [
           {
            "colorbar": {
             "outlinewidth": 0,
             "ticks": ""
            },
            "type": "choropleth"
           }
          ],
          "contour": [
           {
            "colorbar": {
             "outlinewidth": 0,
             "ticks": ""
            },
            "colorscale": [
             [
              0,
              "#0d0887"
             ],
             [
              0.1111111111111111,
              "#46039f"
             ],
             [
              0.2222222222222222,
              "#7201a8"
             ],
             [
              0.3333333333333333,
              "#9c179e"
             ],
             [
              0.4444444444444444,
              "#bd3786"
             ],
             [
              0.5555555555555556,
              "#d8576b"
             ],
             [
              0.6666666666666666,
              "#ed7953"
             ],
             [
              0.7777777777777778,
              "#fb9f3a"
             ],
             [
              0.8888888888888888,
              "#fdca26"
             ],
             [
              1,
              "#f0f921"
             ]
            ],
            "type": "contour"
           }
          ],
          "contourcarpet": [
           {
            "colorbar": {
             "outlinewidth": 0,
             "ticks": ""
            },
            "type": "contourcarpet"
           }
          ],
          "heatmap": [
           {
            "colorbar": {
             "outlinewidth": 0,
             "ticks": ""
            },
            "colorscale": [
             [
              0,
              "#0d0887"
             ],
             [
              0.1111111111111111,
              "#46039f"
             ],
             [
              0.2222222222222222,
              "#7201a8"
             ],
             [
              0.3333333333333333,
              "#9c179e"
             ],
             [
              0.4444444444444444,
              "#bd3786"
             ],
             [
              0.5555555555555556,
              "#d8576b"
             ],
             [
              0.6666666666666666,
              "#ed7953"
             ],
             [
              0.7777777777777778,
              "#fb9f3a"
             ],
             [
              0.8888888888888888,
              "#fdca26"
             ],
             [
              1,
              "#f0f921"
             ]
            ],
            "type": "heatmap"
           }
          ],
          "histogram": [
           {
            "marker": {
             "pattern": {
              "fillmode": "overlay",
              "size": 10,
              "solidity": 0.2
             }
            },
            "type": "histogram"
           }
          ],
          "histogram2d": [
           {
            "colorbar": {
             "outlinewidth": 0,
             "ticks": ""
            },
            "colorscale": [
             [
              0,
              "#0d0887"
             ],
             [
              0.1111111111111111,
              "#46039f"
             ],
             [
              0.2222222222222222,
              "#7201a8"
             ],
             [
              0.3333333333333333,
              "#9c179e"
             ],
             [
              0.4444444444444444,
              "#bd3786"
             ],
             [
              0.5555555555555556,
              "#d8576b"
             ],
             [
              0.6666666666666666,
              "#ed7953"
             ],
             [
              0.7777777777777778,
              "#fb9f3a"
             ],
             [
              0.8888888888888888,
              "#fdca26"
             ],
             [
              1,
              "#f0f921"
             ]
            ],
            "type": "histogram2d"
           }
          ],
          "histogram2dcontour": [
           {
            "colorbar": {
             "outlinewidth": 0,
             "ticks": ""
            },
            "colorscale": [
             [
              0,
              "#0d0887"
             ],
             [
              0.1111111111111111,
              "#46039f"
             ],
             [
              0.2222222222222222,
              "#7201a8"
             ],
             [
              0.3333333333333333,
              "#9c179e"
             ],
             [
              0.4444444444444444,
              "#bd3786"
             ],
             [
              0.5555555555555556,
              "#d8576b"
             ],
             [
              0.6666666666666666,
              "#ed7953"
             ],
             [
              0.7777777777777778,
              "#fb9f3a"
             ],
             [
              0.8888888888888888,
              "#fdca26"
             ],
             [
              1,
              "#f0f921"
             ]
            ],
            "type": "histogram2dcontour"
           }
          ],
          "mesh3d": [
           {
            "colorbar": {
             "outlinewidth": 0,
             "ticks": ""
            },
            "type": "mesh3d"
           }
          ],
          "parcoords": [
           {
            "line": {
             "colorbar": {
              "outlinewidth": 0,
              "ticks": ""
             }
            },
            "type": "parcoords"
           }
          ],
          "pie": [
           {
            "automargin": true,
            "type": "pie"
           }
          ],
          "scatter": [
           {
            "fillpattern": {
             "fillmode": "overlay",
             "size": 10,
             "solidity": 0.2
            },
            "type": "scatter"
           }
          ],
          "scatter3d": [
           {
            "line": {
             "colorbar": {
              "outlinewidth": 0,
              "ticks": ""
             }
            },
            "marker": {
             "colorbar": {
              "outlinewidth": 0,
              "ticks": ""
             }
            },
            "type": "scatter3d"
           }
          ],
          "scattercarpet": [
           {
            "marker": {
             "colorbar": {
              "outlinewidth": 0,
              "ticks": ""
             }
            },
            "type": "scattercarpet"
           }
          ],
          "scattergeo": [
           {
            "marker": {
             "colorbar": {
              "outlinewidth": 0,
              "ticks": ""
             }
            },
            "type": "scattergeo"
           }
          ],
          "scattergl": [
           {
            "marker": {
             "colorbar": {
              "outlinewidth": 0,
              "ticks": ""
             }
            },
            "type": "scattergl"
           }
          ],
          "scattermap": [
           {
            "marker": {
             "colorbar": {
              "outlinewidth": 0,
              "ticks": ""
             }
            },
            "type": "scattermap"
           }
          ],
          "scattermapbox": [
           {
            "marker": {
             "colorbar": {
              "outlinewidth": 0,
              "ticks": ""
             }
            },
            "type": "scattermapbox"
           }
          ],
          "scatterpolar": [
           {
            "marker": {
             "colorbar": {
              "outlinewidth": 0,
              "ticks": ""
             }
            },
            "type": "scatterpolar"
           }
          ],
          "scatterpolargl": [
           {
            "marker": {
             "colorbar": {
              "outlinewidth": 0,
              "ticks": ""
             }
            },
            "type": "scatterpolargl"
           }
          ],
          "scatterternary": [
           {
            "marker": {
             "colorbar": {
              "outlinewidth": 0,
              "ticks": ""
             }
            },
            "type": "scatterternary"
           }
          ],
          "surface": [
           {
            "colorbar": {
             "outlinewidth": 0,
             "ticks": ""
            },
            "colorscale": [
             [
              0,
              "#0d0887"
             ],
             [
              0.1111111111111111,
              "#46039f"
             ],
             [
              0.2222222222222222,
              "#7201a8"
             ],
             [
              0.3333333333333333,
              "#9c179e"
             ],
             [
              0.4444444444444444,
              "#bd3786"
             ],
             [
              0.5555555555555556,
              "#d8576b"
             ],
             [
              0.6666666666666666,
              "#ed7953"
             ],
             [
              0.7777777777777778,
              "#fb9f3a"
             ],
             [
              0.8888888888888888,
              "#fdca26"
             ],
             [
              1,
              "#f0f921"
             ]
            ],
            "type": "surface"
           }
          ],
          "table": [
           {
            "cells": {
             "fill": {
              "color": "#EBF0F8"
             },
             "line": {
              "color": "white"
             }
            },
            "header": {
             "fill": {
              "color": "#C8D4E3"
             },
             "line": {
              "color": "white"
             }
            },
            "type": "table"
           }
          ]
         },
         "layout": {
          "annotationdefaults": {
           "arrowcolor": "#2a3f5f",
           "arrowhead": 0,
           "arrowwidth": 1
          },
          "autotypenumbers": "strict",
          "coloraxis": {
           "colorbar": {
            "outlinewidth": 0,
            "ticks": ""
           }
          },
          "colorscale": {
           "diverging": [
            [
             0,
             "#8e0152"
            ],
            [
             0.1,
             "#c51b7d"
            ],
            [
             0.2,
             "#de77ae"
            ],
            [
             0.3,
             "#f1b6da"
            ],
            [
             0.4,
             "#fde0ef"
            ],
            [
             0.5,
             "#f7f7f7"
            ],
            [
             0.6,
             "#e6f5d0"
            ],
            [
             0.7,
             "#b8e186"
            ],
            [
             0.8,
             "#7fbc41"
            ],
            [
             0.9,
             "#4d9221"
            ],
            [
             1,
             "#276419"
            ]
           ],
           "sequential": [
            [
             0,
             "#0d0887"
            ],
            [
             0.1111111111111111,
             "#46039f"
            ],
            [
             0.2222222222222222,
             "#7201a8"
            ],
            [
             0.3333333333333333,
             "#9c179e"
            ],
            [
             0.4444444444444444,
             "#bd3786"
            ],
            [
             0.5555555555555556,
             "#d8576b"
            ],
            [
             0.6666666666666666,
             "#ed7953"
            ],
            [
             0.7777777777777778,
             "#fb9f3a"
            ],
            [
             0.8888888888888888,
             "#fdca26"
            ],
            [
             1,
             "#f0f921"
            ]
           ],
           "sequentialminus": [
            [
             0,
             "#0d0887"
            ],
            [
             0.1111111111111111,
             "#46039f"
            ],
            [
             0.2222222222222222,
             "#7201a8"
            ],
            [
             0.3333333333333333,
             "#9c179e"
            ],
            [
             0.4444444444444444,
             "#bd3786"
            ],
            [
             0.5555555555555556,
             "#d8576b"
            ],
            [
             0.6666666666666666,
             "#ed7953"
            ],
            [
             0.7777777777777778,
             "#fb9f3a"
            ],
            [
             0.8888888888888888,
             "#fdca26"
            ],
            [
             1,
             "#f0f921"
            ]
           ]
          },
          "colorway": [
           "#636efa",
           "#EF553B",
           "#00cc96",
           "#ab63fa",
           "#FFA15A",
           "#19d3f3",
           "#FF6692",
           "#B6E880",
           "#FF97FF",
           "#FECB52"
          ],
          "font": {
           "color": "#2a3f5f"
          },
          "geo": {
           "bgcolor": "white",
           "lakecolor": "white",
           "landcolor": "#E5ECF6",
           "showlakes": true,
           "showland": true,
           "subunitcolor": "white"
          },
          "hoverlabel": {
           "align": "left"
          },
          "hovermode": "closest",
          "mapbox": {
           "style": "light"
          },
          "paper_bgcolor": "white",
          "plot_bgcolor": "#E5ECF6",
          "polar": {
           "angularaxis": {
            "gridcolor": "white",
            "linecolor": "white",
            "ticks": ""
           },
           "bgcolor": "#E5ECF6",
           "radialaxis": {
            "gridcolor": "white",
            "linecolor": "white",
            "ticks": ""
           }
          },
          "scene": {
           "xaxis": {
            "backgroundcolor": "#E5ECF6",
            "gridcolor": "white",
            "gridwidth": 2,
            "linecolor": "white",
            "showbackground": true,
            "ticks": "",
            "zerolinecolor": "white"
           },
           "yaxis": {
            "backgroundcolor": "#E5ECF6",
            "gridcolor": "white",
            "gridwidth": 2,
            "linecolor": "white",
            "showbackground": true,
            "ticks": "",
            "zerolinecolor": "white"
           },
           "zaxis": {
            "backgroundcolor": "#E5ECF6",
            "gridcolor": "white",
            "gridwidth": 2,
            "linecolor": "white",
            "showbackground": true,
            "ticks": "",
            "zerolinecolor": "white"
           }
          },
          "shapedefaults": {
           "line": {
            "color": "#2a3f5f"
           }
          },
          "ternary": {
           "aaxis": {
            "gridcolor": "white",
            "linecolor": "white",
            "ticks": ""
           },
           "baxis": {
            "gridcolor": "white",
            "linecolor": "white",
            "ticks": ""
           },
           "bgcolor": "#E5ECF6",
           "caxis": {
            "gridcolor": "white",
            "linecolor": "white",
            "ticks": ""
           }
          },
          "title": {
           "x": 0.05
          },
          "xaxis": {
           "automargin": true,
           "gridcolor": "white",
           "linecolor": "white",
           "ticks": "",
           "title": {
            "standoff": 15
           },
           "zerolinecolor": "white",
           "zerolinewidth": 2
          },
          "yaxis": {
           "automargin": true,
           "gridcolor": "white",
           "linecolor": "white",
           "ticks": "",
           "title": {
            "standoff": 15
           },
           "zerolinecolor": "white",
           "zerolinewidth": 2
          }
         }
        },
        "title": {
         "text": "Distribución por Nivel Educativo"
        }
       }
      }
     },
     "metadata": {},
     "output_type": "display_data"
    }
   ],
   "source": [
    "def univariante_analysis(df):\n",
    "    ''' Función de análisis univariante'''\n",
    "    print('=== Análisis Univariante===')\n",
    "    \n",
    "    # Estadística Descriptiva\n",
    "    print(f'\\nEstadística descriptivas:\\n {df_bank_loan.describe()}')\n",
    "\n",
    "    # Distribución de variables numéricas\n",
    "    numeric_cols = ['age', 'ed', 'employ', 'address', 'income', 'debtinc', 'creddebt', 'othdebt']\n",
    "\n",
    "    fig = px.histogram(df_bank_loan, x='age', nbins=30, title='Distribucion de Edad')\n",
    "    fig.show()    \n",
    "\n",
    "    # variables categóricas\n",
    "    fig = px.pie(df_bank_loan, names='ed_text', title='Distribución por Nivel Educativo')\n",
    "    fig.show()\n",
    "    \n",
    "univariante_analysis(df_bank_loan)"
   ]
  },
  {
   "cell_type": "markdown",
   "id": "9d600e8c",
   "metadata": {},
   "source": [
    "----- ANÁLISIS BIVARIANTE"
   ]
  },
  {
   "cell_type": "code",
   "execution_count": 89,
   "id": "8b34b9ef",
   "metadata": {},
   "outputs": [
    {
     "name": "stdout",
     "output_type": "stream",
     "text": [
      "=== Análisis Biriante===\n"
     ]
    },
    {
     "data": {
      "application/vnd.plotly.v1+json": {
       "config": {
        "plotlyServerURL": "https://plot.ly"
       },
       "data": [
        {
         "coloraxis": "coloraxis",
         "hovertemplate": "x: %{x}<br>y: %{y}<br>color: %{z}<extra></extra>",
         "name": "0",
         "text": {
          "bdata": "AAAAAAAA8D97FK5H4XqkP0jhehSuR+E/4XoUrkfh4j9cj8L1KFzfP3sUrkfheoQ/MzMzMzMz0z9mZmZmZmbWP+xRuB6F68G/exSuR+F6pD8AAAAAAADwP+xRuB6F68G/uB6F61G4rj+kcD0K16PQP7gehetRuJ4/KVyPwvUovD8K16NwPQrHP6RwPQrXo8A/SOF6FK5H4T/sUbgehevBvwAAAAAAAPA/exSuR+F61D/Xo3A9CtfjP7gehetRuJ6/mpmZmZmZ2T89CtejcD3aP+xRuB6F69G/4XoUrkfh4j+4HoXrUbiuP3sUrkfhetQ/AAAAAAAA8D97FK5H4XrUP3sUrkfheoQ/4XoUrkfhyj9xPQrXo3DNP3sUrkfhesS/XI/C9Shc3z+kcD0K16PQP9ejcD0K1+M/exSuR+F61D8AAAAAAADwP3sUrkfheqS/PQrXo3A94j/Xo3A9CtfjP3sUrkfherS/exSuR+F6hD+4HoXrUbieP7gehetRuJ6/exSuR+F6hD97FK5H4XqkvwAAAAAAAPA/AAAAAAAA4D+PwvUoXI/iP/YoXI/C9dg/MzMzMzMz0z8pXI/C9Si8P5qZmZmZmdk/4XoUrkfhyj89CtejcD3iPwAAAAAAAOA/AAAAAAAA8D8pXI/C9SjkP7gehetRuM4/ZmZmZmZm1j8K16NwPQrHPz0K16NwPdo/cT0K16NwzT/Xo3A9CtfjP4/C9Shcj+I/KVyPwvUo5D8AAAAAAADwPzMzMzMzM8M/7FG4HoXrwb+kcD0K16PAP+xRuB6F69G/exSuR+F6xL97FK5H4Xq0v/YoXI/C9dg/uB6F61G4zj8zMzMzMzPDPwAAAAAAAPA/",
          "dtype": "f8",
          "shape": "9, 9"
         },
         "textfont": {
          "color": "black",
          "size": 10
         },
         "texttemplate": "%{text}",
         "type": "heatmap",
         "x": [
          "Edad",
          "Educación",
          "Empleo",
          "address",
          "Ingreso",
          "Deuda",
          "Deuda Crédito",
          "Otra Deuda",
          "Incumplimiento"
         ],
         "xaxis": "x",
         "y": [
          "Edad",
          "Educación",
          "Empleo",
          "address",
          "Ingreso",
          "Deuda",
          "Deuda Crédito",
          "Otra Deuda",
          "Incumplimiento"
         ],
         "yaxis": "y",
         "z": {
          "bdata": "AAAAAAAA8D9s1IpnACajP7RTgnmba+E/2HE+IvS94j/pfdyF3CffP1VpJyXd6YY/WLRaIg9i0z9FvZG1jTbWP/CFVOVSp8G/bNSKZwAmoz8AAAAAAADwPwAZPX1/kcG/yift2T4Grj8ouz39gsLQP++8pkq4sZ0/d5R+a0fvuj8IBcT0BELHP/5ac5r5v8A/tFOCeZtr4T8AGT19f5HBvwAAAAAAAPA/NEfxZMWL1D+DnT1BqsTjP1WR0QA77p+/7N8KGx7W2T/ejFH6Zf3ZP9XqXkOxDtK/2HE+IvS94j/KJ+3ZPgauPzRH8WTFi9Q/AAAAAAAA8D9fmqDmbj/UPz9Xn40HTIk/a5lWXR7Byj8kKzqe/g7NP2G8N5SK3sS/6X3chdwn3z8ouz39gsLQP4OdPUGqxOM/X5qg5m4/1D8AAAAAAADwP3Hr38SbH6W/WVcLJPhb4j/3ChUgLunjP0C5VgnddrO/VWknJd3phj/vvKZKuLGdP1WR0QA77p+/P1efjQdMiT9x69/Emx+lvwAAAAAAAPA/ltbPDnoO4D8Tr8diQLfiP6GesWdp4tg/WLRaIg9i0z93lH5rR++6P+zfChse1tk/a5lWXR7Byj9ZVwsk+FviP5bWzw56DuA/AAAAAAAA8D/eK5OAYkLkPzcr2PFgSM8/Rb2RtY021j8IBcT0BELHP96MUfpl/dk/JCs6nv4OzT/3ChUgLunjPxOvx2JAt+I/3iuTgGJC5D8AAAAAAADwP9rbydcGncI/8IVU5VKnwb/+WnOa+b/AP9XqXkOxDtK/Ybw3lIrexL9AuVYJ3Xazv6GesWdp4tg/NyvY8WBIzz/a28nXBp3CPwAAAAAAAPA/",
          "dtype": "f8",
          "shape": "9, 9"
         }
        }
       ],
       "layout": {
        "coloraxis": {
         "cmax": 1,
         "cmin": -1,
         "colorscale": [
          [
           0,
           "red"
          ],
          [
           0.5,
           "white"
          ],
          [
           1,
           "green"
          ]
         ]
        },
        "template": {
         "data": {
          "bar": [
           {
            "error_x": {
             "color": "#2a3f5f"
            },
            "error_y": {
             "color": "#2a3f5f"
            },
            "marker": {
             "line": {
              "color": "#E5ECF6",
              "width": 0.5
             },
             "pattern": {
              "fillmode": "overlay",
              "size": 10,
              "solidity": 0.2
             }
            },
            "type": "bar"
           }
          ],
          "barpolar": [
           {
            "marker": {
             "line": {
              "color": "#E5ECF6",
              "width": 0.5
             },
             "pattern": {
              "fillmode": "overlay",
              "size": 10,
              "solidity": 0.2
             }
            },
            "type": "barpolar"
           }
          ],
          "carpet": [
           {
            "aaxis": {
             "endlinecolor": "#2a3f5f",
             "gridcolor": "white",
             "linecolor": "white",
             "minorgridcolor": "white",
             "startlinecolor": "#2a3f5f"
            },
            "baxis": {
             "endlinecolor": "#2a3f5f",
             "gridcolor": "white",
             "linecolor": "white",
             "minorgridcolor": "white",
             "startlinecolor": "#2a3f5f"
            },
            "type": "carpet"
           }
          ],
          "choropleth": [
           {
            "colorbar": {
             "outlinewidth": 0,
             "ticks": ""
            },
            "type": "choropleth"
           }
          ],
          "contour": [
           {
            "colorbar": {
             "outlinewidth": 0,
             "ticks": ""
            },
            "colorscale": [
             [
              0,
              "#0d0887"
             ],
             [
              0.1111111111111111,
              "#46039f"
             ],
             [
              0.2222222222222222,
              "#7201a8"
             ],
             [
              0.3333333333333333,
              "#9c179e"
             ],
             [
              0.4444444444444444,
              "#bd3786"
             ],
             [
              0.5555555555555556,
              "#d8576b"
             ],
             [
              0.6666666666666666,
              "#ed7953"
             ],
             [
              0.7777777777777778,
              "#fb9f3a"
             ],
             [
              0.8888888888888888,
              "#fdca26"
             ],
             [
              1,
              "#f0f921"
             ]
            ],
            "type": "contour"
           }
          ],
          "contourcarpet": [
           {
            "colorbar": {
             "outlinewidth": 0,
             "ticks": ""
            },
            "type": "contourcarpet"
           }
          ],
          "heatmap": [
           {
            "colorbar": {
             "outlinewidth": 0,
             "ticks": ""
            },
            "colorscale": [
             [
              0,
              "#0d0887"
             ],
             [
              0.1111111111111111,
              "#46039f"
             ],
             [
              0.2222222222222222,
              "#7201a8"
             ],
             [
              0.3333333333333333,
              "#9c179e"
             ],
             [
              0.4444444444444444,
              "#bd3786"
             ],
             [
              0.5555555555555556,
              "#d8576b"
             ],
             [
              0.6666666666666666,
              "#ed7953"
             ],
             [
              0.7777777777777778,
              "#fb9f3a"
             ],
             [
              0.8888888888888888,
              "#fdca26"
             ],
             [
              1,
              "#f0f921"
             ]
            ],
            "type": "heatmap"
           }
          ],
          "histogram": [
           {
            "marker": {
             "pattern": {
              "fillmode": "overlay",
              "size": 10,
              "solidity": 0.2
             }
            },
            "type": "histogram"
           }
          ],
          "histogram2d": [
           {
            "colorbar": {
             "outlinewidth": 0,
             "ticks": ""
            },
            "colorscale": [
             [
              0,
              "#0d0887"
             ],
             [
              0.1111111111111111,
              "#46039f"
             ],
             [
              0.2222222222222222,
              "#7201a8"
             ],
             [
              0.3333333333333333,
              "#9c179e"
             ],
             [
              0.4444444444444444,
              "#bd3786"
             ],
             [
              0.5555555555555556,
              "#d8576b"
             ],
             [
              0.6666666666666666,
              "#ed7953"
             ],
             [
              0.7777777777777778,
              "#fb9f3a"
             ],
             [
              0.8888888888888888,
              "#fdca26"
             ],
             [
              1,
              "#f0f921"
             ]
            ],
            "type": "histogram2d"
           }
          ],
          "histogram2dcontour": [
           {
            "colorbar": {
             "outlinewidth": 0,
             "ticks": ""
            },
            "colorscale": [
             [
              0,
              "#0d0887"
             ],
             [
              0.1111111111111111,
              "#46039f"
             ],
             [
              0.2222222222222222,
              "#7201a8"
             ],
             [
              0.3333333333333333,
              "#9c179e"
             ],
             [
              0.4444444444444444,
              "#bd3786"
             ],
             [
              0.5555555555555556,
              "#d8576b"
             ],
             [
              0.6666666666666666,
              "#ed7953"
             ],
             [
              0.7777777777777778,
              "#fb9f3a"
             ],
             [
              0.8888888888888888,
              "#fdca26"
             ],
             [
              1,
              "#f0f921"
             ]
            ],
            "type": "histogram2dcontour"
           }
          ],
          "mesh3d": [
           {
            "colorbar": {
             "outlinewidth": 0,
             "ticks": ""
            },
            "type": "mesh3d"
           }
          ],
          "parcoords": [
           {
            "line": {
             "colorbar": {
              "outlinewidth": 0,
              "ticks": ""
             }
            },
            "type": "parcoords"
           }
          ],
          "pie": [
           {
            "automargin": true,
            "type": "pie"
           }
          ],
          "scatter": [
           {
            "fillpattern": {
             "fillmode": "overlay",
             "size": 10,
             "solidity": 0.2
            },
            "type": "scatter"
           }
          ],
          "scatter3d": [
           {
            "line": {
             "colorbar": {
              "outlinewidth": 0,
              "ticks": ""
             }
            },
            "marker": {
             "colorbar": {
              "outlinewidth": 0,
              "ticks": ""
             }
            },
            "type": "scatter3d"
           }
          ],
          "scattercarpet": [
           {
            "marker": {
             "colorbar": {
              "outlinewidth": 0,
              "ticks": ""
             }
            },
            "type": "scattercarpet"
           }
          ],
          "scattergeo": [
           {
            "marker": {
             "colorbar": {
              "outlinewidth": 0,
              "ticks": ""
             }
            },
            "type": "scattergeo"
           }
          ],
          "scattergl": [
           {
            "marker": {
             "colorbar": {
              "outlinewidth": 0,
              "ticks": ""
             }
            },
            "type": "scattergl"
           }
          ],
          "scattermap": [
           {
            "marker": {
             "colorbar": {
              "outlinewidth": 0,
              "ticks": ""
             }
            },
            "type": "scattermap"
           }
          ],
          "scattermapbox": [
           {
            "marker": {
             "colorbar": {
              "outlinewidth": 0,
              "ticks": ""
             }
            },
            "type": "scattermapbox"
           }
          ],
          "scatterpolar": [
           {
            "marker": {
             "colorbar": {
              "outlinewidth": 0,
              "ticks": ""
             }
            },
            "type": "scatterpolar"
           }
          ],
          "scatterpolargl": [
           {
            "marker": {
             "colorbar": {
              "outlinewidth": 0,
              "ticks": ""
             }
            },
            "type": "scatterpolargl"
           }
          ],
          "scatterternary": [
           {
            "marker": {
             "colorbar": {
              "outlinewidth": 0,
              "ticks": ""
             }
            },
            "type": "scatterternary"
           }
          ],
          "surface": [
           {
            "colorbar": {
             "outlinewidth": 0,
             "ticks": ""
            },
            "colorscale": [
             [
              0,
              "#0d0887"
             ],
             [
              0.1111111111111111,
              "#46039f"
             ],
             [
              0.2222222222222222,
              "#7201a8"
             ],
             [
              0.3333333333333333,
              "#9c179e"
             ],
             [
              0.4444444444444444,
              "#bd3786"
             ],
             [
              0.5555555555555556,
              "#d8576b"
             ],
             [
              0.6666666666666666,
              "#ed7953"
             ],
             [
              0.7777777777777778,
              "#fb9f3a"
             ],
             [
              0.8888888888888888,
              "#fdca26"
             ],
             [
              1,
              "#f0f921"
             ]
            ],
            "type": "surface"
           }
          ],
          "table": [
           {
            "cells": {
             "fill": {
              "color": "#EBF0F8"
             },
             "line": {
              "color": "white"
             }
            },
            "header": {
             "fill": {
              "color": "#C8D4E3"
             },
             "line": {
              "color": "white"
             }
            },
            "type": "table"
           }
          ]
         },
         "layout": {
          "annotationdefaults": {
           "arrowcolor": "#2a3f5f",
           "arrowhead": 0,
           "arrowwidth": 1
          },
          "autotypenumbers": "strict",
          "coloraxis": {
           "colorbar": {
            "outlinewidth": 0,
            "ticks": ""
           }
          },
          "colorscale": {
           "diverging": [
            [
             0,
             "#8e0152"
            ],
            [
             0.1,
             "#c51b7d"
            ],
            [
             0.2,
             "#de77ae"
            ],
            [
             0.3,
             "#f1b6da"
            ],
            [
             0.4,
             "#fde0ef"
            ],
            [
             0.5,
             "#f7f7f7"
            ],
            [
             0.6,
             "#e6f5d0"
            ],
            [
             0.7,
             "#b8e186"
            ],
            [
             0.8,
             "#7fbc41"
            ],
            [
             0.9,
             "#4d9221"
            ],
            [
             1,
             "#276419"
            ]
           ],
           "sequential": [
            [
             0,
             "#0d0887"
            ],
            [
             0.1111111111111111,
             "#46039f"
            ],
            [
             0.2222222222222222,
             "#7201a8"
            ],
            [
             0.3333333333333333,
             "#9c179e"
            ],
            [
             0.4444444444444444,
             "#bd3786"
            ],
            [
             0.5555555555555556,
             "#d8576b"
            ],
            [
             0.6666666666666666,
             "#ed7953"
            ],
            [
             0.7777777777777778,
             "#fb9f3a"
            ],
            [
             0.8888888888888888,
             "#fdca26"
            ],
            [
             1,
             "#f0f921"
            ]
           ],
           "sequentialminus": [
            [
             0,
             "#0d0887"
            ],
            [
             0.1111111111111111,
             "#46039f"
            ],
            [
             0.2222222222222222,
             "#7201a8"
            ],
            [
             0.3333333333333333,
             "#9c179e"
            ],
            [
             0.4444444444444444,
             "#bd3786"
            ],
            [
             0.5555555555555556,
             "#d8576b"
            ],
            [
             0.6666666666666666,
             "#ed7953"
            ],
            [
             0.7777777777777778,
             "#fb9f3a"
            ],
            [
             0.8888888888888888,
             "#fdca26"
            ],
            [
             1,
             "#f0f921"
            ]
           ]
          },
          "colorway": [
           "#636efa",
           "#EF553B",
           "#00cc96",
           "#ab63fa",
           "#FFA15A",
           "#19d3f3",
           "#FF6692",
           "#B6E880",
           "#FF97FF",
           "#FECB52"
          ],
          "font": {
           "color": "#2a3f5f"
          },
          "geo": {
           "bgcolor": "white",
           "lakecolor": "white",
           "landcolor": "#E5ECF6",
           "showlakes": true,
           "showland": true,
           "subunitcolor": "white"
          },
          "hoverlabel": {
           "align": "left"
          },
          "hovermode": "closest",
          "mapbox": {
           "style": "light"
          },
          "paper_bgcolor": "white",
          "plot_bgcolor": "#E5ECF6",
          "polar": {
           "angularaxis": {
            "gridcolor": "white",
            "linecolor": "white",
            "ticks": ""
           },
           "bgcolor": "#E5ECF6",
           "radialaxis": {
            "gridcolor": "white",
            "linecolor": "white",
            "ticks": ""
           }
          },
          "scene": {
           "xaxis": {
            "backgroundcolor": "#E5ECF6",
            "gridcolor": "white",
            "gridwidth": 2,
            "linecolor": "white",
            "showbackground": true,
            "ticks": "",
            "zerolinecolor": "white"
           },
           "yaxis": {
            "backgroundcolor": "#E5ECF6",
            "gridcolor": "white",
            "gridwidth": 2,
            "linecolor": "white",
            "showbackground": true,
            "ticks": "",
            "zerolinecolor": "white"
           },
           "zaxis": {
            "backgroundcolor": "#E5ECF6",
            "gridcolor": "white",
            "gridwidth": 2,
            "linecolor": "white",
            "showbackground": true,
            "ticks": "",
            "zerolinecolor": "white"
           }
          },
          "shapedefaults": {
           "line": {
            "color": "#2a3f5f"
           }
          },
          "ternary": {
           "aaxis": {
            "gridcolor": "white",
            "linecolor": "white",
            "ticks": ""
           },
           "baxis": {
            "gridcolor": "white",
            "linecolor": "white",
            "ticks": ""
           },
           "bgcolor": "#E5ECF6",
           "caxis": {
            "gridcolor": "white",
            "linecolor": "white",
            "ticks": ""
           }
          },
          "title": {
           "x": 0.05
          },
          "xaxis": {
           "automargin": true,
           "gridcolor": "white",
           "linecolor": "white",
           "ticks": "",
           "title": {
            "standoff": 15
           },
           "zerolinecolor": "white",
           "zerolinewidth": 2
          },
          "yaxis": {
           "automargin": true,
           "gridcolor": "white",
           "linecolor": "white",
           "ticks": "",
           "title": {
            "standoff": 15
           },
           "zerolinecolor": "white",
           "zerolinewidth": 2
          }
         }
        },
        "title": {
         "text": "Mapa de Calor de Correlaciones"
        },
        "xaxis": {
         "anchor": "y",
         "domain": [
          0,
          1
         ]
        },
        "yaxis": {
         "anchor": "x",
         "autorange": "reversed",
         "domain": [
          0,
          1
         ]
        }
       }
      }
     },
     "metadata": {},
     "output_type": "display_data"
    },
    {
     "data": {
      "application/vnd.plotly.v1+json": {
       "config": {
        "plotlyServerURL": "https://plot.ly"
       },
       "data": [
        {
         "hovertemplate": "Estado del Préstamo=No Aprobado<br>Edad=%{x}<br>Ingresos=%{y}<extra></extra>",
         "legendgroup": "No Aprobado",
         "marker": {
          "color": "#636efa",
          "symbol": "circle"
         },
         "mode": "markers",
         "name": "No Aprobado",
         "orientation": "v",
         "showlegend": true,
         "type": "scatter",
         "x": {
          "bdata": "AAAAAACAREAAAAAAAAA4QAAAAAAAADhAAAAAAAAAQkAAAAAAAABCQAAAAAAAADVAAAAAAAAAPEAAAAAAAAA6QAAAAAAAADdAAAAAAAAAQUAAAAAAAABHQAAAAAAAgEJAAAAAAAAAPUAAAAAAAABAQAAAAAAAADxAAAAAAAAAPEAAAAAAAAA9QAAAAAAAADpAAAAAAAAAPUAAAAAAAAA3QAAAAAAAADlAAAAAAAAAQEAAAAAAAIBEQAAAAAAAAENAAAAAAACASkAAAAAAAAA/QAAAAAAAADlAAAAAAAAAN0AAAAAAAABBQAAAAAAAAD9AAAAAAACAQ0AAAAAAAAD4fwAAAAAAADhAAAAAAAAAO0AAAAAAAIBFQAAAAAAAAEtAAAAAAACAQEAAAAAAAAA/QAAAAAAAgEFAAAAAAAAAREAAAAAAAAA2QAAAAAAAAEBAAAAAAACAQEAAAAAAAABEQAAAAAAAADtAAAAAAAAAQkAAAAAAAAA/QAAAAAAAADhAAAAAAAAAP0AAAAAAAAD4fwAAAAAAAEZAAAAAAACAQUAAAAAAAAD4fwAAAAAAADtAAAAAAAAAPUAAAAAAAIBFQAAAAAAAgEtAAAAAAAAAQEAAAAAAAIBDQAAAAAAAgEBAAAAAAAAASkAAAAAAAAA/QAAAAAAAADtAAAAAAAAAOkAAAAAAAAA+QAAAAAAAAD9AAAAAAAAAQUAAAAAAAABDQAAAAAAAAD9AAAAAAAAAOUAAAAAAAIBHQAAAAAAAgENAAAAAAAAAPUAAAAAAAAA7QAAAAAAAADtAAAAAAAAAQ0AAAAAAAABEQAAAAAAAAEtAAAAAAAAAPUAAAAAAAAA8QAAAAAAAADxAAAAAAAAAPEAAAAAAAABEQAAAAAAAAD5AAAAAAACAREAAAAAAAIBEQAAAAAAAgENAAAAAAAAAOEAAAAAAAIBCQAAAAAAAgEBAAAAAAAAASEAAAAAAAIBDQAAAAAAAAEpAAAAAAAAAOEAAAAAAAIBKQAAAAAAAgEdAAAAAAAAAN0AAAAAAAAA+QAAAAAAAADlAAAAAAAAAPUAAAAAAAABAQAAAAAAAAEdAAAAAAAAAN0AAAAAAAAA3QAAAAAAAAEFAAAAAAAAAPUAAAAAAAAA4QAAAAAAAgEVAAAAAAAAAR0AAAAAAAAA/QAAAAAAAgEJAAAAAAAAANUAAAAAAAIBHQAAAAAAAADVAAAAAAAAAPUAAAAAAAAA4QAAAAAAAADlAAAAAAAAAOEAAAAAAAIBGQAAAAAAAADtAAAAAAACAQEAAAAAAAIBBQAAAAAAAgERAAAAAAAAAPEAAAAAAAABDQAAAAAAAADlAAAAAAACAR0AAAAAAAAA5QAAAAAAAgERAAAAAAACAQUAAAAAAAAA3QAAAAAAAAEVAAAAAAAAANkAAAAAAAIBCQAAAAAAAADZAAAAAAACASEAAAAAAAABAQAAAAAAAADhAAAAAAAAAQEAAAAAAAIBCQAAAAAAAgERAAAAAAAAAQEAAAAAAAAA2QAAAAAAAADxAAAAAAAAAPUAAAAAAAABIQAAAAAAAADtAAAAAAAAAO0AAAAAAAAA4QAAAAAAAADxAAAAAAAAAOEAAAAAAAIBCQAAAAAAAADlAAAAAAAAAPUAAAAAAAIBJQAAAAAAAADZAAAAAAAAAPEAAAAAAAAA5QAAAAAAAAEBAAAAAAAAAPEAAAAAAAAA6QAAAAAAAAD1AAAAAAACAREAAAAAAAABEQAAAAAAAADxAAAAAAAAAPUAAAAAAAAA3QAAAAAAAgEdAAAAAAAAAN0AAAAAAAAA8QAAAAAAAAD9AAAAAAAAAN0AAAAAAAIBKQAAAAAAAADxAAAAAAACAQkAAAAAAAIBBQAAAAAAAAERAAAAAAAAAPkAAAAAAAAA0QAAAAAAAgEFAAAAAAAAAQUAAAAAAAAD4fwAAAAAAAEJA",
          "dtype": "f8"
         },
         "xaxis": "x",
         "y": {
          "bdata": "AAAAABj7pEEAAAAA8LN6QQAAAACsHnJBAAAAAHJdh0EAAAAA4oyDQQAAAACAhG5BAAAAAGDjdkEAAAAA8LNqQQAAAAD0BnRBAAAAAITXd0EAAAAAqMuIQQAAAABg43ZBAAAAAPQGhEEAAAAAAAD4fwAAAAA873VBAAAAAFyQfUEAAAAA0BJzQQAAAADMv3lBAAAAAIgqgUEAAAAAZDZwQQAAAAA4nGxBAAAAAIgqcUEAAAAAOJxsQQAAAABckH1BAAAAAITXh0EAAAAAzL95QQAAAADQEnNBAAAAAKweckEAAAAAzL95QQAAAAAY+3RBAAAAAGQ2kEEAAAAAmqSBQQAAAACAhG5BAAAAACp1hUEAAAAArB6SQQAAAADws3pBAAAAAAAA+H8AAAAAqMt4QQAAAABg43ZBAAAAAJZRmEEAAAAAYON2QQAAAADQEnNBAAAAAHawgEEAAAAABoGEQQAAAAAY+3RBAAAAAPCzekEAAAAA9AZ0QQAAAACIKnFBAAAAAICEfkEAAAAAGPuUQQAAAABg44ZBAAAAAJqkgUEAAAAAOJx8QQAAAAB2sJBBAAAAAHawkEEAAAAAOJyMQQAAAADQEoNBAAAAADicbEEAAAAA9AaEQQAAAACoy4hBAAAAAGDjdkEAAAAAJiKMQQAAAADQEnNBAAAAAGDjdkEAAAAAZDZwQQAAAAAAAPh/AAAAAL6YgkEAAAAAGPt0QQAAAAByXYdBAAAAAMy/eUEAAAAAicGeQQAAAAA4nIxBAAAAAPCzakEAAAAA0BKDQQAAAAAqdYVBAAAAADzvdUEAAAAAdrCAQQAAAAA4nJxBAAAAAAAA+H8AAAAA4oyDQQAAAABOaYZBAAAAAPCzekEAAAAA3jmqQQAAAACsHnJBAAAAAH/tkEEAAAAA8LOKQQAAAAAY+3RBAAAAADicbEEAAAAAiCpxQQAAAACIKpFBAAAAAITXh0EAAAAAPO+FQQAAAAB2sJBBAAAAAAAA+H8AAAAAvpiSQQAAAAAAAPh/AAAAAICEbkEAAAAAkv6OQQAAAAAAAPh/AAAAABSoe0EAAAAAAi6LQQAAAAD0BnRBAAAAAICEfkEAAAAAhNd3QQAAAAAAAPh/AAAAABj7dEEAAAAA9AZ0QQAAAIBrlbpBAAAAAAaBhEEAAAAAGPt0QQAAAACkeH9BAAAAAPQGdEEAAACAYliqQQAAAADQEnNBAAAAANASc0EAAAAAFKh7QQAAAACIKnFBAAAAAKjLeEEAAAAATmmWQQAAAAA873VBAAAAAAIui0EAAAAAGPt0QQAAAAAAAPh/AAAAAPCzekEAAAAAbgqOQQAAAACAhG5BAAAAAKR4f0EAAAAAiCpxQQAAAACIKoFBAAAAANASg0EAAAAAiCpxQQAAAABg44ZBAAAAAKweckEAAAAAXJB9QQAAAAAAAPh/AAAAANASc0EAAAAABoGEQQAAAADws2pBAAAAAICEbkEAAAAA0BJzQQAAAAAAAPh/AAAAANASc0EAAAAAdrCAQQAAAABkNnBBAAAAAPQGlEEAAAAAJiKMQQAAAAD0BoRBAAAAAAAA+H8AAAAAOJxsQQAAAAAY+3RBAAAAAGQ2cEEAAAAAhNeHQQAAAACIKnFBAAAAAKjLeEEAAAAAGPuEQQAAAAA873VBAAAAAIgqcUEAAAAAZDaAQQAAAADws3pBAAAAAOKMg0EAAAAAFKh7QQAAAACIKnFBAAAAAKjLeEEAAAAA3jmKQQAAAAA4nHxBAAAAAIgqcUEAAAAAGPt0QQAAAABkNqBBAAAAAPQGdEEAAAAAFKh7QQAAAADijINBAAAAAPQGhEEAAAAAzL95QQAAAADQEnNBAAAAAFyQfUEAAAAAZDaAQQAAAACIKoFBAAAAAKR4f0EAAAAA8LNqQQAAAAC+mIJBAAAAAKR4f0EAAAAAAAD4fwAAAADMv3lB",
          "dtype": "f8"
         },
         "yaxis": "y"
        },
        {
         "hovertemplate": "Estado del Préstamo=Aprobado<br>Edad=%{x}<br>Ingresos=%{y}<extra></extra>",
         "legendgroup": "Aprobado",
         "marker": {
          "color": "#EF553B",
          "symbol": "circle"
         },
         "mode": "markers",
         "name": "Aprobado",
         "orientation": "v",
         "showlegend": true,
         "type": "scatter",
         "x": {
          "bdata": "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",
          "dtype": "f8"
         },
         "xaxis": "x",
         "y": {
          "bdata": "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",
          "dtype": "f8"
         },
         "yaxis": "y"
        }
       ],
       "layout": {
        "legend": {
         "title": {
          "text": "Estado del Préstamo"
         },
         "tracegroupgap": 0
        },
        "template": {
         "data": {
          "bar": [
           {
            "error_x": {
             "color": "#2a3f5f"
            },
            "error_y": {
             "color": "#2a3f5f"
            },
            "marker": {
             "line": {
              "color": "#E5ECF6",
              "width": 0.5
             },
             "pattern": {
              "fillmode": "overlay",
              "size": 10,
              "solidity": 0.2
             }
            },
            "type": "bar"
           }
          ],
          "barpolar": [
           {
            "marker": {
             "line": {
              "color": "#E5ECF6",
              "width": 0.5
             },
             "pattern": {
              "fillmode": "overlay",
              "size": 10,
              "solidity": 0.2
             }
            },
            "type": "barpolar"
           }
          ],
          "carpet": [
           {
            "aaxis": {
             "endlinecolor": "#2a3f5f",
             "gridcolor": "white",
             "linecolor": "white",
             "minorgridcolor": "white",
             "startlinecolor": "#2a3f5f"
            },
            "baxis": {
             "endlinecolor": "#2a3f5f",
             "gridcolor": "white",
             "linecolor": "white",
             "minorgridcolor": "white",
             "startlinecolor": "#2a3f5f"
            },
            "type": "carpet"
           }
          ],
          "choropleth": [
           {
            "colorbar": {
             "outlinewidth": 0,
             "ticks": ""
            },
            "type": "choropleth"
           }
          ],
          "contour": [
           {
            "colorbar": {
             "outlinewidth": 0,
             "ticks": ""
            },
            "colorscale": [
             [
              0,
              "#0d0887"
             ],
             [
              0.1111111111111111,
              "#46039f"
             ],
             [
              0.2222222222222222,
              "#7201a8"
             ],
             [
              0.3333333333333333,
              "#9c179e"
             ],
             [
              0.4444444444444444,
              "#bd3786"
             ],
             [
              0.5555555555555556,
              "#d8576b"
             ],
             [
              0.6666666666666666,
              "#ed7953"
             ],
             [
              0.7777777777777778,
              "#fb9f3a"
             ],
             [
              0.8888888888888888,
              "#fdca26"
             ],
             [
              1,
              "#f0f921"
             ]
            ],
            "type": "contour"
           }
          ],
          "contourcarpet": [
           {
            "colorbar": {
             "outlinewidth": 0,
             "ticks": ""
            },
            "type": "contourcarpet"
           }
          ],
          "heatmap": [
           {
            "colorbar": {
             "outlinewidth": 0,
             "ticks": ""
            },
            "colorscale": [
             [
              0,
              "#0d0887"
             ],
             [
              0.1111111111111111,
              "#46039f"
             ],
             [
              0.2222222222222222,
              "#7201a8"
             ],
             [
              0.3333333333333333,
              "#9c179e"
             ],
             [
              0.4444444444444444,
              "#bd3786"
             ],
             [
              0.5555555555555556,
              "#d8576b"
             ],
             [
              0.6666666666666666,
              "#ed7953"
             ],
             [
              0.7777777777777778,
              "#fb9f3a"
             ],
             [
              0.8888888888888888,
              "#fdca26"
             ],
             [
              1,
              "#f0f921"
             ]
            ],
            "type": "heatmap"
           }
          ],
          "histogram": [
           {
            "marker": {
             "pattern": {
              "fillmode": "overlay",
              "size": 10,
              "solidity": 0.2
             }
            },
            "type": "histogram"
           }
          ],
          "histogram2d": [
           {
            "colorbar": {
             "outlinewidth": 0,
             "ticks": ""
            },
            "colorscale": [
             [
              0,
              "#0d0887"
             ],
             [
              0.1111111111111111,
              "#46039f"
             ],
             [
              0.2222222222222222,
              "#7201a8"
             ],
             [
              0.3333333333333333,
              "#9c179e"
             ],
             [
              0.4444444444444444,
              "#bd3786"
             ],
             [
              0.5555555555555556,
              "#d8576b"
             ],
             [
              0.6666666666666666,
              "#ed7953"
             ],
             [
              0.7777777777777778,
              "#fb9f3a"
             ],
             [
              0.8888888888888888,
              "#fdca26"
             ],
             [
              1,
              "#f0f921"
             ]
            ],
            "type": "histogram2d"
           }
          ],
          "histogram2dcontour": [
           {
            "colorbar": {
             "outlinewidth": 0,
             "ticks": ""
            },
            "colorscale": [
             [
              0,
              "#0d0887"
             ],
             [
              0.1111111111111111,
              "#46039f"
             ],
             [
              0.2222222222222222,
              "#7201a8"
             ],
             [
              0.3333333333333333,
              "#9c179e"
             ],
             [
              0.4444444444444444,
              "#bd3786"
             ],
             [
              0.5555555555555556,
              "#d8576b"
             ],
             [
              0.6666666666666666,
              "#ed7953"
             ],
             [
              0.7777777777777778,
              "#fb9f3a"
             ],
             [
              0.8888888888888888,
              "#fdca26"
             ],
             [
              1,
              "#f0f921"
             ]
            ],
            "type": "histogram2dcontour"
           }
          ],
          "mesh3d": [
           {
            "colorbar": {
             "outlinewidth": 0,
             "ticks": ""
            },
            "type": "mesh3d"
           }
          ],
          "parcoords": [
           {
            "line": {
             "colorbar": {
              "outlinewidth": 0,
              "ticks": ""
             }
            },
            "type": "parcoords"
           }
          ],
          "pie": [
           {
            "automargin": true,
            "type": "pie"
           }
          ],
          "scatter": [
           {
            "fillpattern": {
             "fillmode": "overlay",
             "size": 10,
             "solidity": 0.2
            },
            "type": "scatter"
           }
          ],
          "scatter3d": [
           {
            "line": {
             "colorbar": {
              "outlinewidth": 0,
              "ticks": ""
             }
            },
            "marker": {
             "colorbar": {
              "outlinewidth": 0,
              "ticks": ""
             }
            },
            "type": "scatter3d"
           }
          ],
          "scattercarpet": [
           {
            "marker": {
             "colorbar": {
              "outlinewidth": 0,
              "ticks": ""
             }
            },
            "type": "scattercarpet"
           }
          ],
          "scattergeo": [
           {
            "marker": {
             "colorbar": {
              "outlinewidth": 0,
              "ticks": ""
             }
            },
            "type": "scattergeo"
           }
          ],
          "scattergl": [
           {
            "marker": {
             "colorbar": {
              "outlinewidth": 0,
              "ticks": ""
             }
            },
            "type": "scattergl"
           }
          ],
          "scattermap": [
           {
            "marker": {
             "colorbar": {
              "outlinewidth": 0,
              "ticks": ""
             }
            },
            "type": "scattermap"
           }
          ],
          "scattermapbox": [
           {
            "marker": {
             "colorbar": {
              "outlinewidth": 0,
              "ticks": ""
             }
            },
            "type": "scattermapbox"
           }
          ],
          "scatterpolar": [
           {
            "marker": {
             "colorbar": {
              "outlinewidth": 0,
              "ticks": ""
             }
            },
            "type": "scatterpolar"
           }
          ],
          "scatterpolargl": [
           {
            "marker": {
             "colorbar": {
              "outlinewidth": 0,
              "ticks": ""
             }
            },
            "type": "scatterpolargl"
           }
          ],
          "scatterternary": [
           {
            "marker": {
             "colorbar": {
              "outlinewidth": 0,
              "ticks": ""
             }
            },
            "type": "scatterternary"
           }
          ],
          "surface": [
           {
            "colorbar": {
             "outlinewidth": 0,
             "ticks": ""
            },
            "colorscale": [
             [
              0,
              "#0d0887"
             ],
             [
              0.1111111111111111,
              "#46039f"
             ],
             [
              0.2222222222222222,
              "#7201a8"
             ],
             [
              0.3333333333333333,
              "#9c179e"
             ],
             [
              0.4444444444444444,
              "#bd3786"
             ],
             [
              0.5555555555555556,
              "#d8576b"
             ],
             [
              0.6666666666666666,
              "#ed7953"
             ],
             [
              0.7777777777777778,
              "#fb9f3a"
             ],
             [
              0.8888888888888888,
              "#fdca26"
             ],
             [
              1,
              "#f0f921"
             ]
            ],
            "type": "surface"
           }
          ],
          "table": [
           {
            "cells": {
             "fill": {
              "color": "#EBF0F8"
             },
             "line": {
              "color": "white"
             }
            },
            "header": {
             "fill": {
              "color": "#C8D4E3"
             },
             "line": {
              "color": "white"
             }
            },
            "type": "table"
           }
          ]
         },
         "layout": {
          "annotationdefaults": {
           "arrowcolor": "#2a3f5f",
           "arrowhead": 0,
           "arrowwidth": 1
          },
          "autotypenumbers": "strict",
          "coloraxis": {
           "colorbar": {
            "outlinewidth": 0,
            "ticks": ""
           }
          },
          "colorscale": {
           "diverging": [
            [
             0,
             "#8e0152"
            ],
            [
             0.1,
             "#c51b7d"
            ],
            [
             0.2,
             "#de77ae"
            ],
            [
             0.3,
             "#f1b6da"
            ],
            [
             0.4,
             "#fde0ef"
            ],
            [
             0.5,
             "#f7f7f7"
            ],
            [
             0.6,
             "#e6f5d0"
            ],
            [
             0.7,
             "#b8e186"
            ],
            [
             0.8,
             "#7fbc41"
            ],
            [
             0.9,
             "#4d9221"
            ],
            [
             1,
             "#276419"
            ]
           ],
           "sequential": [
            [
             0,
             "#0d0887"
            ],
            [
             0.1111111111111111,
             "#46039f"
            ],
            [
             0.2222222222222222,
             "#7201a8"
            ],
            [
             0.3333333333333333,
             "#9c179e"
            ],
            [
             0.4444444444444444,
             "#bd3786"
            ],
            [
             0.5555555555555556,
             "#d8576b"
            ],
            [
             0.6666666666666666,
             "#ed7953"
            ],
            [
             0.7777777777777778,
             "#fb9f3a"
            ],
            [
             0.8888888888888888,
             "#fdca26"
            ],
            [
             1,
             "#f0f921"
            ]
           ],
           "sequentialminus": [
            [
             0,
             "#0d0887"
            ],
            [
             0.1111111111111111,
             "#46039f"
            ],
            [
             0.2222222222222222,
             "#7201a8"
            ],
            [
             0.3333333333333333,
             "#9c179e"
            ],
            [
             0.4444444444444444,
             "#bd3786"
            ],
            [
             0.5555555555555556,
             "#d8576b"
            ],
            [
             0.6666666666666666,
             "#ed7953"
            ],
            [
             0.7777777777777778,
             "#fb9f3a"
            ],
            [
             0.8888888888888888,
             "#fdca26"
            ],
            [
             1,
             "#f0f921"
            ]
           ]
          },
          "colorway": [
           "#636efa",
           "#EF553B",
           "#00cc96",
           "#ab63fa",
           "#FFA15A",
           "#19d3f3",
           "#FF6692",
           "#B6E880",
           "#FF97FF",
           "#FECB52"
          ],
          "font": {
           "color": "#2a3f5f"
          },
          "geo": {
           "bgcolor": "white",
           "lakecolor": "white",
           "landcolor": "#E5ECF6",
           "showlakes": true,
           "showland": true,
           "subunitcolor": "white"
          },
          "hoverlabel": {
           "align": "left"
          },
          "hovermode": "closest",
          "mapbox": {
           "style": "light"
          },
          "paper_bgcolor": "white",
          "plot_bgcolor": "#E5ECF6",
          "polar": {
           "angularaxis": {
            "gridcolor": "white",
            "linecolor": "white",
            "ticks": ""
           },
           "bgcolor": "#E5ECF6",
           "radialaxis": {
            "gridcolor": "white",
            "linecolor": "white",
            "ticks": ""
           }
          },
          "scene": {
           "xaxis": {
            "backgroundcolor": "#E5ECF6",
            "gridcolor": "white",
            "gridwidth": 2,
            "linecolor": "white",
            "showbackground": true,
            "ticks": "",
            "zerolinecolor": "white"
           },
           "yaxis": {
            "backgroundcolor": "#E5ECF6",
            "gridcolor": "white",
            "gridwidth": 2,
            "linecolor": "white",
            "showbackground": true,
            "ticks": "",
            "zerolinecolor": "white"
           },
           "zaxis": {
            "backgroundcolor": "#E5ECF6",
            "gridcolor": "white",
            "gridwidth": 2,
            "linecolor": "white",
            "showbackground": true,
            "ticks": "",
            "zerolinecolor": "white"
           }
          },
          "shapedefaults": {
           "line": {
            "color": "#2a3f5f"
           }
          },
          "ternary": {
           "aaxis": {
            "gridcolor": "white",
            "linecolor": "white",
            "ticks": ""
           },
           "baxis": {
            "gridcolor": "white",
            "linecolor": "white",
            "ticks": ""
           },
           "bgcolor": "#E5ECF6",
           "caxis": {
            "gridcolor": "white",
            "linecolor": "white",
            "ticks": ""
           }
          },
          "title": {
           "x": 0.05
          },
          "xaxis": {
           "automargin": true,
           "gridcolor": "white",
           "linecolor": "white",
           "ticks": "",
           "title": {
            "standoff": 15
           },
           "zerolinecolor": "white",
           "zerolinewidth": 2
          },
          "yaxis": {
           "automargin": true,
           "gridcolor": "white",
           "linecolor": "white",
           "ticks": "",
           "title": {
            "standoff": 15
           },
           "zerolinecolor": "white",
           "zerolinewidth": 2
          }
         }
        },
        "title": {
         "text": "Edad VS Ingresos por Estado de Default"
        },
        "xaxis": {
         "anchor": "y",
         "domain": [
          0,
          1
         ],
         "title": {
          "text": "Edad"
         }
        },
        "yaxis": {
         "anchor": "x",
         "domain": [
          0,
          1
         ],
         "title": {
          "text": "Ingresos"
         }
        }
       }
      }
     },
     "metadata": {},
     "output_type": "display_data"
    },
    {
     "data": {
      "application/vnd.plotly.v1+json": {
       "config": {
        "plotlyServerURL": "https://plot.ly"
       },
       "data": [
        {
         "alignmentgroup": "True",
         "hovertemplate": "default_mod=%{x}<br>income=%{y}<extra></extra>",
         "legendgroup": "",
         "marker": {
          "color": "#636efa"
         },
         "name": "",
         "notched": false,
         "offsetgroup": "",
         "orientation": "v",
         "showlegend": false,
         "type": "box",
         "x": [
          "No Aprobado",
          "Aprobado",
          "Aprobado",
          "Aprobado",
          "No Aprobado",
          "Aprobado",
          "Aprobado",
          "Aprobado",
          "No Aprobado",
          "Aprobado",
          "Aprobado",
          "Aprobado",
          "Aprobado",
          "Aprobado",
          "Aprobado",
          "No Aprobado",
          "No Aprobado",
          "Aprobado",
          "Aprobado",
          "Aprobado",
          null,
          "Aprobado",
          "Aprobado",
          "Aprobado",
          "No Aprobado",
          "Aprobado",
          null,
          "Aprobado",
          "Aprobado",
          "Aprobado",
          "Aprobado",
          "Aprobado",
          "Aprobado",
          "Aprobado",
          "Aprobado",
          "Aprobado",
          "Aprobado",
          "Aprobado",
          "No Aprobado",
          "Aprobado",
          "Aprobado",
          "Aprobado",
          "Aprobado",
          "Aprobado",
          "No Aprobado",
          "Aprobado",
          "Aprobado",
          "Aprobado",
          "No Aprobado",
          "Aprobado",
          "No Aprobado",
          "Aprobado",
          "No Aprobado",
          "Aprobado",
          "Aprobado",
          "No Aprobado",
          "Aprobado",
          "Aprobado",
          "Aprobado",
          "Aprobado",
          "Aprobado",
          "No Aprobado",
          "Aprobado",
          "Aprobado",
          "Aprobado",
          "No Aprobado",
          "No Aprobado",
          "Aprobado",
          "No Aprobado",
          "No Aprobado",
          "Aprobado",
          "Aprobado",
          "Aprobado",
          "Aprobado",
          "Aprobado",
          "Aprobado",
          "Aprobado",
          "Aprobado",
          "Aprobado",
          "Aprobado",
          "No Aprobado",
          "Aprobado",
          "Aprobado",
          "Aprobado",
          "Aprobado",
          "Aprobado",
          "No Aprobado",
          "Aprobado",
          "Aprobado",
          "No Aprobado",
          "Aprobado",
          "No Aprobado",
          "Aprobado",
          "No Aprobado",
          "No Aprobado",
          "Aprobado",
          "Aprobado",
          "Aprobado",
          "Aprobado",
          "No Aprobado",
          "Aprobado",
          "Aprobado",
          "Aprobado",
          "Aprobado",
          "Aprobado",
          "Aprobado",
          "No Aprobado",
          "Aprobado",
          "Aprobado",
          "Aprobado",
          "Aprobado",
          "Aprobado",
          "Aprobado",
          "Aprobado",
          "Aprobado",
          "Aprobado",
          "Aprobado",
          "Aprobado",
          "No Aprobado",
          "No Aprobado",
          "Aprobado",
          "No Aprobado",
          "No Aprobado",
          "No Aprobado",
          "Aprobado",
          "Aprobado",
          "No Aprobado",
          "Aprobado",
          "Aprobado",
          "Aprobado",
          "Aprobado",
          "Aprobado",
          "Aprobado",
          "Aprobado",
          "Aprobado",
          "Aprobado",
          "Aprobado",
          "Aprobado",
          "Aprobado",
          "No Aprobado",
          "No Aprobado",
          "No Aprobado",
          "Aprobado",
          "Aprobado",
          "Aprobado",
          "Aprobado",
          "Aprobado",
          "Aprobado",
          "Aprobado",
          "Aprobado",
          "Aprobado",
          "No Aprobado",
          "Aprobado",
          "Aprobado",
          "Aprobado",
          "Aprobado",
          "Aprobado",
          "No Aprobado",
          "No Aprobado",
          "Aprobado",
          "Aprobado",
          "Aprobado",
          "No Aprobado",
          "Aprobado",
          "No Aprobado",
          "No Aprobado",
          "No Aprobado",
          "Aprobado",
          "Aprobado",
          "Aprobado",
          "Aprobado",
          "Aprobado",
          "No Aprobado",
          "Aprobado",
          "Aprobado",
          "Aprobado",
          "Aprobado",
          "Aprobado",
          "Aprobado",
          "No Aprobado",
          "Aprobado",
          "Aprobado",
          "Aprobado",
          "Aprobado",
          "Aprobado",
          "Aprobado",
          "No Aprobado",
          "Aprobado",
          "Aprobado",
          "Aprobado",
          "No Aprobado",
          "Aprobado",
          "No Aprobado",
          "No Aprobado",
          "Aprobado",
          "Aprobado",
          "No Aprobado",
          "Aprobado",
          "Aprobado",
          "No Aprobado",
          "Aprobado",
          "No Aprobado",
          "Aprobado",
          "Aprobado",
          "Aprobado",
          "Aprobado",
          "Aprobado",
          "Aprobado",
          "Aprobado",
          "Aprobado",
          "Aprobado",
          "No Aprobado",
          "Aprobado",
          "No Aprobado",
          "Aprobado",
          "Aprobado",
          "Aprobado",
          "Aprobado",
          "No Aprobado",
          "No Aprobado",
          "Aprobado",
          "Aprobado",
          "Aprobado",
          "No Aprobado",
          "No Aprobado",
          "Aprobado",
          "Aprobado",
          "Aprobado",
          "Aprobado",
          "Aprobado",
          "Aprobado",
          "No Aprobado",
          "Aprobado",
          "Aprobado",
          "Aprobado",
          "Aprobado",
          "Aprobado",
          "No Aprobado",
          "Aprobado",
          "No Aprobado",
          "Aprobado",
          "Aprobado",
          "Aprobado",
          "Aprobado",
          "Aprobado",
          "Aprobado",
          "Aprobado",
          "Aprobado",
          "Aprobado",
          "Aprobado",
          "Aprobado",
          "No Aprobado",
          "Aprobado",
          "Aprobado",
          "Aprobado",
          "Aprobado",
          "Aprobado",
          "Aprobado",
          "Aprobado",
          "Aprobado",
          "Aprobado",
          "Aprobado",
          "Aprobado",
          "No Aprobado",
          "Aprobado",
          "Aprobado",
          "Aprobado",
          "No Aprobado",
          "Aprobado",
          "Aprobado",
          "Aprobado",
          "Aprobado",
          "Aprobado",
          "Aprobado",
          "Aprobado",
          "No Aprobado",
          "No Aprobado",
          "Aprobado",
          "No Aprobado",
          "Aprobado",
          "No Aprobado",
          "No Aprobado",
          "Aprobado",
          "Aprobado",
          "Aprobado",
          "Aprobado",
          "Aprobado",
          "No Aprobado",
          "Aprobado",
          "Aprobado",
          "Aprobado",
          "Aprobado",
          "Aprobado",
          "Aprobado",
          "No Aprobado",
          "Aprobado",
          "Aprobado",
          "Aprobado",
          "No Aprobado",
          "Aprobado",
          "No Aprobado",
          "Aprobado",
          "Aprobado",
          "Aprobado",
          "Aprobado",
          "Aprobado",
          "Aprobado",
          "Aprobado",
          "Aprobado",
          "Aprobado",
          "No Aprobado",
          "Aprobado",
          "No Aprobado",
          "Aprobado",
          "Aprobado",
          "Aprobado",
          "Aprobado",
          "Aprobado",
          "Aprobado",
          "No Aprobado",
          "Aprobado",
          "No Aprobado",
          "Aprobado",
          "No Aprobado",
          "No Aprobado",
          "No Aprobado",
          "Aprobado",
          "Aprobado",
          "Aprobado",
          "Aprobado",
          "Aprobado",
          "No Aprobado",
          "No Aprobado",
          "Aprobado",
          "Aprobado",
          "Aprobado",
          "Aprobado",
          "Aprobado",
          "No Aprobado",
          "No Aprobado",
          "Aprobado",
          "Aprobado",
          "Aprobado",
          "No Aprobado",
          "Aprobado",
          "No Aprobado",
          "Aprobado",
          "Aprobado",
          "Aprobado",
          "Aprobado",
          "Aprobado",
          "Aprobado",
          "Aprobado",
          "Aprobado",
          "No Aprobado",
          "No Aprobado",
          "No Aprobado",
          "No Aprobado",
          "Aprobado",
          "Aprobado",
          "Aprobado",
          "Aprobado",
          "Aprobado",
          "Aprobado",
          "No Aprobado",
          "Aprobado",
          "Aprobado",
          "Aprobado",
          "Aprobado",
          "Aprobado",
          "Aprobado",
          "Aprobado",
          "Aprobado",
          "No Aprobado",
          "Aprobado",
          "Aprobado",
          "Aprobado",
          "Aprobado",
          "Aprobado",
          "Aprobado",
          "Aprobado",
          "No Aprobado",
          "No Aprobado",
          "Aprobado",
          "No Aprobado",
          "Aprobado",
          "Aprobado",
          "Aprobado",
          "Aprobado",
          "Aprobado",
          "Aprobado",
          "No Aprobado",
          "Aprobado",
          "No Aprobado",
          "No Aprobado",
          "Aprobado",
          "Aprobado",
          "Aprobado",
          "Aprobado",
          "No Aprobado",
          "Aprobado",
          "Aprobado",
          "Aprobado",
          "No Aprobado",
          "Aprobado",
          "Aprobado",
          "Aprobado",
          "Aprobado",
          "Aprobado",
          "Aprobado",
          "Aprobado",
          "Aprobado",
          "Aprobado",
          "No Aprobado",
          "No Aprobado",
          "Aprobado",
          "Aprobado",
          "Aprobado",
          "No Aprobado",
          "Aprobado",
          "No Aprobado",
          "Aprobado",
          "Aprobado",
          "Aprobado",
          "No Aprobado",
          "Aprobado",
          "Aprobado",
          "Aprobado",
          "No Aprobado",
          "Aprobado",
          "No Aprobado",
          "Aprobado",
          "Aprobado",
          "No Aprobado",
          "Aprobado",
          "Aprobado",
          "Aprobado",
          "Aprobado",
          "Aprobado",
          "Aprobado",
          "Aprobado",
          "Aprobado",
          "Aprobado",
          "No Aprobado",
          "No Aprobado",
          "Aprobado",
          "Aprobado",
          "Aprobado",
          "No Aprobado",
          "No Aprobado",
          "Aprobado",
          "Aprobado",
          "Aprobado",
          "Aprobado",
          "No Aprobado",
          "Aprobado",
          "Aprobado",
          "Aprobado",
          "Aprobado",
          "Aprobado",
          "Aprobado",
          "No Aprobado",
          "Aprobado",
          "Aprobado",
          "Aprobado",
          "Aprobado",
          "No Aprobado",
          "Aprobado",
          "Aprobado",
          "No Aprobado",
          "No Aprobado",
          "No Aprobado",
          "Aprobado",
          "Aprobado",
          "Aprobado",
          "Aprobado",
          "No Aprobado",
          "Aprobado",
          "Aprobado",
          "Aprobado",
          "Aprobado",
          "No Aprobado",
          "Aprobado",
          "Aprobado",
          "No Aprobado",
          "Aprobado",
          "No Aprobado",
          "No Aprobado",
          "No Aprobado",
          "Aprobado",
          "Aprobado",
          "No Aprobado",
          "No Aprobado",
          "No Aprobado",
          "No Aprobado",
          "No Aprobado",
          "Aprobado",
          "Aprobado",
          "No Aprobado",
          "No Aprobado",
          "Aprobado",
          "No Aprobado",
          "Aprobado",
          "Aprobado",
          "No Aprobado",
          "Aprobado",
          "Aprobado",
          "Aprobado",
          "Aprobado",
          "Aprobado",
          "Aprobado",
          "Aprobado",
          "Aprobado",
          "Aprobado",
          "No Aprobado",
          "Aprobado",
          "Aprobado",
          "Aprobado",
          "Aprobado",
          "Aprobado",
          "Aprobado",
          "Aprobado",
          "Aprobado",
          "Aprobado",
          "Aprobado",
          "Aprobado",
          "Aprobado",
          "Aprobado",
          "Aprobado",
          "No Aprobado",
          "No Aprobado",
          "No Aprobado",
          "No Aprobado",
          "Aprobado",
          "Aprobado",
          "Aprobado",
          "Aprobado",
          "No Aprobado",
          "Aprobado",
          "No Aprobado",
          "Aprobado",
          "Aprobado",
          "Aprobado",
          "No Aprobado",
          "Aprobado",
          "Aprobado",
          "Aprobado",
          "Aprobado",
          "No Aprobado",
          "No Aprobado",
          "No Aprobado",
          "No Aprobado",
          "Aprobado",
          "Aprobado",
          "Aprobado",
          "Aprobado",
          "Aprobado",
          "Aprobado",
          "No Aprobado",
          "Aprobado",
          "Aprobado",
          "Aprobado",
          "Aprobado",
          "Aprobado",
          "No Aprobado",
          "No Aprobado",
          "Aprobado",
          "Aprobado",
          "No Aprobado",
          "Aprobado",
          "No Aprobado",
          "Aprobado",
          "Aprobado",
          "No Aprobado",
          "No Aprobado",
          "Aprobado",
          "No Aprobado",
          "Aprobado",
          "Aprobado",
          "Aprobado",
          "Aprobado",
          "Aprobado",
          "Aprobado",
          "No Aprobado",
          "No Aprobado",
          "Aprobado",
          "Aprobado",
          "Aprobado",
          "Aprobado",
          "No Aprobado",
          "No Aprobado",
          "No Aprobado",
          "Aprobado",
          "Aprobado",
          "No Aprobado",
          "Aprobado",
          "No Aprobado",
          "No Aprobado",
          "Aprobado",
          "No Aprobado",
          "Aprobado",
          "Aprobado",
          "Aprobado",
          "Aprobado",
          "No Aprobado",
          "Aprobado",
          "No Aprobado",
          "Aprobado",
          "Aprobado",
          "Aprobado",
          "No Aprobado",
          "Aprobado",
          "No Aprobado",
          "Aprobado",
          "Aprobado",
          "Aprobado",
          "No Aprobado",
          "No Aprobado",
          "No Aprobado",
          "Aprobado",
          "Aprobado",
          "Aprobado",
          "Aprobado",
          "Aprobado",
          "Aprobado",
          "Aprobado",
          "Aprobado",
          "Aprobado",
          "Aprobado",
          "Aprobado",
          "Aprobado",
          "Aprobado",
          "No Aprobado",
          "No Aprobado",
          "Aprobado",
          "Aprobado",
          "No Aprobado",
          "No Aprobado",
          "Aprobado",
          "Aprobado",
          "Aprobado",
          "Aprobado",
          "Aprobado",
          "Aprobado",
          "Aprobado",
          "No Aprobado",
          "Aprobado",
          "Aprobado",
          "Aprobado",
          "Aprobado",
          "No Aprobado",
          "Aprobado",
          "Aprobado",
          "No Aprobado",
          "Aprobado",
          "Aprobado",
          "Aprobado",
          "Aprobado",
          "Aprobado",
          "Aprobado",
          "Aprobado",
          "No Aprobado",
          "Aprobado",
          "Aprobado",
          "Aprobado",
          "Aprobado",
          "Aprobado",
          "Aprobado",
          "Aprobado",
          "Aprobado",
          "Aprobado",
          "Aprobado",
          "Aprobado",
          "No Aprobado",
          "Aprobado",
          "Aprobado",
          "Aprobado",
          "No Aprobado",
          "Aprobado",
          "Aprobado",
          "No Aprobado",
          "No Aprobado",
          "Aprobado",
          "Aprobado",
          "Aprobado",
          "No Aprobado",
          "Aprobado",
          "No Aprobado",
          "Aprobado",
          "Aprobado",
          "Aprobado",
          "Aprobado",
          "No Aprobado",
          "Aprobado",
          "Aprobado",
          "No Aprobado",
          "Aprobado",
          "Aprobado",
          "Aprobado",
          "Aprobado"
         ],
         "x0": " ",
         "xaxis": "x",
         "y": {
          "bdata": "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",
          "dtype": "f8"
         },
         "y0": " ",
         "yaxis": "y"
        }
       ],
       "layout": {
        "boxmode": "group",
        "legend": {
         "tracegroupgap": 0
        },
        "template": {
         "data": {
          "bar": [
           {
            "error_x": {
             "color": "#2a3f5f"
            },
            "error_y": {
             "color": "#2a3f5f"
            },
            "marker": {
             "line": {
              "color": "#E5ECF6",
              "width": 0.5
             },
             "pattern": {
              "fillmode": "overlay",
              "size": 10,
              "solidity": 0.2
             }
            },
            "type": "bar"
           }
          ],
          "barpolar": [
           {
            "marker": {
             "line": {
              "color": "#E5ECF6",
              "width": 0.5
             },
             "pattern": {
              "fillmode": "overlay",
              "size": 10,
              "solidity": 0.2
             }
            },
            "type": "barpolar"
           }
          ],
          "carpet": [
           {
            "aaxis": {
             "endlinecolor": "#2a3f5f",
             "gridcolor": "white",
             "linecolor": "white",
             "minorgridcolor": "white",
             "startlinecolor": "#2a3f5f"
            },
            "baxis": {
             "endlinecolor": "#2a3f5f",
             "gridcolor": "white",
             "linecolor": "white",
             "minorgridcolor": "white",
             "startlinecolor": "#2a3f5f"
            },
            "type": "carpet"
           }
          ],
          "choropleth": [
           {
            "colorbar": {
             "outlinewidth": 0,
             "ticks": ""
            },
            "type": "choropleth"
           }
          ],
          "contour": [
           {
            "colorbar": {
             "outlinewidth": 0,
             "ticks": ""
            },
            "colorscale": [
             [
              0,
              "#0d0887"
             ],
             [
              0.1111111111111111,
              "#46039f"
             ],
             [
              0.2222222222222222,
              "#7201a8"
             ],
             [
              0.3333333333333333,
              "#9c179e"
             ],
             [
              0.4444444444444444,
              "#bd3786"
             ],
             [
              0.5555555555555556,
              "#d8576b"
             ],
             [
              0.6666666666666666,
              "#ed7953"
             ],
             [
              0.7777777777777778,
              "#fb9f3a"
             ],
             [
              0.8888888888888888,
              "#fdca26"
             ],
             [
              1,
              "#f0f921"
             ]
            ],
            "type": "contour"
           }
          ],
          "contourcarpet": [
           {
            "colorbar": {
             "outlinewidth": 0,
             "ticks": ""
            },
            "type": "contourcarpet"
           }
          ],
          "heatmap": [
           {
            "colorbar": {
             "outlinewidth": 0,
             "ticks": ""
            },
            "colorscale": [
             [
              0,
              "#0d0887"
             ],
             [
              0.1111111111111111,
              "#46039f"
             ],
             [
              0.2222222222222222,
              "#7201a8"
             ],
             [
              0.3333333333333333,
              "#9c179e"
             ],
             [
              0.4444444444444444,
              "#bd3786"
             ],
             [
              0.5555555555555556,
              "#d8576b"
             ],
             [
              0.6666666666666666,
              "#ed7953"
             ],
             [
              0.7777777777777778,
              "#fb9f3a"
             ],
             [
              0.8888888888888888,
              "#fdca26"
             ],
             [
              1,
              "#f0f921"
             ]
            ],
            "type": "heatmap"
           }
          ],
          "histogram": [
           {
            "marker": {
             "pattern": {
              "fillmode": "overlay",
              "size": 10,
              "solidity": 0.2
             }
            },
            "type": "histogram"
           }
          ],
          "histogram2d": [
           {
            "colorbar": {
             "outlinewidth": 0,
             "ticks": ""
            },
            "colorscale": [
             [
              0,
              "#0d0887"
             ],
             [
              0.1111111111111111,
              "#46039f"
             ],
             [
              0.2222222222222222,
              "#7201a8"
             ],
             [
              0.3333333333333333,
              "#9c179e"
             ],
             [
              0.4444444444444444,
              "#bd3786"
             ],
             [
              0.5555555555555556,
              "#d8576b"
             ],
             [
              0.6666666666666666,
              "#ed7953"
             ],
             [
              0.7777777777777778,
              "#fb9f3a"
             ],
             [
              0.8888888888888888,
              "#fdca26"
             ],
             [
              1,
              "#f0f921"
             ]
            ],
            "type": "histogram2d"
           }
          ],
          "histogram2dcontour": [
           {
            "colorbar": {
             "outlinewidth": 0,
             "ticks": ""
            },
            "colorscale": [
             [
              0,
              "#0d0887"
             ],
             [
              0.1111111111111111,
              "#46039f"
             ],
             [
              0.2222222222222222,
              "#7201a8"
             ],
             [
              0.3333333333333333,
              "#9c179e"
             ],
             [
              0.4444444444444444,
              "#bd3786"
             ],
             [
              0.5555555555555556,
              "#d8576b"
             ],
             [
              0.6666666666666666,
              "#ed7953"
             ],
             [
              0.7777777777777778,
              "#fb9f3a"
             ],
             [
              0.8888888888888888,
              "#fdca26"
             ],
             [
              1,
              "#f0f921"
             ]
            ],
            "type": "histogram2dcontour"
           }
          ],
          "mesh3d": [
           {
            "colorbar": {
             "outlinewidth": 0,
             "ticks": ""
            },
            "type": "mesh3d"
           }
          ],
          "parcoords": [
           {
            "line": {
             "colorbar": {
              "outlinewidth": 0,
              "ticks": ""
             }
            },
            "type": "parcoords"
           }
          ],
          "pie": [
           {
            "automargin": true,
            "type": "pie"
           }
          ],
          "scatter": [
           {
            "fillpattern": {
             "fillmode": "overlay",
             "size": 10,
             "solidity": 0.2
            },
            "type": "scatter"
           }
          ],
          "scatter3d": [
           {
            "line": {
             "colorbar": {
              "outlinewidth": 0,
              "ticks": ""
             }
            },
            "marker": {
             "colorbar": {
              "outlinewidth": 0,
              "ticks": ""
             }
            },
            "type": "scatter3d"
           }
          ],
          "scattercarpet": [
           {
            "marker": {
             "colorbar": {
              "outlinewidth": 0,
              "ticks": ""
             }
            },
            "type": "scattercarpet"
           }
          ],
          "scattergeo": [
           {
            "marker": {
             "colorbar": {
              "outlinewidth": 0,
              "ticks": ""
             }
            },
            "type": "scattergeo"
           }
          ],
          "scattergl": [
           {
            "marker": {
             "colorbar": {
              "outlinewidth": 0,
              "ticks": ""
             }
            },
            "type": "scattergl"
           }
          ],
          "scattermap": [
           {
            "marker": {
             "colorbar": {
              "outlinewidth": 0,
              "ticks": ""
             }
            },
            "type": "scattermap"
           }
          ],
          "scattermapbox": [
           {
            "marker": {
             "colorbar": {
              "outlinewidth": 0,
              "ticks": ""
             }
            },
            "type": "scattermapbox"
           }
          ],
          "scatterpolar": [
           {
            "marker": {
             "colorbar": {
              "outlinewidth": 0,
              "ticks": ""
             }
            },
            "type": "scatterpolar"
           }
          ],
          "scatterpolargl": [
           {
            "marker": {
             "colorbar": {
              "outlinewidth": 0,
              "ticks": ""
             }
            },
            "type": "scatterpolargl"
           }
          ],
          "scatterternary": [
           {
            "marker": {
             "colorbar": {
              "outlinewidth": 0,
              "ticks": ""
             }
            },
            "type": "scatterternary"
           }
          ],
          "surface": [
           {
            "colorbar": {
             "outlinewidth": 0,
             "ticks": ""
            },
            "colorscale": [
             [
              0,
              "#0d0887"
             ],
             [
              0.1111111111111111,
              "#46039f"
             ],
             [
              0.2222222222222222,
              "#7201a8"
             ],
             [
              0.3333333333333333,
              "#9c179e"
             ],
             [
              0.4444444444444444,
              "#bd3786"
             ],
             [
              0.5555555555555556,
              "#d8576b"
             ],
             [
              0.6666666666666666,
              "#ed7953"
             ],
             [
              0.7777777777777778,
              "#fb9f3a"
             ],
             [
              0.8888888888888888,
              "#fdca26"
             ],
             [
              1,
              "#f0f921"
             ]
            ],
            "type": "surface"
           }
          ],
          "table": [
           {
            "cells": {
             "fill": {
              "color": "#EBF0F8"
             },
             "line": {
              "color": "white"
             }
            },
            "header": {
             "fill": {
              "color": "#C8D4E3"
             },
             "line": {
              "color": "white"
             }
            },
            "type": "table"
           }
          ]
         },
         "layout": {
          "annotationdefaults": {
           "arrowcolor": "#2a3f5f",
           "arrowhead": 0,
           "arrowwidth": 1
          },
          "autotypenumbers": "strict",
          "coloraxis": {
           "colorbar": {
            "outlinewidth": 0,
            "ticks": ""
           }
          },
          "colorscale": {
           "diverging": [
            [
             0,
             "#8e0152"
            ],
            [
             0.1,
             "#c51b7d"
            ],
            [
             0.2,
             "#de77ae"
            ],
            [
             0.3,
             "#f1b6da"
            ],
            [
             0.4,
             "#fde0ef"
            ],
            [
             0.5,
             "#f7f7f7"
            ],
            [
             0.6,
             "#e6f5d0"
            ],
            [
             0.7,
             "#b8e186"
            ],
            [
             0.8,
             "#7fbc41"
            ],
            [
             0.9,
             "#4d9221"
            ],
            [
             1,
             "#276419"
            ]
           ],
           "sequential": [
            [
             0,
             "#0d0887"
            ],
            [
             0.1111111111111111,
             "#46039f"
            ],
            [
             0.2222222222222222,
             "#7201a8"
            ],
            [
             0.3333333333333333,
             "#9c179e"
            ],
            [
             0.4444444444444444,
             "#bd3786"
            ],
            [
             0.5555555555555556,
             "#d8576b"
            ],
            [
             0.6666666666666666,
             "#ed7953"
            ],
            [
             0.7777777777777778,
             "#fb9f3a"
            ],
            [
             0.8888888888888888,
             "#fdca26"
            ],
            [
             1,
             "#f0f921"
            ]
           ],
           "sequentialminus": [
            [
             0,
             "#0d0887"
            ],
            [
             0.1111111111111111,
             "#46039f"
            ],
            [
             0.2222222222222222,
             "#7201a8"
            ],
            [
             0.3333333333333333,
             "#9c179e"
            ],
            [
             0.4444444444444444,
             "#bd3786"
            ],
            [
             0.5555555555555556,
             "#d8576b"
            ],
            [
             0.6666666666666666,
             "#ed7953"
            ],
            [
             0.7777777777777778,
             "#fb9f3a"
            ],
            [
             0.8888888888888888,
             "#fdca26"
            ],
            [
             1,
             "#f0f921"
            ]
           ]
          },
          "colorway": [
           "#636efa",
           "#EF553B",
           "#00cc96",
           "#ab63fa",
           "#FFA15A",
           "#19d3f3",
           "#FF6692",
           "#B6E880",
           "#FF97FF",
           "#FECB52"
          ],
          "font": {
           "color": "#2a3f5f"
          },
          "geo": {
           "bgcolor": "white",
           "lakecolor": "white",
           "landcolor": "#E5ECF6",
           "showlakes": true,
           "showland": true,
           "subunitcolor": "white"
          },
          "hoverlabel": {
           "align": "left"
          },
          "hovermode": "closest",
          "mapbox": {
           "style": "light"
          },
          "paper_bgcolor": "white",
          "plot_bgcolor": "#E5ECF6",
          "polar": {
           "angularaxis": {
            "gridcolor": "white",
            "linecolor": "white",
            "ticks": ""
           },
           "bgcolor": "#E5ECF6",
           "radialaxis": {
            "gridcolor": "white",
            "linecolor": "white",
            "ticks": ""
           }
          },
          "scene": {
           "xaxis": {
            "backgroundcolor": "#E5ECF6",
            "gridcolor": "white",
            "gridwidth": 2,
            "linecolor": "white",
            "showbackground": true,
            "ticks": "",
            "zerolinecolor": "white"
           },
           "yaxis": {
            "backgroundcolor": "#E5ECF6",
            "gridcolor": "white",
            "gridwidth": 2,
            "linecolor": "white",
            "showbackground": true,
            "ticks": "",
            "zerolinecolor": "white"
           },
           "zaxis": {
            "backgroundcolor": "#E5ECF6",
            "gridcolor": "white",
            "gridwidth": 2,
            "linecolor": "white",
            "showbackground": true,
            "ticks": "",
            "zerolinecolor": "white"
           }
          },
          "shapedefaults": {
           "line": {
            "color": "#2a3f5f"
           }
          },
          "ternary": {
           "aaxis": {
            "gridcolor": "white",
            "linecolor": "white",
            "ticks": ""
           },
           "baxis": {
            "gridcolor": "white",
            "linecolor": "white",
            "ticks": ""
           },
           "bgcolor": "#E5ECF6",
           "caxis": {
            "gridcolor": "white",
            "linecolor": "white",
            "ticks": ""
           }
          },
          "title": {
           "x": 0.05
          },
          "xaxis": {
           "automargin": true,
           "gridcolor": "white",
           "linecolor": "white",
           "ticks": "",
           "title": {
            "standoff": 15
           },
           "zerolinecolor": "white",
           "zerolinewidth": 2
          },
          "yaxis": {
           "automargin": true,
           "gridcolor": "white",
           "linecolor": "white",
           "ticks": "",
           "title": {
            "standoff": 15
           },
           "zerolinecolor": "white",
           "zerolinewidth": 2
          }
         }
        },
        "title": {
         "text": "Distribucón de Ingresos po Estado de Default"
        },
        "xaxis": {
         "anchor": "y",
         "domain": [
          0,
          1
         ],
         "title": {
          "text": "default_mod"
         }
        },
        "yaxis": {
         "anchor": "x",
         "domain": [
          0,
          1
         ],
         "title": {
          "text": "income"
         }
        }
       }
      }
     },
     "metadata": {},
     "output_type": "display_data"
    },
    {
     "data": {
      "application/vnd.plotly.v1+json": {
       "config": {
        "plotlyServerURL": "https://plot.ly"
       },
       "data": [
        {
         "alignmentgroup": "True",
         "box": {
          "visible": false
         },
         "hovertemplate": "ed_text=%{x}<br>creddebt=%{y}<extra></extra>",
         "legendgroup": "",
         "marker": {
          "color": "#636efa"
         },
         "name": "",
         "offsetgroup": "",
         "orientation": "v",
         "scalegroup": "True",
         "showlegend": false,
         "type": "violin",
         "x": [
          "Secundaria / Bachillerato",
          "Postgrado / Máster / Doctorado",
          "Postgrado / Máster / Doctorado",
          null,
          "Universidad / Grado",
          "Universidad / Grado",
          "Postgrado / Máster / Doctorado",
          "Postgrado / Máster / Doctorado",
          "Postgrado / Máster / Doctorado",
          "Postgrado / Máster / Doctorado",
          "Postgrado / Máster / Doctorado",
          "Postgrado / Máster / Doctorado",
          "Postgrado / Máster / Doctorado",
          "Postgrado / Máster / Doctorado",
          "Postgrado / Máster / Doctorado",
          "Universidad / Grado",
          "Universidad / Grado",
          "Postgrado / Máster / Doctorado",
          "Postgrado / Máster / Doctorado",
          null,
          "Postgrado / Máster / Doctorado",
          "Postgrado / Máster / Doctorado",
          "Postgrado / Máster / Doctorado",
          "Postgrado / Máster / Doctorado",
          null,
          "Primaria",
          "Universidad / Grado",
          "Postgrado / Máster / Doctorado",
          "Universidad / Grado",
          "Secundaria / Bachillerato",
          "Postgrado / Máster / Doctorado",
          "Postgrado / Máster / Doctorado",
          null,
          "Postgrado / Máster / Doctorado",
          "Postgrado / Máster / Doctorado",
          "Universidad / Grado",
          "Universidad / Grado",
          "Universidad / Grado",
          null,
          "Postgrado / Máster / Doctorado",
          "Postgrado / Máster / Doctorado",
          "Postgrado / Máster / Doctorado",
          "Universidad / Grado",
          "Postgrado / Máster / Doctorado",
          "Postgrado / Máster / Doctorado",
          "Universidad / Grado",
          "Postgrado / Máster / Doctorado",
          "Postgrado / Máster / Doctorado",
          "Universidad / Grado",
          "Postgrado / Máster / Doctorado",
          "Postgrado / Máster / Doctorado",
          "Postgrado / Máster / Doctorado",
          "Postgrado / Máster / Doctorado",
          null,
          "Universidad / Grado",
          "Postgrado / Máster / Doctorado",
          "Postgrado / Máster / Doctorado",
          "Universidad / Grado",
          "Secundaria / Bachillerato",
          "Secundaria / Bachillerato",
          "Postgrado / Máster / Doctorado",
          "Postgrado / Máster / Doctorado",
          "Postgrado / Máster / Doctorado",
          "Universidad / Grado",
          "Universidad / Grado",
          "Universidad / Grado",
          "Universidad / Grado",
          "Postgrado / Máster / Doctorado",
          "Universidad / Grado",
          "Postgrado / Máster / Doctorado",
          "Universidad / Grado",
          "Universidad / Grado",
          "Postgrado / Máster / Doctorado",
          "Secundaria / Bachillerato",
          "Postgrado / Máster / Doctorado",
          "Postgrado / Máster / Doctorado",
          "Postgrado / Máster / Doctorado",
          "Postgrado / Máster / Doctorado",
          "Postgrado / Máster / Doctorado",
          "Postgrado / Máster / Doctorado",
          "Postgrado / Máster / Doctorado",
          "Postgrado / Máster / Doctorado",
          "Postgrado / Máster / Doctorado",
          "Primaria",
          "Postgrado / Máster / Doctorado",
          "Postgrado / Máster / Doctorado",
          "Universidad / Grado",
          "Secundaria / Bachillerato",
          "Postgrado / Máster / Doctorado",
          "Universidad / Grado",
          "Postgrado / Máster / Doctorado",
          "Postgrado / Máster / Doctorado",
          "Postgrado / Máster / Doctorado",
          "Universidad / Grado",
          "Secundaria / Bachillerato",
          "Postgrado / Máster / Doctorado",
          null,
          "Postgrado / Máster / Doctorado",
          "Universidad / Grado",
          "Secundaria / Bachillerato",
          "Postgrado / Máster / Doctorado",
          "Postgrado / Máster / Doctorado",
          "Postgrado / Máster / Doctorado",
          "Universidad / Grado",
          "Universidad / Grado",
          "Postgrado / Máster / Doctorado",
          "Postgrado / Máster / Doctorado",
          "Postgrado / Máster / Doctorado",
          "Universidad / Grado",
          "Universidad / Grado",
          "Secundaria / Bachillerato",
          "Postgrado / Máster / Doctorado",
          "Secundaria / Bachillerato",
          null,
          "Postgrado / Máster / Doctorado",
          "Universidad / Grado",
          "Universidad / Grado",
          "Universidad / Grado",
          "Universidad / Grado",
          "Postgrado / Máster / Doctorado",
          "Postgrado / Máster / Doctorado",
          "Postgrado / Máster / Doctorado",
          "Primaria",
          "Postgrado / Máster / Doctorado",
          "Postgrado / Máster / Doctorado",
          "Postgrado / Máster / Doctorado",
          "Universidad / Grado",
          "Universidad / Grado",
          "Postgrado / Máster / Doctorado",
          "Universidad / Grado",
          "Primaria",
          "Postgrado / Máster / Doctorado",
          "Universidad / Grado",
          "Postgrado / Máster / Doctorado",
          "Postgrado / Máster / Doctorado",
          "Universidad / Grado",
          "Universidad / Grado",
          null,
          "Postgrado / Máster / Doctorado",
          "Universidad / Grado",
          "Postgrado / Máster / Doctorado",
          "Postgrado / Máster / Doctorado",
          "Secundaria / Bachillerato",
          "Postgrado / Máster / Doctorado",
          "Postgrado / Máster / Doctorado",
          "Universidad / Grado",
          "Primaria",
          "Primaria",
          "Postgrado / Máster / Doctorado",
          "Postgrado / Máster / Doctorado",
          "Universidad / Grado",
          "Postgrado / Máster / Doctorado",
          "Postgrado / Máster / Doctorado",
          "Postgrado / Máster / Doctorado",
          "Universidad / Grado",
          "Secundaria / Bachillerato",
          "Postgrado / Máster / Doctorado",
          "Postgrado / Máster / Doctorado",
          "Postgrado / Máster / Doctorado",
          "Postgrado / Máster / Doctorado",
          "Postgrado / Máster / Doctorado",
          "Secundaria / Bachillerato",
          "Universidad / Grado",
          "Postgrado / Máster / Doctorado",
          "Universidad / Grado",
          "Universidad / Grado",
          "Postgrado / Máster / Doctorado",
          "Postgrado / Máster / Doctorado",
          "Primaria",
          "Postgrado / Máster / Doctorado",
          "Postgrado / Máster / Doctorado",
          "Postgrado / Máster / Doctorado",
          "Postgrado / Máster / Doctorado",
          "Postgrado / Máster / Doctorado",
          "Postgrado / Máster / Doctorado",
          "Postgrado / Máster / Doctorado",
          "Postgrado / Máster / Doctorado",
          "Universidad / Grado",
          "Postgrado / Máster / Doctorado",
          "Universidad / Grado",
          "Postgrado / Máster / Doctorado",
          "Universidad / Grado",
          "Secundaria / Bachillerato",
          "Postgrado / Máster / Doctorado",
          "Primaria",
          "Postgrado / Máster / Doctorado",
          "Postgrado / Máster / Doctorado",
          "Postgrado / Máster / Doctorado",
          "Postgrado / Máster / Doctorado",
          "Postgrado / Máster / Doctorado",
          "Universidad / Grado",
          "Postgrado / Máster / Doctorado",
          "Postgrado / Máster / Doctorado",
          "Postgrado / Máster / Doctorado",
          "Universidad / Grado",
          "Postgrado / Máster / Doctorado",
          "Postgrado / Máster / Doctorado",
          "Primaria",
          "Postgrado / Máster / Doctorado",
          "Universidad / Grado",
          "Postgrado / Máster / Doctorado",
          "Secundaria / Bachillerato",
          "Primaria",
          "Universidad / Grado",
          "Secundaria / Bachillerato",
          "Secundaria / Bachillerato",
          "Postgrado / Máster / Doctorado",
          "Universidad / Grado",
          "Postgrado / Máster / Doctorado",
          "Universidad / Grado",
          "Secundaria / Bachillerato",
          "Postgrado / Máster / Doctorado",
          "Secundaria / Bachillerato",
          "Secundaria / Bachillerato",
          null,
          "Secundaria / Bachillerato",
          "Postgrado / Máster / Doctorado",
          "Universidad / Grado",
          "Universidad / Grado",
          "Primaria",
          "Postgrado / Máster / Doctorado",
          "Secundaria / Bachillerato",
          "Secundaria / Bachillerato",
          "Secundaria / Bachillerato",
          "Universidad / Grado",
          "Postgrado / Máster / Doctorado",
          "Universidad / Grado",
          "Primaria",
          "Universidad / Grado",
          "Postgrado / Máster / Doctorado",
          "Secundaria / Bachillerato",
          "Postgrado / Máster / Doctorado",
          "Universidad / Grado",
          "Universidad / Grado",
          "Postgrado / Máster / Doctorado",
          "Postgrado / Máster / Doctorado",
          "Universidad / Grado",
          "Universidad / Grado",
          "Universidad / Grado",
          "Postgrado / Máster / Doctorado",
          null,
          "Postgrado / Máster / Doctorado",
          "Universidad / Grado",
          "Secundaria / Bachillerato",
          "Secundaria / Bachillerato",
          "Postgrado / Máster / Doctorado",
          "Postgrado / Máster / Doctorado",
          "Postgrado / Máster / Doctorado",
          "Postgrado / Máster / Doctorado",
          "Universidad / Grado",
          "Universidad / Grado",
          "Postgrado / Máster / Doctorado",
          "Universidad / Grado",
          "Universidad / Grado",
          "Postgrado / Máster / Doctorado",
          "Postgrado / Máster / Doctorado",
          "Postgrado / Máster / Doctorado",
          "Secundaria / Bachillerato",
          "Secundaria / Bachillerato",
          "Universidad / Grado",
          "Postgrado / Máster / Doctorado",
          "Universidad / Grado",
          "Universidad / Grado",
          "Postgrado / Máster / Doctorado",
          "Postgrado / Máster / Doctorado",
          "Postgrado / Máster / Doctorado",
          "Postgrado / Máster / Doctorado",
          "Secundaria / Bachillerato",
          "Postgrado / Máster / Doctorado",
          "Postgrado / Máster / Doctorado",
          "Universidad / Grado",
          "Postgrado / Máster / Doctorado",
          "Secundaria / Bachillerato",
          "Postgrado / Máster / Doctorado",
          "Universidad / Grado",
          "Universidad / Grado",
          "Universidad / Grado",
          "Postgrado / Máster / Doctorado",
          "Postgrado / Máster / Doctorado",
          "Postgrado / Máster / Doctorado",
          "Postgrado / Máster / Doctorado",
          "Postgrado / Máster / Doctorado",
          "Postgrado / Máster / Doctorado",
          "Universidad / Grado",
          "Postgrado / Máster / Doctorado",
          "Universidad / Grado",
          "Postgrado / Máster / Doctorado",
          "Universidad / Grado",
          "Postgrado / Máster / Doctorado",
          "Postgrado / Máster / Doctorado",
          "Universidad / Grado",
          null,
          "Universidad / Grado",
          "Postgrado / Máster / Doctorado",
          "Postgrado / Máster / Doctorado",
          "Postgrado / Máster / Doctorado",
          "Postgrado / Máster / Doctorado",
          "Postgrado / Máster / Doctorado",
          "Universidad / Grado",
          "Postgrado / Máster / Doctorado",
          "Postgrado / Máster / Doctorado",
          "Universidad / Grado",
          "Postgrado / Máster / Doctorado",
          "Postgrado / Máster / Doctorado",
          "Secundaria / Bachillerato",
          "Postgrado / Máster / Doctorado",
          "Secundaria / Bachillerato",
          "Postgrado / Máster / Doctorado",
          "Postgrado / Máster / Doctorado",
          "Postgrado / Máster / Doctorado",
          null,
          "Postgrado / Máster / Doctorado",
          "Postgrado / Máster / Doctorado",
          "Postgrado / Máster / Doctorado",
          "Primaria",
          "Postgrado / Máster / Doctorado",
          "Postgrado / Máster / Doctorado",
          "Primaria",
          "Postgrado / Máster / Doctorado",
          "Secundaria / Bachillerato",
          "Postgrado / Máster / Doctorado",
          "Secundaria / Bachillerato",
          "Postgrado / Máster / Doctorado",
          "Postgrado / Máster / Doctorado",
          "Universidad / Grado",
          "Postgrado / Máster / Doctorado",
          "Postgrado / Máster / Doctorado",
          "Postgrado / Máster / Doctorado",
          "Postgrado / Máster / Doctorado",
          "Postgrado / Máster / Doctorado",
          "Postgrado / Máster / Doctorado",
          "Secundaria / Bachillerato",
          "Primaria",
          "Primaria",
          "Universidad / Grado",
          "Postgrado / Máster / Doctorado",
          "Universidad / Grado",
          "Postgrado / Máster / Doctorado",
          "Secundaria / Bachillerato",
          "Postgrado / Máster / Doctorado",
          "Postgrado / Máster / Doctorado",
          null,
          "Universidad / Grado",
          "Secundaria / Bachillerato",
          "Universidad / Grado",
          "Postgrado / Máster / Doctorado",
          "Universidad / Grado",
          "Postgrado / Máster / Doctorado",
          "Universidad / Grado",
          "Universidad / Grado",
          "Universidad / Grado",
          "Postgrado / Máster / Doctorado",
          "Postgrado / Máster / Doctorado",
          "Universidad / Grado",
          "Secundaria / Bachillerato",
          "Secundaria / Bachillerato",
          "Postgrado / Máster / Doctorado",
          "Universidad / Grado",
          "Secundaria / Bachillerato",
          "Secundaria / Bachillerato",
          "Postgrado / Máster / Doctorado",
          "Universidad / Grado",
          "Postgrado / Máster / Doctorado",
          null,
          "Postgrado / Máster / Doctorado",
          "Universidad / Grado",
          "Sin estudios",
          "Universidad / Grado",
          "Postgrado / Máster / Doctorado",
          "Secundaria / Bachillerato",
          "Postgrado / Máster / Doctorado",
          "Postgrado / Máster / Doctorado",
          "Postgrado / Máster / Doctorado",
          "Postgrado / Máster / Doctorado",
          "Universidad / Grado",
          "Postgrado / Máster / Doctorado",
          "Primaria",
          "Postgrado / Máster / Doctorado",
          "Postgrado / Máster / Doctorado",
          "Postgrado / Máster / Doctorado",
          "Postgrado / Máster / Doctorado",
          "Postgrado / Máster / Doctorado",
          "Universidad / Grado",
          "Postgrado / Máster / Doctorado",
          "Sin estudios",
          "Postgrado / Máster / Doctorado",
          "Postgrado / Máster / Doctorado",
          "Sin estudios",
          null,
          "Postgrado / Máster / Doctorado",
          "Postgrado / Máster / Doctorado",
          "Secundaria / Bachillerato",
          "Postgrado / Máster / Doctorado",
          "Primaria",
          "Secundaria / Bachillerato",
          "Postgrado / Máster / Doctorado",
          "Postgrado / Máster / Doctorado",
          "Postgrado / Máster / Doctorado",
          "Universidad / Grado",
          "Postgrado / Máster / Doctorado",
          "Universidad / Grado",
          "Universidad / Grado",
          "Universidad / Grado",
          "Secundaria / Bachillerato",
          "Postgrado / Máster / Doctorado",
          "Universidad / Grado",
          "Postgrado / Máster / Doctorado",
          "Secundaria / Bachillerato",
          "Postgrado / Máster / Doctorado",
          "Postgrado / Máster / Doctorado",
          "Universidad / Grado",
          "Postgrado / Máster / Doctorado",
          "Postgrado / Máster / Doctorado",
          "Primaria",
          "Universidad / Grado",
          "Universidad / Grado",
          "Postgrado / Máster / Doctorado",
          "Postgrado / Máster / Doctorado",
          "Universidad / Grado",
          "Postgrado / Máster / Doctorado",
          "Postgrado / Máster / Doctorado",
          "Universidad / Grado",
          "Postgrado / Máster / Doctorado",
          "Secundaria / Bachillerato",
          "Primaria",
          "Primaria",
          null,
          "Postgrado / Máster / Doctorado",
          "Postgrado / Máster / Doctorado",
          "Postgrado / Máster / Doctorado",
          "Postgrado / Máster / Doctorado",
          "Postgrado / Máster / Doctorado",
          "Postgrado / Máster / Doctorado",
          "Universidad / Grado",
          "Universidad / Grado",
          "Universidad / Grado",
          "Postgrado / Máster / Doctorado",
          "Secundaria / Bachillerato",
          "Universidad / Grado",
          "Universidad / Grado",
          "Postgrado / Máster / Doctorado",
          "Postgrado / Máster / Doctorado",
          "Postgrado / Máster / Doctorado",
          "Postgrado / Máster / Doctorado",
          "Primaria",
          "Postgrado / Máster / Doctorado",
          "Secundaria / Bachillerato",
          "Postgrado / Máster / Doctorado",
          "Secundaria / Bachillerato",
          null,
          "Postgrado / Máster / Doctorado",
          "Universidad / Grado",
          "Secundaria / Bachillerato",
          "Postgrado / Máster / Doctorado",
          "Primaria",
          "Postgrado / Máster / Doctorado",
          "Sin estudios",
          "Postgrado / Máster / Doctorado",
          "Postgrado / Máster / Doctorado",
          "Postgrado / Máster / Doctorado",
          "Postgrado / Máster / Doctorado",
          "Universidad / Grado",
          "Secundaria / Bachillerato",
          "Universidad / Grado",
          "Postgrado / Máster / Doctorado",
          "Postgrado / Máster / Doctorado",
          "Secundaria / Bachillerato",
          "Universidad / Grado",
          "Universidad / Grado",
          "Universidad / Grado",
          "Secundaria / Bachillerato",
          "Primaria",
          "Postgrado / Máster / Doctorado",
          "Postgrado / Máster / Doctorado",
          "Universidad / Grado",
          "Universidad / Grado",
          "Postgrado / Máster / Doctorado",
          "Postgrado / Máster / Doctorado",
          "Universidad / Grado",
          "Postgrado / Máster / Doctorado",
          "Postgrado / Máster / Doctorado",
          "Universidad / Grado",
          "Postgrado / Máster / Doctorado",
          "Universidad / Grado",
          "Secundaria / Bachillerato",
          "Universidad / Grado",
          "Primaria",
          "Universidad / Grado",
          "Universidad / Grado",
          "Universidad / Grado",
          "Postgrado / Máster / Doctorado",
          "Secundaria / Bachillerato",
          "Postgrado / Máster / Doctorado",
          "Secundaria / Bachillerato",
          "Postgrado / Máster / Doctorado",
          "Universidad / Grado",
          null,
          "Universidad / Grado",
          "Postgrado / Máster / Doctorado",
          "Universidad / Grado",
          "Secundaria / Bachillerato",
          "Universidad / Grado",
          "Sin estudios",
          "Postgrado / Máster / Doctorado",
          "Universidad / Grado",
          "Secundaria / Bachillerato",
          "Postgrado / Máster / Doctorado",
          "Postgrado / Máster / Doctorado",
          "Universidad / Grado",
          "Postgrado / Máster / Doctorado",
          "Universidad / Grado",
          "Secundaria / Bachillerato",
          "Universidad / Grado",
          "Postgrado / Máster / Doctorado",
          "Universidad / Grado",
          "Universidad / Grado",
          "Postgrado / Máster / Doctorado",
          "Secundaria / Bachillerato",
          "Postgrado / Máster / Doctorado",
          "Universidad / Grado",
          "Secundaria / Bachillerato",
          "Universidad / Grado",
          "Postgrado / Máster / Doctorado",
          "Postgrado / Máster / Doctorado",
          "Postgrado / Máster / Doctorado",
          "Postgrado / Máster / Doctorado",
          "Postgrado / Máster / Doctorado",
          "Postgrado / Máster / Doctorado",
          "Universidad / Grado",
          "Postgrado / Máster / Doctorado",
          null,
          "Secundaria / Bachillerato",
          "Universidad / Grado",
          "Postgrado / Máster / Doctorado",
          "Postgrado / Máster / Doctorado",
          "Postgrado / Máster / Doctorado",
          "Universidad / Grado",
          "Universidad / Grado",
          "Universidad / Grado",
          "Postgrado / Máster / Doctorado",
          "Postgrado / Máster / Doctorado",
          "Postgrado / Máster / Doctorado",
          "Universidad / Grado",
          "Postgrado / Máster / Doctorado",
          "Secundaria / Bachillerato",
          "Universidad / Grado",
          "Universidad / Grado",
          "Primaria",
          "Universidad / Grado",
          "Secundaria / Bachillerato",
          "Postgrado / Máster / Doctorado",
          "Universidad / Grado",
          "Universidad / Grado",
          "Universidad / Grado",
          "Postgrado / Máster / Doctorado",
          "Postgrado / Máster / Doctorado",
          "Secundaria / Bachillerato",
          "Primaria",
          "Postgrado / Máster / Doctorado",
          "Secundaria / Bachillerato",
          "Universidad / Grado",
          "Universidad / Grado",
          "Secundaria / Bachillerato",
          "Universidad / Grado",
          "Secundaria / Bachillerato",
          "Primaria",
          "Secundaria / Bachillerato",
          "Universidad / Grado",
          "Secundaria / Bachillerato",
          "Postgrado / Máster / Doctorado",
          "Primaria",
          "Postgrado / Máster / Doctorado",
          "Postgrado / Máster / Doctorado",
          "Postgrado / Máster / Doctorado",
          "Postgrado / Máster / Doctorado",
          "Postgrado / Máster / Doctorado",
          "Postgrado / Máster / Doctorado",
          "Universidad / Grado",
          "Universidad / Grado",
          "Postgrado / Máster / Doctorado",
          "Universidad / Grado",
          "Postgrado / Máster / Doctorado",
          "Postgrado / Máster / Doctorado",
          "Secundaria / Bachillerato",
          "Primaria",
          "Postgrado / Máster / Doctorado",
          "Universidad / Grado",
          "Postgrado / Máster / Doctorado",
          "Postgrado / Máster / Doctorado",
          "Universidad / Grado",
          "Postgrado / Máster / Doctorado",
          "Secundaria / Bachillerato",
          "Primaria",
          "Postgrado / Máster / Doctorado",
          "Postgrado / Máster / Doctorado",
          "Postgrado / Máster / Doctorado",
          "Primaria",
          "Universidad / Grado",
          "Postgrado / Máster / Doctorado",
          "Universidad / Grado",
          "Secundaria / Bachillerato",
          "Postgrado / Máster / Doctorado",
          "Universidad / Grado",
          "Primaria",
          "Postgrado / Máster / Doctorado",
          "Postgrado / Máster / Doctorado",
          "Postgrado / Máster / Doctorado",
          "Postgrado / Máster / Doctorado",
          "Postgrado / Máster / Doctorado",
          "Universidad / Grado",
          "Universidad / Grado",
          "Postgrado / Máster / Doctorado",
          "Secundaria / Bachillerato",
          "Universidad / Grado",
          "Secundaria / Bachillerato",
          "Postgrado / Máster / Doctorado",
          "Postgrado / Máster / Doctorado",
          "Universidad / Grado",
          "Universidad / Grado",
          "Universidad / Grado",
          "Postgrado / Máster / Doctorado",
          "Universidad / Grado",
          "Universidad / Grado",
          "Postgrado / Máster / Doctorado",
          "Postgrado / Máster / Doctorado",
          "Primaria",
          "Postgrado / Máster / Doctorado",
          "Postgrado / Máster / Doctorado",
          "Postgrado / Máster / Doctorado",
          "Postgrado / Máster / Doctorado",
          "Primaria",
          "Secundaria / Bachillerato",
          "Postgrado / Máster / Doctorado",
          "Postgrado / Máster / Doctorado",
          "Secundaria / Bachillerato",
          "Postgrado / Máster / Doctorado",
          "Universidad / Grado",
          "Postgrado / Máster / Doctorado",
          "Universidad / Grado",
          "Postgrado / Máster / Doctorado",
          "Postgrado / Máster / Doctorado",
          "Universidad / Grado",
          "Universidad / Grado",
          "Universidad / Grado",
          "Postgrado / Máster / Doctorado",
          "Universidad / Grado",
          "Postgrado / Máster / Doctorado",
          "Postgrado / Máster / Doctorado",
          "Postgrado / Máster / Doctorado",
          "Universidad / Grado",
          "Postgrado / Máster / Doctorado",
          "Postgrado / Máster / Doctorado",
          "Postgrado / Máster / Doctorado",
          "Secundaria / Bachillerato",
          "Postgrado / Máster / Doctorado",
          "Postgrado / Máster / Doctorado",
          "Postgrado / Máster / Doctorado",
          "Postgrado / Máster / Doctorado",
          "Postgrado / Máster / Doctorado",
          "Universidad / Grado",
          "Postgrado / Máster / Doctorado",
          "Universidad / Grado",
          "Secundaria / Bachillerato",
          "Postgrado / Máster / Doctorado",
          "Postgrado / Máster / Doctorado",
          "Postgrado / Máster / Doctorado",
          "Universidad / Grado",
          "Postgrado / Máster / Doctorado",
          "Postgrado / Máster / Doctorado",
          "Secundaria / Bachillerato",
          "Universidad / Grado",
          "Postgrado / Máster / Doctorado",
          "Postgrado / Máster / Doctorado",
          "Postgrado / Máster / Doctorado",
          "Universidad / Grado",
          "Universidad / Grado",
          "Universidad / Grado",
          "Postgrado / Máster / Doctorado",
          "Postgrado / Máster / Doctorado",
          "Postgrado / Máster / Doctorado",
          "Postgrado / Máster / Doctorado",
          "Postgrado / Máster / Doctorado",
          "Primaria",
          "Postgrado / Máster / Doctorado",
          "Postgrado / Máster / Doctorado",
          "Postgrado / Máster / Doctorado",
          "Secundaria / Bachillerato",
          "Postgrado / Máster / Doctorado",
          "Postgrado / Máster / Doctorado",
          "Postgrado / Máster / Doctorado",
          "Universidad / Grado",
          "Postgrado / Máster / Doctorado",
          "Postgrado / Máster / Doctorado",
          "Secundaria / Bachillerato",
          "Universidad / Grado",
          "Universidad / Grado",
          "Universidad / Grado",
          "Postgrado / Máster / Doctorado",
          "Postgrado / Máster / Doctorado",
          "Postgrado / Máster / Doctorado"
         ],
         "x0": " ",
         "xaxis": "x",
         "y": {
          "bdata": "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",
          "dtype": "i4"
         },
         "y0": " ",
         "yaxis": "y"
        }
       ],
       "layout": {
        "legend": {
         "tracegroupgap": 0
        },
        "template": {
         "data": {
          "bar": [
           {
            "error_x": {
             "color": "#2a3f5f"
            },
            "error_y": {
             "color": "#2a3f5f"
            },
            "marker": {
             "line": {
              "color": "#E5ECF6",
              "width": 0.5
             },
             "pattern": {
              "fillmode": "overlay",
              "size": 10,
              "solidity": 0.2
             }
            },
            "type": "bar"
           }
          ],
          "barpolar": [
           {
            "marker": {
             "line": {
              "color": "#E5ECF6",
              "width": 0.5
             },
             "pattern": {
              "fillmode": "overlay",
              "size": 10,
              "solidity": 0.2
             }
            },
            "type": "barpolar"
           }
          ],
          "carpet": [
           {
            "aaxis": {
             "endlinecolor": "#2a3f5f",
             "gridcolor": "white",
             "linecolor": "white",
             "minorgridcolor": "white",
             "startlinecolor": "#2a3f5f"
            },
            "baxis": {
             "endlinecolor": "#2a3f5f",
             "gridcolor": "white",
             "linecolor": "white",
             "minorgridcolor": "white",
             "startlinecolor": "#2a3f5f"
            },
            "type": "carpet"
           }
          ],
          "choropleth": [
           {
            "colorbar": {
             "outlinewidth": 0,
             "ticks": ""
            },
            "type": "choropleth"
           }
          ],
          "contour": [
           {
            "colorbar": {
             "outlinewidth": 0,
             "ticks": ""
            },
            "colorscale": [
             [
              0,
              "#0d0887"
             ],
             [
              0.1111111111111111,
              "#46039f"
             ],
             [
              0.2222222222222222,
              "#7201a8"
             ],
             [
              0.3333333333333333,
              "#9c179e"
             ],
             [
              0.4444444444444444,
              "#bd3786"
             ],
             [
              0.5555555555555556,
              "#d8576b"
             ],
             [
              0.6666666666666666,
              "#ed7953"
             ],
             [
              0.7777777777777778,
              "#fb9f3a"
             ],
             [
              0.8888888888888888,
              "#fdca26"
             ],
             [
              1,
              "#f0f921"
             ]
            ],
            "type": "contour"
           }
          ],
          "contourcarpet": [
           {
            "colorbar": {
             "outlinewidth": 0,
             "ticks": ""
            },
            "type": "contourcarpet"
           }
          ],
          "heatmap": [
           {
            "colorbar": {
             "outlinewidth": 0,
             "ticks": ""
            },
            "colorscale": [
             [
              0,
              "#0d0887"
             ],
             [
              0.1111111111111111,
              "#46039f"
             ],
             [
              0.2222222222222222,
              "#7201a8"
             ],
             [
              0.3333333333333333,
              "#9c179e"
             ],
             [
              0.4444444444444444,
              "#bd3786"
             ],
             [
              0.5555555555555556,
              "#d8576b"
             ],
             [
              0.6666666666666666,
              "#ed7953"
             ],
             [
              0.7777777777777778,
              "#fb9f3a"
             ],
             [
              0.8888888888888888,
              "#fdca26"
             ],
             [
              1,
              "#f0f921"
             ]
            ],
            "type": "heatmap"
           }
          ],
          "histogram": [
           {
            "marker": {
             "pattern": {
              "fillmode": "overlay",
              "size": 10,
              "solidity": 0.2
             }
            },
            "type": "histogram"
           }
          ],
          "histogram2d": [
           {
            "colorbar": {
             "outlinewidth": 0,
             "ticks": ""
            },
            "colorscale": [
             [
              0,
              "#0d0887"
             ],
             [
              0.1111111111111111,
              "#46039f"
             ],
             [
              0.2222222222222222,
              "#7201a8"
             ],
             [
              0.3333333333333333,
              "#9c179e"
             ],
             [
              0.4444444444444444,
              "#bd3786"
             ],
             [
              0.5555555555555556,
              "#d8576b"
             ],
             [
              0.6666666666666666,
              "#ed7953"
             ],
             [
              0.7777777777777778,
              "#fb9f3a"
             ],
             [
              0.8888888888888888,
              "#fdca26"
             ],
             [
              1,
              "#f0f921"
             ]
            ],
            "type": "histogram2d"
           }
          ],
          "histogram2dcontour": [
           {
            "colorbar": {
             "outlinewidth": 0,
             "ticks": ""
            },
            "colorscale": [
             [
              0,
              "#0d0887"
             ],
             [
              0.1111111111111111,
              "#46039f"
             ],
             [
              0.2222222222222222,
              "#7201a8"
             ],
             [
              0.3333333333333333,
              "#9c179e"
             ],
             [
              0.4444444444444444,
              "#bd3786"
             ],
             [
              0.5555555555555556,
              "#d8576b"
             ],
             [
              0.6666666666666666,
              "#ed7953"
             ],
             [
              0.7777777777777778,
              "#fb9f3a"
             ],
             [
              0.8888888888888888,
              "#fdca26"
             ],
             [
              1,
              "#f0f921"
             ]
            ],
            "type": "histogram2dcontour"
           }
          ],
          "mesh3d": [
           {
            "colorbar": {
             "outlinewidth": 0,
             "ticks": ""
            },
            "type": "mesh3d"
           }
          ],
          "parcoords": [
           {
            "line": {
             "colorbar": {
              "outlinewidth": 0,
              "ticks": ""
             }
            },
            "type": "parcoords"
           }
          ],
          "pie": [
           {
            "automargin": true,
            "type": "pie"
           }
          ],
          "scatter": [
           {
            "fillpattern": {
             "fillmode": "overlay",
             "size": 10,
             "solidity": 0.2
            },
            "type": "scatter"
           }
          ],
          "scatter3d": [
           {
            "line": {
             "colorbar": {
              "outlinewidth": 0,
              "ticks": ""
             }
            },
            "marker": {
             "colorbar": {
              "outlinewidth": 0,
              "ticks": ""
             }
            },
            "type": "scatter3d"
           }
          ],
          "scattercarpet": [
           {
            "marker": {
             "colorbar": {
              "outlinewidth": 0,
              "ticks": ""
             }
            },
            "type": "scattercarpet"
           }
          ],
          "scattergeo": [
           {
            "marker": {
             "colorbar": {
              "outlinewidth": 0,
              "ticks": ""
             }
            },
            "type": "scattergeo"
           }
          ],
          "scattergl": [
           {
            "marker": {
             "colorbar": {
              "outlinewidth": 0,
              "ticks": ""
             }
            },
            "type": "scattergl"
           }
          ],
          "scattermap": [
           {
            "marker": {
             "colorbar": {
              "outlinewidth": 0,
              "ticks": ""
             }
            },
            "type": "scattermap"
           }
          ],
          "scattermapbox": [
           {
            "marker": {
             "colorbar": {
              "outlinewidth": 0,
              "ticks": ""
             }
            },
            "type": "scattermapbox"
           }
          ],
          "scatterpolar": [
           {
            "marker": {
             "colorbar": {
              "outlinewidth": 0,
              "ticks": ""
             }
            },
            "type": "scatterpolar"
           }
          ],
          "scatterpolargl": [
           {
            "marker": {
             "colorbar": {
              "outlinewidth": 0,
              "ticks": ""
             }
            },
            "type": "scatterpolargl"
           }
          ],
          "scatterternary": [
           {
            "marker": {
             "colorbar": {
              "outlinewidth": 0,
              "ticks": ""
             }
            },
            "type": "scatterternary"
           }
          ],
          "surface": [
           {
            "colorbar": {
             "outlinewidth": 0,
             "ticks": ""
            },
            "colorscale": [
             [
              0,
              "#0d0887"
             ],
             [
              0.1111111111111111,
              "#46039f"
             ],
             [
              0.2222222222222222,
              "#7201a8"
             ],
             [
              0.3333333333333333,
              "#9c179e"
             ],
             [
              0.4444444444444444,
              "#bd3786"
             ],
             [
              0.5555555555555556,
              "#d8576b"
             ],
             [
              0.6666666666666666,
              "#ed7953"
             ],
             [
              0.7777777777777778,
              "#fb9f3a"
             ],
             [
              0.8888888888888888,
              "#fdca26"
             ],
             [
              1,
              "#f0f921"
             ]
            ],
            "type": "surface"
           }
          ],
          "table": [
           {
            "cells": {
             "fill": {
              "color": "#EBF0F8"
             },
             "line": {
              "color": "white"
             }
            },
            "header": {
             "fill": {
              "color": "#C8D4E3"
             },
             "line": {
              "color": "white"
             }
            },
            "type": "table"
           }
          ]
         },
         "layout": {
          "annotationdefaults": {
           "arrowcolor": "#2a3f5f",
           "arrowhead": 0,
           "arrowwidth": 1
          },
          "autotypenumbers": "strict",
          "coloraxis": {
           "colorbar": {
            "outlinewidth": 0,
            "ticks": ""
           }
          },
          "colorscale": {
           "diverging": [
            [
             0,
             "#8e0152"
            ],
            [
             0.1,
             "#c51b7d"
            ],
            [
             0.2,
             "#de77ae"
            ],
            [
             0.3,
             "#f1b6da"
            ],
            [
             0.4,
             "#fde0ef"
            ],
            [
             0.5,
             "#f7f7f7"
            ],
            [
             0.6,
             "#e6f5d0"
            ],
            [
             0.7,
             "#b8e186"
            ],
            [
             0.8,
             "#7fbc41"
            ],
            [
             0.9,
             "#4d9221"
            ],
            [
             1,
             "#276419"
            ]
           ],
           "sequential": [
            [
             0,
             "#0d0887"
            ],
            [
             0.1111111111111111,
             "#46039f"
            ],
            [
             0.2222222222222222,
             "#7201a8"
            ],
            [
             0.3333333333333333,
             "#9c179e"
            ],
            [
             0.4444444444444444,
             "#bd3786"
            ],
            [
             0.5555555555555556,
             "#d8576b"
            ],
            [
             0.6666666666666666,
             "#ed7953"
            ],
            [
             0.7777777777777778,
             "#fb9f3a"
            ],
            [
             0.8888888888888888,
             "#fdca26"
            ],
            [
             1,
             "#f0f921"
            ]
           ],
           "sequentialminus": [
            [
             0,
             "#0d0887"
            ],
            [
             0.1111111111111111,
             "#46039f"
            ],
            [
             0.2222222222222222,
             "#7201a8"
            ],
            [
             0.3333333333333333,
             "#9c179e"
            ],
            [
             0.4444444444444444,
             "#bd3786"
            ],
            [
             0.5555555555555556,
             "#d8576b"
            ],
            [
             0.6666666666666666,
             "#ed7953"
            ],
            [
             0.7777777777777778,
             "#fb9f3a"
            ],
            [
             0.8888888888888888,
             "#fdca26"
            ],
            [
             1,
             "#f0f921"
            ]
           ]
          },
          "colorway": [
           "#636efa",
           "#EF553B",
           "#00cc96",
           "#ab63fa",
           "#FFA15A",
           "#19d3f3",
           "#FF6692",
           "#B6E880",
           "#FF97FF",
           "#FECB52"
          ],
          "font": {
           "color": "#2a3f5f"
          },
          "geo": {
           "bgcolor": "white",
           "lakecolor": "white",
           "landcolor": "#E5ECF6",
           "showlakes": true,
           "showland": true,
           "subunitcolor": "white"
          },
          "hoverlabel": {
           "align": "left"
          },
          "hovermode": "closest",
          "mapbox": {
           "style": "light"
          },
          "paper_bgcolor": "white",
          "plot_bgcolor": "#E5ECF6",
          "polar": {
           "angularaxis": {
            "gridcolor": "white",
            "linecolor": "white",
            "ticks": ""
           },
           "bgcolor": "#E5ECF6",
           "radialaxis": {
            "gridcolor": "white",
            "linecolor": "white",
            "ticks": ""
           }
          },
          "scene": {
           "xaxis": {
            "backgroundcolor": "#E5ECF6",
            "gridcolor": "white",
            "gridwidth": 2,
            "linecolor": "white",
            "showbackground": true,
            "ticks": "",
            "zerolinecolor": "white"
           },
           "yaxis": {
            "backgroundcolor": "#E5ECF6",
            "gridcolor": "white",
            "gridwidth": 2,
            "linecolor": "white",
            "showbackground": true,
            "ticks": "",
            "zerolinecolor": "white"
           },
           "zaxis": {
            "backgroundcolor": "#E5ECF6",
            "gridcolor": "white",
            "gridwidth": 2,
            "linecolor": "white",
            "showbackground": true,
            "ticks": "",
            "zerolinecolor": "white"
           }
          },
          "shapedefaults": {
           "line": {
            "color": "#2a3f5f"
           }
          },
          "ternary": {
           "aaxis": {
            "gridcolor": "white",
            "linecolor": "white",
            "ticks": ""
           },
           "baxis": {
            "gridcolor": "white",
            "linecolor": "white",
            "ticks": ""
           },
           "bgcolor": "#E5ECF6",
           "caxis": {
            "gridcolor": "white",
            "linecolor": "white",
            "ticks": ""
           }
          },
          "title": {
           "x": 0.05
          },
          "xaxis": {
           "automargin": true,
           "gridcolor": "white",
           "linecolor": "white",
           "ticks": "",
           "title": {
            "standoff": 15
           },
           "zerolinecolor": "white",
           "zerolinewidth": 2
          },
          "yaxis": {
           "automargin": true,
           "gridcolor": "white",
           "linecolor": "white",
           "ticks": "",
           "title": {
            "standoff": 15
           },
           "zerolinecolor": "white",
           "zerolinewidth": 2
          }
         }
        },
        "title": {
         "text": "Distribución de Deuda Crediticia por Nivel Educativo"
        },
        "violinmode": "group",
        "xaxis": {
         "anchor": "y",
         "domain": [
          0,
          1
         ],
         "title": {
          "text": "ed_text"
         }
        },
        "yaxis": {
         "anchor": "x",
         "domain": [
          0,
          1
         ],
         "title": {
          "text": "creddebt"
         }
        }
       }
      }
     },
     "metadata": {},
     "output_type": "display_data"
    }
   ],
   "source": [
    "def bivariante_analysis(df):\n",
    "    print('=== Análisis Biriante===')\n",
    "    \n",
    "    default_cat= {\n",
    "        0: 'Aprobado',\n",
    "        1: 'No Aprobado'\n",
    "    }\n",
    "    # Crear una copia para no modificar el original\n",
    "    df_plot = df_bank_loan.copy()\n",
    "    df_plot['default_mod'] = df_plot['default'].map(default_cat)\n",
    "    \n",
    "    # Correlación entre variables \n",
    "    numeric_cols = df_bank_loan.select_dtypes(include=[np.number]).columns.tolist()\n",
    "    corr_matrix = df_bank_loan[numeric_cols].corr()\n",
    "    corr_matrix = corr_matrix.rename(columns={\n",
    "    'age':'Edad',\n",
    "    'ed':'Educación',\n",
    "    'employ':'Empleo',\n",
    "    'adress':'Dirección',\n",
    "    'income':'Ingreso',\n",
    "    'debtinc':'Deuda',\n",
    "    'creddebt':'Deuda Crédito',\n",
    "    'othdebt':'Otra Deuda',\n",
    "    'default':'Incumplimiento'\n",
    "    }, index={\n",
    "        'age':'Edad',\n",
    "        'ed':'Educación',\n",
    "        'employ':'Empleo',\n",
    "        'adress':'Dirección',\n",
    "        'income':'Ingreso',\n",
    "        'debtinc':'Deuda',\n",
    "        'creddebt':'Deuda Crédito',\n",
    "        'othdebt':'Otra Deuda',\n",
    "        'default':'Incumplimiento'\n",
    "    })\n",
    "\n",
    "    \n",
    "    fig = px.imshow(\n",
    "        corr_matrix,\n",
    "        text_auto=True,\n",
    "        aspect='auto',\n",
    "        title='Mapa de Calor de Correlaciones',\n",
    "        color_continuous_scale=['red','white','green'],\n",
    "        zmin=-1,\n",
    "        zmax=1,\n",
    "    )   \n",
    "    fig.update_traces(\n",
    "        text=np.round(corr_matrix.values,2),\n",
    "        texttemplate='%{text}',\n",
    "        textfont=dict(size=10, color='black'))  \n",
    "    fig.show()\n",
    "    \n",
    "    # Relacion entre edad e ingresos\n",
    "    fig = px.scatter(\n",
    "        df_plot,x='age', y='income', color='default_mod',\n",
    "        title='Edad VS Ingresos por Estado de Default',\n",
    "        labels={'default_mod': 'Estado del Préstamo', 'age': 'Edad', 'income': 'Ingresos'},\n",
    "        color_continuous_scale=['green','red'],\n",
    "       \n",
    "    )\n",
    "    fig.show()\n",
    "        \n",
    "    #boxplot de ingresos por defeault\n",
    "    fig = px.box(df_plot, x='default_mod', y='income',\n",
    "\n",
    "                 title='Distribucón de Ingresos po Estado de Default'\n",
    "    )\n",
    "    fig.show()\n",
    "\n",
    "    # Violin de deuda por educación\n",
    "    fig = px.violin(\n",
    "        df_bank_loan, x='ed_text', y='creddebt',\n",
    "        title='Distribución de Deuda Crediticia por Nivel Educativo'\n",
    "    )\n",
    "    fig.show()\n",
    "    \n",
    "bivariante_analysis(df_bank_loan)\n"
   ]
  },
  {
   "cell_type": "markdown",
   "id": "fac7816b",
   "metadata": {},
   "source": [
    "----- ANÁLISIS MULTIVARIANTE"
   ]
  },
  {
   "cell_type": "code",
   "execution_count": 90,
   "id": "fac8bf60",
   "metadata": {},
   "outputs": [
    {
     "name": "stdout",
     "output_type": "stream",
     "text": [
      "=== Análisis Multivariante===\n"
     ]
    },
    {
     "data": {
      "application/vnd.plotly.v1+json": {
       "config": {
        "plotlyServerURL": "https://plot.ly"
       },
       "data": [
        {
         "dimensions": [
          {
           "axis": {
            "matches": true
           },
           "label": "Edad",
           "values": {
            "bdata": "AAAAAACAREAAAAAAAAA4QAAAAAAAADhAAAAAAAAAQkAAAAAAAABCQAAAAAAAADVAAAAAAAAAPEAAAAAAAAA6QAAAAAAAADdAAAAAAAAAQUAAAAAAAABHQAAAAAAAgEJAAAAAAAAAPUAAAAAAAABAQAAAAAAAADxAAAAAAAAAPEAAAAAAAAA9QAAAAAAAADpAAAAAAAAAPUAAAAAAAAA3QAAAAAAAADlAAAAAAAAAQEAAAAAAAIBEQAAAAAAAAENAAAAAAACASkAAAAAAAAA/QAAAAAAAADlAAAAAAAAAN0AAAAAAAABBQAAAAAAAAD9AAAAAAACAQ0AAAAAAAAD4fwAAAAAAADhAAAAAAAAAO0AAAAAAAIBFQAAAAAAAAEtAAAAAAACAQEAAAAAAAAA/QAAAAAAAgEFAAAAAAAAAREAAAAAAAAA2QAAAAAAAAEBAAAAAAACAQEAAAAAAAABEQAAAAAAAADtAAAAAAAAAQkAAAAAAAAA/QAAAAAAAADhAAAAAAAAAP0AAAAAAAAD4fwAAAAAAAEZAAAAAAACAQUAAAAAAAAD4fwAAAAAAADtAAAAAAAAAPUAAAAAAAIBFQAAAAAAAgEtAAAAAAAAAQEAAAAAAAIBDQAAAAAAAgEBAAAAAAAAASkAAAAAAAAA/QAAAAAAAADtAAAAAAAAAOkAAAAAAAAA+QAAAAAAAAD9AAAAAAAAAQUAAAAAAAABDQAAAAAAAAD9AAAAAAAAAOUAAAAAAAIBHQAAAAAAAgENAAAAAAAAAPUAAAAAAAAA7QAAAAAAAADtAAAAAAAAAQ0AAAAAAAABEQAAAAAAAAEtAAAAAAAAAPUAAAAAAAAA8QAAAAAAAADxAAAAAAAAAPEAAAAAAAABEQAAAAAAAAD5AAAAAAACAREAAAAAAAIBEQAAAAAAAgENAAAAAAAAAOEAAAAAAAIBCQAAAAAAAgEBAAAAAAAAASEAAAAAAAIBDQAAAAAAAAEpAAAAAAAAAOEAAAAAAAIBKQAAAAAAAgEdAAAAAAAAAN0AAAAAAAAA+QAAAAAAAADlAAAAAAAAAPUAAAAAAAABAQAAAAAAAAEdAAAAAAAAAN0AAAAAAAAA3QAAAAAAAAEFAAAAAAAAAPUAAAAAAAAA4QAAAAAAAgEVAAAAAAAAAR0AAAAAAAAA/QAAAAAAAgEJAAAAAAAAANUAAAAAAAIBHQAAAAAAAADVAAAAAAAAAPUAAAAAAAAA4QAAAAAAAADlAAAAAAAAAOEAAAAAAAIBGQAAAAAAAADtAAAAAAACAQEAAAAAAAIBBQAAAAAAAgERAAAAAAAAAPEAAAAAAAABDQAAAAAAAADlAAAAAAACAR0AAAAAAAAA5QAAAAAAAgERAAAAAAACAQUAAAAAAAAA3QAAAAAAAAEVAAAAAAAAANkAAAAAAAIBCQAAAAAAAADZAAAAAAACASEAAAAAAAABAQAAAAAAAADhAAAAAAAAAQEAAAAAAAIBCQAAAAAAAgERAAAAAAAAAQEAAAAAAAAA2QAAAAAAAADxAAAAAAAAAPUAAAAAAAABIQAAAAAAAADtAAAAAAAAAO0AAAAAAAAA4QAAAAAAAADxAAAAAAAAAOEAAAAAAAIBCQAAAAAAAADlAAAAAAAAAPUAAAAAAAIBJQAAAAAAAADZAAAAAAAAAPEAAAAAAAAA5QAAAAAAAAEBAAAAAAAAAPEAAAAAAAAA6QAAAAAAAAD1AAAAAAACAREAAAAAAAABEQAAAAAAAADxAAAAAAAAAPUAAAAAAAAA3QAAAAAAAgEdAAAAAAAAAN0AAAAAAAAA8QAAAAAAAAD9AAAAAAAAAN0AAAAAAAIBKQAAAAAAAADxAAAAAAACAQkAAAAAAAIBBQAAAAAAAAERAAAAAAAAAPkAAAAAAAAA0QAAAAAAAgEFAAAAAAAAAQUAAAAAAAAD4fwAAAAAAAEJA",
            "dtype": "f8"
           }
          },
          {
           "axis": {
            "matches": true
           },
           "label": "Empleo",
           "values": {
            "bdata": "EQIDCQ0BAQAAAhABDQsCCAEEBQABAAIECQABAwYCBwQACQ0JCQIBDQQBAg4ECgEBBggFBQcABQkDAgYNCQkBAgALDwIKBB0TAgQDAAUZAwIGBAUAEgcCAAAODQIJAgUJAgAAAQsBAAIMAAMSAwIBABACBwADAgUCCgANAAwDBAAGAwEOBAYBAgUDBAQMAAACBw4FAAMJCBAAAwoAAgEFAwMBBAMABgMfAQAHAAYCAAAGBwQHCgAG",
            "dtype": "i1"
           }
          },
          {
           "axis": {
            "matches": true
           },
           "label": "Ingresos",
           "values": {
            "bdata": "AAAAABj7pEEAAAAA8LN6QQAAAACsHnJBAAAAAHJdh0EAAAAA4oyDQQAAAACAhG5BAAAAAGDjdkEAAAAA8LNqQQAAAAD0BnRBAAAAAITXd0EAAAAAqMuIQQAAAABg43ZBAAAAAPQGhEEAAAAAAAD4fwAAAAA873VBAAAAAFyQfUEAAAAA0BJzQQAAAADMv3lBAAAAAIgqgUEAAAAAZDZwQQAAAAA4nGxBAAAAAIgqcUEAAAAAOJxsQQAAAABckH1BAAAAAITXh0EAAAAAzL95QQAAAADQEnNBAAAAAKweckEAAAAAzL95QQAAAAAY+3RBAAAAAGQ2kEEAAAAAmqSBQQAAAACAhG5BAAAAACp1hUEAAAAArB6SQQAAAADws3pBAAAAAAAA+H8AAAAAqMt4QQAAAABg43ZBAAAAAJZRmEEAAAAAYON2QQAAAADQEnNBAAAAAHawgEEAAAAABoGEQQAAAAAY+3RBAAAAAPCzekEAAAAA9AZ0QQAAAACIKnFBAAAAAICEfkEAAAAAGPuUQQAAAABg44ZBAAAAAJqkgUEAAAAAOJx8QQAAAAB2sJBBAAAAAHawkEEAAAAAOJyMQQAAAADQEoNBAAAAADicbEEAAAAA9AaEQQAAAACoy4hBAAAAAGDjdkEAAAAAJiKMQQAAAADQEnNBAAAAAGDjdkEAAAAAZDZwQQAAAAAAAPh/AAAAAL6YgkEAAAAAGPt0QQAAAAByXYdBAAAAAMy/eUEAAAAAicGeQQAAAAA4nIxBAAAAAPCzakEAAAAA0BKDQQAAAAAqdYVBAAAAADzvdUEAAAAAdrCAQQAAAAA4nJxBAAAAAAAA+H8AAAAA4oyDQQAAAABOaYZBAAAAAPCzekEAAAAA3jmqQQAAAACsHnJBAAAAAH/tkEEAAAAA8LOKQQAAAAAY+3RBAAAAADicbEEAAAAAiCpxQQAAAACIKpFBAAAAAITXh0EAAAAAPO+FQQAAAAB2sJBBAAAAAAAA+H8AAAAAvpiSQQAAAAAAAPh/AAAAAICEbkEAAAAAkv6OQQAAAAAAAPh/AAAAABSoe0EAAAAAAi6LQQAAAAD0BnRBAAAAAICEfkEAAAAAhNd3QQAAAAAAAPh/AAAAABj7dEEAAAAA9AZ0QQAAAIBrlbpBAAAAAAaBhEEAAAAAGPt0QQAAAACkeH9BAAAAAPQGdEEAAACAYliqQQAAAADQEnNBAAAAANASc0EAAAAAFKh7QQAAAACIKnFBAAAAAKjLeEEAAAAATmmWQQAAAAA873VBAAAAAAIui0EAAAAAGPt0QQAAAAAAAPh/AAAAAPCzekEAAAAAbgqOQQAAAACAhG5BAAAAAKR4f0EAAAAAiCpxQQAAAACIKoFBAAAAANASg0EAAAAAiCpxQQAAAABg44ZBAAAAAKweckEAAAAAXJB9QQAAAAAAAPh/AAAAANASc0EAAAAABoGEQQAAAADws2pBAAAAAICEbkEAAAAA0BJzQQAAAAAAAPh/AAAAANASc0EAAAAAdrCAQQAAAABkNnBBAAAAAPQGlEEAAAAAJiKMQQAAAAD0BoRBAAAAAAAA+H8AAAAAOJxsQQAAAAAY+3RBAAAAAGQ2cEEAAAAAhNeHQQAAAACIKnFBAAAAAKjLeEEAAAAAGPuEQQAAAAA873VBAAAAAIgqcUEAAAAAZDaAQQAAAADws3pBAAAAAOKMg0EAAAAAFKh7QQAAAACIKnFBAAAAAKjLeEEAAAAA3jmKQQAAAAA4nHxBAAAAAIgqcUEAAAAAGPt0QQAAAABkNqBBAAAAAPQGdEEAAAAAFKh7QQAAAADijINBAAAAAPQGhEEAAAAAzL95QQAAAADQEnNBAAAAAFyQfUEAAAAAZDaAQQAAAACIKoFBAAAAAKR4f0EAAAAA8LNqQQAAAAC+mIJBAAAAAKR4f0EAAAAAAAD4fwAAAADMv3lB",
            "dtype": "f8"
           }
          },
          {
           "axis": {
            "matches": true
           },
           "label": "Deuda Crédito",
           "values": {
            "bdata": "oFStACxGGwAMuhQAbHkMAEiHLAAAsQMAMGoUAECdBADo1QsAdL8IANBDLgCoexsA9D0WADRkdgBA2gIAusQWAEivCAC4uCUAIEQ1ADovHwB+qQUAMIYEANnqHQDqUhQAAMMeAICcEACAMgcABEMEAPA/HgBmqxAAGIMPAA6zEQAAZA8A6IIrAMDSIACAxhcAQpQUAABRBACYBAkAagNfACD3GAAAzgQAx2ggAJKdKgCQkhAAAHEMANA6BABmpQMAgPsyAFhXBAAADx4AKt8IAHDUBgDgsRgAaHYwACCiPQAAmAgA488BACDFJgAUaCkAADwMABZzLwCUwAUAQA4YAH7QBgBARQUAhrtCAORwEgDEYjEASmIIAJ69OQE4YpIAoPMIADhVBADSdAQArrMNAHAsGABouN4AgPQDAMABBwCWDlUAcKwGAACcfABshwkAzy5kABCzBQAKPB0Aq+YEAPQpGADoIuUACEpdAAAYPQAISBQAACAEAGzVaQA8wSYAAEgMANqAOwAQXxgA7I0jAN4BUwBMAhUAAH0MAGbjAQC4R3cAdNkPAILuKADunvQAIGwuADCJGgA7GikAOnMHAKD28ACMbwQAEFkPAMj+CABQXwUAwIsNAAQfNwCM4QQAiUBdALQPHgBkVyMAXNsiAKA1VwBgbQ8AsjsSAKbWBwBE4EQAQIEbAAqCDQBgVBIAJswcAMf0GQASKh4AwMYFALCOGwBYywwAQKMNACCmAgAiKEwA6AQEAJDrCwCdCgMAIHZpAN1PSwAYUikA2acVALUcAQCqnlAA0K8IAMCxbwC4vyoANjQIACCvSwCMsAUAwJcdAEwHAgBglScAJ/pZAGeNJgAAPB4AgHgWALO5GgCA2AEAHN0GANBwEwCYJ9kA+HYSAP3HIAD6tS0A1IsPAAASCQCgjgMAAc0BAGrnFADE9gUAKscRABgRAwDp9hkAICwmAJsHKgCu/wMA",
            "dtype": "i4"
           }
          },
          {
           "axis": {
            "matches": true
           },
           "label": "Otra Deuda",
           "values": {
            "bdata": "4GxMALSjLgBUAzIAhNMzAFgSOgAAQSgAEDUqAFBoCwCosRgAPFEnAFAXOACY0BsArC4ZAIRBlADAmxMA9gQQAPgTMACAiQUAYNkOAE6rKAAybhQA8GcLAE9HHgDOqhcAALA2AIAfJADgPw0AXBcUAIgucwCq9hkAKGB3AAKQEwAArBcAKLZOAKDqJQAAdScAjnwoAECpFgAowiQARiXHAOApIAAA2AkA0eNZAL7NNwAwvRsAAGkjAPjHAwAKjwwAgM89AGiRTQAA3CMAhp0VABB7CwAgwTwAqBekAGAifQAAPCgAJQQTAFDDWACMmX8AABQ6AFr9UwBMrhkAwL8ZAIrIAgDAPA8AYkFQAOzCOQAM4xcAJjcMAKpCuABouWUAYM8VAIiWDgAeE0cAqrkOAHBpPwBYggYBAFsOACiiCAD68DgA0P41AACAnAHkmCYAKehFALAzdgCGTzAA7fIfAFxECwBYmeAAOLKNAAA2MwAYH1AAAIALAIQRZADkungAACgLAE4R6wCw8BMAtEE6AFL+ewBUahoAAFtNACJHDwAoKI0AfHQbAIasMwBCu8UAwC8oAJCEHACt9ycArpogAOCKYAEUTAkAsBMtAMg1FACgZScA0O8YAKx7XwCMHw8An4ZYAOxKFAC8kjoBhGprAGCZQgCgBxwApoQRAGoSLACcPSYAwHlNAGbaJQCgqCwAYiwmADFjHQB+ehYAYMwtAKDcRgBYmRUAQPE3AACTPwBOlw8B2CIFACAlJACLcQMA4NpEAHs7SQBYNlYAf8oaAGPAGAAGXgwA8NYFAKCKpwCo/DAAGv8PAGDwDABUyhcAgA4LAMQRKgAgphcAEQ1DAOErSwAAFCgAgLM1AIW/bwCAIBQA1CQHABDUEgAoNwYBqHMIAGsSGgD+WZIAnHIJAABMEQAgIRkA13QCAMauJABckgUABh9uAJinEQBv2EUAOLENAN0ITQDi8w4A",
            "dtype": "i4"
           }
          }
         ],
         "hovertemplate": "Estado del Préstamo=No Aprobado<br>%{xaxis.title.text}=%{x}<br>%{yaxis.title.text}=%{y}<extra></extra>",
         "legendgroup": "No Aprobado",
         "marker": {
          "color": "red",
          "symbol": "circle"
         },
         "name": "No Aprobado",
         "showlegend": true,
         "type": "splom"
        },
        {
         "dimensions": [
          {
           "axis": {
            "matches": true
           },
           "label": "Edad",
           "values": {
            "bdata": "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",
            "dtype": "f8"
           }
          },
          {
           "axis": {
            "matches": true
           },
           "label": "Empleo",
           "values": {
            "bdata": "Cg8PBRQMAAAEGAYWFwYAEQMIABkMAgMBAggIBgoMFwcRBxMADQQSAQMDCRASCgkEBAUTAwUaAQ0NAgEODwsHBAQKBQwDBRENDgQWBggVFggEDAkCBgAMEAQJDwwFBwkFEwEFEhEHBgENCBALEAUBAgsIDwQIAw0MCQQFCAQOEAcEDgYGAQcNDAgQCgANCwETAQ0ECQgDAwAHEQcGDgYQARAMDhULABEFCgUABwkIBQsHBAsECgcVAwwPBQ8KFg0BBRMSAhAKDwgICQcAAhMWBAYQBg4NCAEJCQsQCwMJEwQKAwAUBhYGBQkLEAoEEgYBBBAABAgQDAIBCAEAEAsHFAYEDxIDCgMCCAEKBgkADQ4GAgMFEhIWDQcIFAEHAQ8KDAMDBw8HDRYCBQ4LAAAEBRIQDAANChUWDggBBBMQAwgIABAVCwkJAQASCBAWChcLBQcZBgsAAAkEAQoICQkABAYGDAENDAUbFQkFBgQPDQwMAAYDAhMJARMDDQYGCxYABwkHBQQRAgYKAx8JAg8JEhAKDA0KCQoMERUIBw0PCgkXCwwJEgEXABYDBgIICQkIEQkHBwoCBBgLCRsDBwcJEQoUBwECHhIGDwsDAgYHEgwYBgcBEAYFHAsGCwUEDAsPDBAEDAIGCw8YFQAHCgMABgQeCAkRAQESAQwEAB8ABgYPEww=",
            "dtype": "i1"
           }
          },
          {
           "axis": {
            "matches": true
           },
           "label": "Ingresos",
           "values": {
            "bdata": "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",
            "dtype": "f8"
           }
          },
          {
           "axis": {
            "matches": true
           },
           "label": "Deuda Crédito",
           "values": {
            "bdata": "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",
            "dtype": "i4"
           }
          },
          {
           "axis": {
            "matches": true
           },
           "label": "Otra Deuda",
           "values": {
            "bdata": "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",
            "dtype": "i4"
           }
          }
         ],
         "hovertemplate": "Estado del Préstamo=Aprobado<br>%{xaxis.title.text}=%{x}<br>%{yaxis.title.text}=%{y}<extra></extra>",
         "legendgroup": "Aprobado",
         "marker": {
          "color": "green",
          "symbol": "circle"
         },
         "name": "Aprobado",
         "showlegend": true,
         "type": "splom"
        }
       ],
       "layout": {
        "dragmode": "select",
        "height": 700,
        "legend": {
         "title": {
          "text": "Estado del Préstamo"
         },
         "tracegroupgap": 0
        },
        "template": {
         "data": {
          "bar": [
           {
            "error_x": {
             "color": "#2a3f5f"
            },
            "error_y": {
             "color": "#2a3f5f"
            },
            "marker": {
             "line": {
              "color": "#E5ECF6",
              "width": 0.5
             },
             "pattern": {
              "fillmode": "overlay",
              "size": 10,
              "solidity": 0.2
             }
            },
            "type": "bar"
           }
          ],
          "barpolar": [
           {
            "marker": {
             "line": {
              "color": "#E5ECF6",
              "width": 0.5
             },
             "pattern": {
              "fillmode": "overlay",
              "size": 10,
              "solidity": 0.2
             }
            },
            "type": "barpolar"
           }
          ],
          "carpet": [
           {
            "aaxis": {
             "endlinecolor": "#2a3f5f",
             "gridcolor": "white",
             "linecolor": "white",
             "minorgridcolor": "white",
             "startlinecolor": "#2a3f5f"
            },
            "baxis": {
             "endlinecolor": "#2a3f5f",
             "gridcolor": "white",
             "linecolor": "white",
             "minorgridcolor": "white",
             "startlinecolor": "#2a3f5f"
            },
            "type": "carpet"
           }
          ],
          "choropleth": [
           {
            "colorbar": {
             "outlinewidth": 0,
             "ticks": ""
            },
            "type": "choropleth"
           }
          ],
          "contour": [
           {
            "colorbar": {
             "outlinewidth": 0,
             "ticks": ""
            },
            "colorscale": [
             [
              0,
              "#0d0887"
             ],
             [
              0.1111111111111111,
              "#46039f"
             ],
             [
              0.2222222222222222,
              "#7201a8"
             ],
             [
              0.3333333333333333,
              "#9c179e"
             ],
             [
              0.4444444444444444,
              "#bd3786"
             ],
             [
              0.5555555555555556,
              "#d8576b"
             ],
             [
              0.6666666666666666,
              "#ed7953"
             ],
             [
              0.7777777777777778,
              "#fb9f3a"
             ],
             [
              0.8888888888888888,
              "#fdca26"
             ],
             [
              1,
              "#f0f921"
             ]
            ],
            "type": "contour"
           }
          ],
          "contourcarpet": [
           {
            "colorbar": {
             "outlinewidth": 0,
             "ticks": ""
            },
            "type": "contourcarpet"
           }
          ],
          "heatmap": [
           {
            "colorbar": {
             "outlinewidth": 0,
             "ticks": ""
            },
            "colorscale": [
             [
              0,
              "#0d0887"
             ],
             [
              0.1111111111111111,
              "#46039f"
             ],
             [
              0.2222222222222222,
              "#7201a8"
             ],
             [
              0.3333333333333333,
              "#9c179e"
             ],
             [
              0.4444444444444444,
              "#bd3786"
             ],
             [
              0.5555555555555556,
              "#d8576b"
             ],
             [
              0.6666666666666666,
              "#ed7953"
             ],
             [
              0.7777777777777778,
              "#fb9f3a"
             ],
             [
              0.8888888888888888,
              "#fdca26"
             ],
             [
              1,
              "#f0f921"
             ]
            ],
            "type": "heatmap"
           }
          ],
          "histogram": [
           {
            "marker": {
             "pattern": {
              "fillmode": "overlay",
              "size": 10,
              "solidity": 0.2
             }
            },
            "type": "histogram"
           }
          ],
          "histogram2d": [
           {
            "colorbar": {
             "outlinewidth": 0,
             "ticks": ""
            },
            "colorscale": [
             [
              0,
              "#0d0887"
             ],
             [
              0.1111111111111111,
              "#46039f"
             ],
             [
              0.2222222222222222,
              "#7201a8"
             ],
             [
              0.3333333333333333,
              "#9c179e"
             ],
             [
              0.4444444444444444,
              "#bd3786"
             ],
             [
              0.5555555555555556,
              "#d8576b"
             ],
             [
              0.6666666666666666,
              "#ed7953"
             ],
             [
              0.7777777777777778,
              "#fb9f3a"
             ],
             [
              0.8888888888888888,
              "#fdca26"
             ],
             [
              1,
              "#f0f921"
             ]
            ],
            "type": "histogram2d"
           }
          ],
          "histogram2dcontour": [
           {
            "colorbar": {
             "outlinewidth": 0,
             "ticks": ""
            },
            "colorscale": [
             [
              0,
              "#0d0887"
             ],
             [
              0.1111111111111111,
              "#46039f"
             ],
             [
              0.2222222222222222,
              "#7201a8"
             ],
             [
              0.3333333333333333,
              "#9c179e"
             ],
             [
              0.4444444444444444,
              "#bd3786"
             ],
             [
              0.5555555555555556,
              "#d8576b"
             ],
             [
              0.6666666666666666,
              "#ed7953"
             ],
             [
              0.7777777777777778,
              "#fb9f3a"
             ],
             [
              0.8888888888888888,
              "#fdca26"
             ],
             [
              1,
              "#f0f921"
             ]
            ],
            "type": "histogram2dcontour"
           }
          ],
          "mesh3d": [
           {
            "colorbar": {
             "outlinewidth": 0,
             "ticks": ""
            },
            "type": "mesh3d"
           }
          ],
          "parcoords": [
           {
            "line": {
             "colorbar": {
              "outlinewidth": 0,
              "ticks": ""
             }
            },
            "type": "parcoords"
           }
          ],
          "pie": [
           {
            "automargin": true,
            "type": "pie"
           }
          ],
          "scatter": [
           {
            "fillpattern": {
             "fillmode": "overlay",
             "size": 10,
             "solidity": 0.2
            },
            "type": "scatter"
           }
          ],
          "scatter3d": [
           {
            "line": {
             "colorbar": {
              "outlinewidth": 0,
              "ticks": ""
             }
            },
            "marker": {
             "colorbar": {
              "outlinewidth": 0,
              "ticks": ""
             }
            },
            "type": "scatter3d"
           }
          ],
          "scattercarpet": [
           {
            "marker": {
             "colorbar": {
              "outlinewidth": 0,
              "ticks": ""
             }
            },
            "type": "scattercarpet"
           }
          ],
          "scattergeo": [
           {
            "marker": {
             "colorbar": {
              "outlinewidth": 0,
              "ticks": ""
             }
            },
            "type": "scattergeo"
           }
          ],
          "scattergl": [
           {
            "marker": {
             "colorbar": {
              "outlinewidth": 0,
              "ticks": ""
             }
            },
            "type": "scattergl"
           }
          ],
          "scattermap": [
           {
            "marker": {
             "colorbar": {
              "outlinewidth": 0,
              "ticks": ""
             }
            },
            "type": "scattermap"
           }
          ],
          "scattermapbox": [
           {
            "marker": {
             "colorbar": {
              "outlinewidth": 0,
              "ticks": ""
             }
            },
            "type": "scattermapbox"
           }
          ],
          "scatterpolar": [
           {
            "marker": {
             "colorbar": {
              "outlinewidth": 0,
              "ticks": ""
             }
            },
            "type": "scatterpolar"
           }
          ],
          "scatterpolargl": [
           {
            "marker": {
             "colorbar": {
              "outlinewidth": 0,
              "ticks": ""
             }
            },
            "type": "scatterpolargl"
           }
          ],
          "scatterternary": [
           {
            "marker": {
             "colorbar": {
              "outlinewidth": 0,
              "ticks": ""
             }
            },
            "type": "scatterternary"
           }
          ],
          "surface": [
           {
            "colorbar": {
             "outlinewidth": 0,
             "ticks": ""
            },
            "colorscale": [
             [
              0,
              "#0d0887"
             ],
             [
              0.1111111111111111,
              "#46039f"
             ],
             [
              0.2222222222222222,
              "#7201a8"
             ],
             [
              0.3333333333333333,
              "#9c179e"
             ],
             [
              0.4444444444444444,
              "#bd3786"
             ],
             [
              0.5555555555555556,
              "#d8576b"
             ],
             [
              0.6666666666666666,
              "#ed7953"
             ],
             [
              0.7777777777777778,
              "#fb9f3a"
             ],
             [
              0.8888888888888888,
              "#fdca26"
             ],
             [
              1,
              "#f0f921"
             ]
            ],
            "type": "surface"
           }
          ],
          "table": [
           {
            "cells": {
             "fill": {
              "color": "#EBF0F8"
             },
             "line": {
              "color": "white"
             }
            },
            "header": {
             "fill": {
              "color": "#C8D4E3"
             },
             "line": {
              "color": "white"
             }
            },
            "type": "table"
           }
          ]
         },
         "layout": {
          "annotationdefaults": {
           "arrowcolor": "#2a3f5f",
           "arrowhead": 0,
           "arrowwidth": 1
          },
          "autotypenumbers": "strict",
          "coloraxis": {
           "colorbar": {
            "outlinewidth": 0,
            "ticks": ""
           }
          },
          "colorscale": {
           "diverging": [
            [
             0,
             "#8e0152"
            ],
            [
             0.1,
             "#c51b7d"
            ],
            [
             0.2,
             "#de77ae"
            ],
            [
             0.3,
             "#f1b6da"
            ],
            [
             0.4,
             "#fde0ef"
            ],
            [
             0.5,
             "#f7f7f7"
            ],
            [
             0.6,
             "#e6f5d0"
            ],
            [
             0.7,
             "#b8e186"
            ],
            [
             0.8,
             "#7fbc41"
            ],
            [
             0.9,
             "#4d9221"
            ],
            [
             1,
             "#276419"
            ]
           ],
           "sequential": [
            [
             0,
             "#0d0887"
            ],
            [
             0.1111111111111111,
             "#46039f"
            ],
            [
             0.2222222222222222,
             "#7201a8"
            ],
            [
             0.3333333333333333,
             "#9c179e"
            ],
            [
             0.4444444444444444,
             "#bd3786"
            ],
            [
             0.5555555555555556,
             "#d8576b"
            ],
            [
             0.6666666666666666,
             "#ed7953"
            ],
            [
             0.7777777777777778,
             "#fb9f3a"
            ],
            [
             0.8888888888888888,
             "#fdca26"
            ],
            [
             1,
             "#f0f921"
            ]
           ],
           "sequentialminus": [
            [
             0,
             "#0d0887"
            ],
            [
             0.1111111111111111,
             "#46039f"
            ],
            [
             0.2222222222222222,
             "#7201a8"
            ],
            [
             0.3333333333333333,
             "#9c179e"
            ],
            [
             0.4444444444444444,
             "#bd3786"
            ],
            [
             0.5555555555555556,
             "#d8576b"
            ],
            [
             0.6666666666666666,
             "#ed7953"
            ],
            [
             0.7777777777777778,
             "#fb9f3a"
            ],
            [
             0.8888888888888888,
             "#fdca26"
            ],
            [
             1,
             "#f0f921"
            ]
           ]
          },
          "colorway": [
           "#636efa",
           "#EF553B",
           "#00cc96",
           "#ab63fa",
           "#FFA15A",
           "#19d3f3",
           "#FF6692",
           "#B6E880",
           "#FF97FF",
           "#FECB52"
          ],
          "font": {
           "color": "#2a3f5f"
          },
          "geo": {
           "bgcolor": "white",
           "lakecolor": "white",
           "landcolor": "#E5ECF6",
           "showlakes": true,
           "showland": true,
           "subunitcolor": "white"
          },
          "hoverlabel": {
           "align": "left"
          },
          "hovermode": "closest",
          "mapbox": {
           "style": "light"
          },
          "paper_bgcolor": "white",
          "plot_bgcolor": "#E5ECF6",
          "polar": {
           "angularaxis": {
            "gridcolor": "white",
            "linecolor": "white",
            "ticks": ""
           },
           "bgcolor": "#E5ECF6",
           "radialaxis": {
            "gridcolor": "white",
            "linecolor": "white",
            "ticks": ""
           }
          },
          "scene": {
           "xaxis": {
            "backgroundcolor": "#E5ECF6",
            "gridcolor": "white",
            "gridwidth": 2,
            "linecolor": "white",
            "showbackground": true,
            "ticks": "",
            "zerolinecolor": "white"
           },
           "yaxis": {
            "backgroundcolor": "#E5ECF6",
            "gridcolor": "white",
            "gridwidth": 2,
            "linecolor": "white",
            "showbackground": true,
            "ticks": "",
            "zerolinecolor": "white"
           },
           "zaxis": {
            "backgroundcolor": "#E5ECF6",
            "gridcolor": "white",
            "gridwidth": 2,
            "linecolor": "white",
            "showbackground": true,
            "ticks": "",
            "zerolinecolor": "white"
           }
          },
          "shapedefaults": {
           "line": {
            "color": "#2a3f5f"
           }
          },
          "ternary": {
           "aaxis": {
            "gridcolor": "white",
            "linecolor": "white",
            "ticks": ""
           },
           "baxis": {
            "gridcolor": "white",
            "linecolor": "white",
            "ticks": ""
           },
           "bgcolor": "#E5ECF6",
           "caxis": {
            "gridcolor": "white",
            "linecolor": "white",
            "ticks": ""
           }
          },
          "title": {
           "x": 0.05
          },
          "xaxis": {
           "automargin": true,
           "gridcolor": "white",
           "linecolor": "white",
           "ticks": "",
           "title": {
            "standoff": 15
           },
           "zerolinecolor": "white",
           "zerolinewidth": 2
          },
          "yaxis": {
           "automargin": true,
           "gridcolor": "white",
           "linecolor": "white",
           "ticks": "",
           "title": {
            "standoff": 15
           },
           "zerolinecolor": "white",
           "zerolinewidth": 2
          }
         }
        },
        "title": {
         "text": "Gráfico de Dispersión Multivariante"
        },
        "width": 900
       }
      }
     },
     "metadata": {},
     "output_type": "display_data"
    },
    {
     "data": {
      "application/vnd.plotly.v1+json": {
       "config": {
        "plotlyServerURL": "https://plot.ly"
       },
       "data": [
        {
         "hovertemplate": "Estado del Préstamo=No Aprobado<br>Edad=%{x}<br>Ingresos=%{y}<br>Deuda Crédito=%{z}<extra></extra>",
         "legendgroup": "No Aprobado",
         "marker": {
          "color": "red",
          "symbol": "circle"
         },
         "mode": "markers",
         "name": "No Aprobado",
         "scene": "scene",
         "showlegend": true,
         "type": "scatter3d",
         "x": {
          "bdata": "AAAAAACAREAAAAAAAAA4QAAAAAAAADhAAAAAAAAAQkAAAAAAAABCQAAAAAAAADVAAAAAAAAAPEAAAAAAAAA6QAAAAAAAADdAAAAAAAAAQUAAAAAAAABHQAAAAAAAgEJAAAAAAAAAPUAAAAAAAABAQAAAAAAAADxAAAAAAAAAPEAAAAAAAAA9QAAAAAAAADpAAAAAAAAAPUAAAAAAAAA3QAAAAAAAADlAAAAAAAAAQEAAAAAAAIBEQAAAAAAAAENAAAAAAACASkAAAAAAAAA/QAAAAAAAADlAAAAAAAAAN0AAAAAAAABBQAAAAAAAAD9AAAAAAACAQ0AAAAAAAAD4fwAAAAAAADhAAAAAAAAAO0AAAAAAAIBFQAAAAAAAAEtAAAAAAACAQEAAAAAAAAA/QAAAAAAAgEFAAAAAAAAAREAAAAAAAAA2QAAAAAAAAEBAAAAAAACAQEAAAAAAAABEQAAAAAAAADtAAAAAAAAAQkAAAAAAAAA/QAAAAAAAADhAAAAAAAAAP0AAAAAAAAD4fwAAAAAAAEZAAAAAAACAQUAAAAAAAAD4fwAAAAAAADtAAAAAAAAAPUAAAAAAAIBFQAAAAAAAgEtAAAAAAAAAQEAAAAAAAIBDQAAAAAAAgEBAAAAAAAAASkAAAAAAAAA/QAAAAAAAADtAAAAAAAAAOkAAAAAAAAA+QAAAAAAAAD9AAAAAAAAAQUAAAAAAAABDQAAAAAAAAD9AAAAAAAAAOUAAAAAAAIBHQAAAAAAAgENAAAAAAAAAPUAAAAAAAAA7QAAAAAAAADtAAAAAAAAAQ0AAAAAAAABEQAAAAAAAAEtAAAAAAAAAPUAAAAAAAAA8QAAAAAAAADxAAAAAAAAAPEAAAAAAAABEQAAAAAAAAD5AAAAAAACAREAAAAAAAIBEQAAAAAAAgENAAAAAAAAAOEAAAAAAAIBCQAAAAAAAgEBAAAAAAAAASEAAAAAAAIBDQAAAAAAAAEpAAAAAAAAAOEAAAAAAAIBKQAAAAAAAgEdAAAAAAAAAN0AAAAAAAAA+QAAAAAAAADlAAAAAAAAAPUAAAAAAAABAQAAAAAAAAEdAAAAAAAAAN0AAAAAAAAA3QAAAAAAAAEFAAAAAAAAAPUAAAAAAAAA4QAAAAAAAgEVAAAAAAAAAR0AAAAAAAAA/QAAAAAAAgEJAAAAAAAAANUAAAAAAAIBHQAAAAAAAADVAAAAAAAAAPUAAAAAAAAA4QAAAAAAAADlAAAAAAAAAOEAAAAAAAIBGQAAAAAAAADtAAAAAAACAQEAAAAAAAIBBQAAAAAAAgERAAAAAAAAAPEAAAAAAAABDQAAAAAAAADlAAAAAAACAR0AAAAAAAAA5QAAAAAAAgERAAAAAAACAQUAAAAAAAAA3QAAAAAAAAEVAAAAAAAAANkAAAAAAAIBCQAAAAAAAADZAAAAAAACASEAAAAAAAABAQAAAAAAAADhAAAAAAAAAQEAAAAAAAIBCQAAAAAAAgERAAAAAAAAAQEAAAAAAAAA2QAAAAAAAADxAAAAAAAAAPUAAAAAAAABIQAAAAAAAADtAAAAAAAAAO0AAAAAAAAA4QAAAAAAAADxAAAAAAAAAOEAAAAAAAIBCQAAAAAAAADlAAAAAAAAAPUAAAAAAAIBJQAAAAAAAADZAAAAAAAAAPEAAAAAAAAA5QAAAAAAAAEBAAAAAAAAAPEAAAAAAAAA6QAAAAAAAAD1AAAAAAACAREAAAAAAAABEQAAAAAAAADxAAAAAAAAAPUAAAAAAAAA3QAAAAAAAgEdAAAAAAAAAN0AAAAAAAAA8QAAAAAAAAD9AAAAAAAAAN0AAAAAAAIBKQAAAAAAAADxAAAAAAACAQkAAAAAAAIBBQAAAAAAAAERAAAAAAAAAPkAAAAAAAAA0QAAAAAAAgEFAAAAAAAAAQUAAAAAAAAD4fwAAAAAAAEJA",
          "dtype": "f8"
         },
         "y": {
          "bdata": "AAAAABj7pEEAAAAA8LN6QQAAAACsHnJBAAAAAHJdh0EAAAAA4oyDQQAAAACAhG5BAAAAAGDjdkEAAAAA8LNqQQAAAAD0BnRBAAAAAITXd0EAAAAAqMuIQQAAAABg43ZBAAAAAPQGhEEAAAAAAAD4fwAAAAA873VBAAAAAFyQfUEAAAAA0BJzQQAAAADMv3lBAAAAAIgqgUEAAAAAZDZwQQAAAAA4nGxBAAAAAIgqcUEAAAAAOJxsQQAAAABckH1BAAAAAITXh0EAAAAAzL95QQAAAADQEnNBAAAAAKweckEAAAAAzL95QQAAAAAY+3RBAAAAAGQ2kEEAAAAAmqSBQQAAAACAhG5BAAAAACp1hUEAAAAArB6SQQAAAADws3pBAAAAAAAA+H8AAAAAqMt4QQAAAABg43ZBAAAAAJZRmEEAAAAAYON2QQAAAADQEnNBAAAAAHawgEEAAAAABoGEQQAAAAAY+3RBAAAAAPCzekEAAAAA9AZ0QQAAAACIKnFBAAAAAICEfkEAAAAAGPuUQQAAAABg44ZBAAAAAJqkgUEAAAAAOJx8QQAAAAB2sJBBAAAAAHawkEEAAAAAOJyMQQAAAADQEoNBAAAAADicbEEAAAAA9AaEQQAAAACoy4hBAAAAAGDjdkEAAAAAJiKMQQAAAADQEnNBAAAAAGDjdkEAAAAAZDZwQQAAAAAAAPh/AAAAAL6YgkEAAAAAGPt0QQAAAAByXYdBAAAAAMy/eUEAAAAAicGeQQAAAAA4nIxBAAAAAPCzakEAAAAA0BKDQQAAAAAqdYVBAAAAADzvdUEAAAAAdrCAQQAAAAA4nJxBAAAAAAAA+H8AAAAA4oyDQQAAAABOaYZBAAAAAPCzekEAAAAA3jmqQQAAAACsHnJBAAAAAH/tkEEAAAAA8LOKQQAAAAAY+3RBAAAAADicbEEAAAAAiCpxQQAAAACIKpFBAAAAAITXh0EAAAAAPO+FQQAAAAB2sJBBAAAAAAAA+H8AAAAAvpiSQQAAAAAAAPh/AAAAAICEbkEAAAAAkv6OQQAAAAAAAPh/AAAAABSoe0EAAAAAAi6LQQAAAAD0BnRBAAAAAICEfkEAAAAAhNd3QQAAAAAAAPh/AAAAABj7dEEAAAAA9AZ0QQAAAIBrlbpBAAAAAAaBhEEAAAAAGPt0QQAAAACkeH9BAAAAAPQGdEEAAACAYliqQQAAAADQEnNBAAAAANASc0EAAAAAFKh7QQAAAACIKnFBAAAAAKjLeEEAAAAATmmWQQAAAAA873VBAAAAAAIui0EAAAAAGPt0QQAAAAAAAPh/AAAAAPCzekEAAAAAbgqOQQAAAACAhG5BAAAAAKR4f0EAAAAAiCpxQQAAAACIKoFBAAAAANASg0EAAAAAiCpxQQAAAABg44ZBAAAAAKweckEAAAAAXJB9QQAAAAAAAPh/AAAAANASc0EAAAAABoGEQQAAAADws2pBAAAAAICEbkEAAAAA0BJzQQAAAAAAAPh/AAAAANASc0EAAAAAdrCAQQAAAABkNnBBAAAAAPQGlEEAAAAAJiKMQQAAAAD0BoRBAAAAAAAA+H8AAAAAOJxsQQAAAAAY+3RBAAAAAGQ2cEEAAAAAhNeHQQAAAACIKnFBAAAAAKjLeEEAAAAAGPuEQQAAAAA873VBAAAAAIgqcUEAAAAAZDaAQQAAAADws3pBAAAAAOKMg0EAAAAAFKh7QQAAAACIKnFBAAAAAKjLeEEAAAAA3jmKQQAAAAA4nHxBAAAAAIgqcUEAAAAAGPt0QQAAAABkNqBBAAAAAPQGdEEAAAAAFKh7QQAAAADijINBAAAAAPQGhEEAAAAAzL95QQAAAADQEnNBAAAAAFyQfUEAAAAAZDaAQQAAAACIKoFBAAAAAKR4f0EAAAAA8LNqQQAAAAC+mIJBAAAAAKR4f0EAAAAAAAD4fwAAAADMv3lB",
          "dtype": "f8"
         },
         "z": {
          "bdata": "oFStACxGGwAMuhQAbHkMAEiHLAAAsQMAMGoUAECdBADo1QsAdL8IANBDLgCoexsA9D0WADRkdgBA2gIAusQWAEivCAC4uCUAIEQ1ADovHwB+qQUAMIYEANnqHQDqUhQAAMMeAICcEACAMgcABEMEAPA/HgBmqxAAGIMPAA6zEQAAZA8A6IIrAMDSIACAxhcAQpQUAABRBACYBAkAagNfACD3GAAAzgQAx2ggAJKdKgCQkhAAAHEMANA6BABmpQMAgPsyAFhXBAAADx4AKt8IAHDUBgDgsRgAaHYwACCiPQAAmAgA488BACDFJgAUaCkAADwMABZzLwCUwAUAQA4YAH7QBgBARQUAhrtCAORwEgDEYjEASmIIAJ69OQE4YpIAoPMIADhVBADSdAQArrMNAHAsGABouN4AgPQDAMABBwCWDlUAcKwGAACcfABshwkAzy5kABCzBQAKPB0Aq+YEAPQpGADoIuUACEpdAAAYPQAISBQAACAEAGzVaQA8wSYAAEgMANqAOwAQXxgA7I0jAN4BUwBMAhUAAH0MAGbjAQC4R3cAdNkPAILuKADunvQAIGwuADCJGgA7GikAOnMHAKD28ACMbwQAEFkPAMj+CABQXwUAwIsNAAQfNwCM4QQAiUBdALQPHgBkVyMAXNsiAKA1VwBgbQ8AsjsSAKbWBwBE4EQAQIEbAAqCDQBgVBIAJswcAMf0GQASKh4AwMYFALCOGwBYywwAQKMNACCmAgAiKEwA6AQEAJDrCwCdCgMAIHZpAN1PSwAYUikA2acVALUcAQCqnlAA0K8IAMCxbwC4vyoANjQIACCvSwCMsAUAwJcdAEwHAgBglScAJ/pZAGeNJgAAPB4AgHgWALO5GgCA2AEAHN0GANBwEwCYJ9kA+HYSAP3HIAD6tS0A1IsPAAASCQCgjgMAAc0BAGrnFADE9gUAKscRABgRAwDp9hkAICwmAJsHKgCu/wMA",
          "dtype": "i4"
         }
        },
        {
         "hovertemplate": "Estado del Préstamo=Aprobado<br>Edad=%{x}<br>Ingresos=%{y}<br>Deuda Crédito=%{z}<extra></extra>",
         "legendgroup": "Aprobado",
         "marker": {
          "color": "green",
          "symbol": "circle"
         },
         "mode": "markers",
         "name": "Aprobado",
         "scene": "scene",
         "showlegend": true,
         "type": "scatter3d",
         "x": {
          "bdata": "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",
          "dtype": "f8"
         },
         "y": {
          "bdata": "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",
          "dtype": "f8"
         },
         "z": {
          "bdata": "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",
          "dtype": "i4"
         }
        }
       ],
       "layout": {
        "height": 600,
        "legend": {
         "title": {
          "text": "Estado del Préstamo"
         },
         "tracegroupgap": 0
        },
        "margin": {
         "b": 0,
         "l": 20,
         "r": 0,
         "t": 20
        },
        "scene": {
         "aspectmode": "cube",
         "camera": {
          "center": {
           "x": 0,
           "y": 0,
           "z": 0
          },
          "eye": {
           "x": 2.5,
           "y": 1.5,
           "z": 1.5
          },
          "up": {
           "x": 0,
           "y": 0,
           "z": 1
          }
         },
         "domain": {
          "x": [
           0,
           1
          ],
          "y": [
           0,
           1
          ]
         },
         "xaxis": {
          "gridwidth": 1,
          "showgrid": true,
          "title": {
           "font": {
            "size": 14
           },
           "text": "Edad"
          }
         },
         "yaxis": {
          "gridwidth": 1,
          "showgrid": true,
          "title": {
           "font": {
            "size": 14
           },
           "text": "Ingresos"
          }
         },
         "zaxis": {
          "gridwidth": 1,
          "showgrid": true,
          "title": {
           "font": {
            "size": 14
           },
           "text": "Deuda Crédito"
          }
         }
        },
        "template": {
         "data": {
          "bar": [
           {
            "error_x": {
             "color": "#2a3f5f"
            },
            "error_y": {
             "color": "#2a3f5f"
            },
            "marker": {
             "line": {
              "color": "#E5ECF6",
              "width": 0.5
             },
             "pattern": {
              "fillmode": "overlay",
              "size": 10,
              "solidity": 0.2
             }
            },
            "type": "bar"
           }
          ],
          "barpolar": [
           {
            "marker": {
             "line": {
              "color": "#E5ECF6",
              "width": 0.5
             },
             "pattern": {
              "fillmode": "overlay",
              "size": 10,
              "solidity": 0.2
             }
            },
            "type": "barpolar"
           }
          ],
          "carpet": [
           {
            "aaxis": {
             "endlinecolor": "#2a3f5f",
             "gridcolor": "white",
             "linecolor": "white",
             "minorgridcolor": "white",
             "startlinecolor": "#2a3f5f"
            },
            "baxis": {
             "endlinecolor": "#2a3f5f",
             "gridcolor": "white",
             "linecolor": "white",
             "minorgridcolor": "white",
             "startlinecolor": "#2a3f5f"
            },
            "type": "carpet"
           }
          ],
          "choropleth": [
           {
            "colorbar": {
             "outlinewidth": 0,
             "ticks": ""
            },
            "type": "choropleth"
           }
          ],
          "contour": [
           {
            "colorbar": {
             "outlinewidth": 0,
             "ticks": ""
            },
            "colorscale": [
             [
              0,
              "#0d0887"
             ],
             [
              0.1111111111111111,
              "#46039f"
             ],
             [
              0.2222222222222222,
              "#7201a8"
             ],
             [
              0.3333333333333333,
              "#9c179e"
             ],
             [
              0.4444444444444444,
              "#bd3786"
             ],
             [
              0.5555555555555556,
              "#d8576b"
             ],
             [
              0.6666666666666666,
              "#ed7953"
             ],
             [
              0.7777777777777778,
              "#fb9f3a"
             ],
             [
              0.8888888888888888,
              "#fdca26"
             ],
             [
              1,
              "#f0f921"
             ]
            ],
            "type": "contour"
           }
          ],
          "contourcarpet": [
           {
            "colorbar": {
             "outlinewidth": 0,
             "ticks": ""
            },
            "type": "contourcarpet"
           }
          ],
          "heatmap": [
           {
            "colorbar": {
             "outlinewidth": 0,
             "ticks": ""
            },
            "colorscale": [
             [
              0,
              "#0d0887"
             ],
             [
              0.1111111111111111,
              "#46039f"
             ],
             [
              0.2222222222222222,
              "#7201a8"
             ],
             [
              0.3333333333333333,
              "#9c179e"
             ],
             [
              0.4444444444444444,
              "#bd3786"
             ],
             [
              0.5555555555555556,
              "#d8576b"
             ],
             [
              0.6666666666666666,
              "#ed7953"
             ],
             [
              0.7777777777777778,
              "#fb9f3a"
             ],
             [
              0.8888888888888888,
              "#fdca26"
             ],
             [
              1,
              "#f0f921"
             ]
            ],
            "type": "heatmap"
           }
          ],
          "histogram": [
           {
            "marker": {
             "pattern": {
              "fillmode": "overlay",
              "size": 10,
              "solidity": 0.2
             }
            },
            "type": "histogram"
           }
          ],
          "histogram2d": [
           {
            "colorbar": {
             "outlinewidth": 0,
             "ticks": ""
            },
            "colorscale": [
             [
              0,
              "#0d0887"
             ],
             [
              0.1111111111111111,
              "#46039f"
             ],
             [
              0.2222222222222222,
              "#7201a8"
             ],
             [
              0.3333333333333333,
              "#9c179e"
             ],
             [
              0.4444444444444444,
              "#bd3786"
             ],
             [
              0.5555555555555556,
              "#d8576b"
             ],
             [
              0.6666666666666666,
              "#ed7953"
             ],
             [
              0.7777777777777778,
              "#fb9f3a"
             ],
             [
              0.8888888888888888,
              "#fdca26"
             ],
             [
              1,
              "#f0f921"
             ]
            ],
            "type": "histogram2d"
           }
          ],
          "histogram2dcontour": [
           {
            "colorbar": {
             "outlinewidth": 0,
             "ticks": ""
            },
            "colorscale": [
             [
              0,
              "#0d0887"
             ],
             [
              0.1111111111111111,
              "#46039f"
             ],
             [
              0.2222222222222222,
              "#7201a8"
             ],
             [
              0.3333333333333333,
              "#9c179e"
             ],
             [
              0.4444444444444444,
              "#bd3786"
             ],
             [
              0.5555555555555556,
              "#d8576b"
             ],
             [
              0.6666666666666666,
              "#ed7953"
             ],
             [
              0.7777777777777778,
              "#fb9f3a"
             ],
             [
              0.8888888888888888,
              "#fdca26"
             ],
             [
              1,
              "#f0f921"
             ]
            ],
            "type": "histogram2dcontour"
           }
          ],
          "mesh3d": [
           {
            "colorbar": {
             "outlinewidth": 0,
             "ticks": ""
            },
            "type": "mesh3d"
           }
          ],
          "parcoords": [
           {
            "line": {
             "colorbar": {
              "outlinewidth": 0,
              "ticks": ""
             }
            },
            "type": "parcoords"
           }
          ],
          "pie": [
           {
            "automargin": true,
            "type": "pie"
           }
          ],
          "scatter": [
           {
            "fillpattern": {
             "fillmode": "overlay",
             "size": 10,
             "solidity": 0.2
            },
            "type": "scatter"
           }
          ],
          "scatter3d": [
           {
            "line": {
             "colorbar": {
              "outlinewidth": 0,
              "ticks": ""
             }
            },
            "marker": {
             "colorbar": {
              "outlinewidth": 0,
              "ticks": ""
             }
            },
            "type": "scatter3d"
           }
          ],
          "scattercarpet": [
           {
            "marker": {
             "colorbar": {
              "outlinewidth": 0,
              "ticks": ""
             }
            },
            "type": "scattercarpet"
           }
          ],
          "scattergeo": [
           {
            "marker": {
             "colorbar": {
              "outlinewidth": 0,
              "ticks": ""
             }
            },
            "type": "scattergeo"
           }
          ],
          "scattergl": [
           {
            "marker": {
             "colorbar": {
              "outlinewidth": 0,
              "ticks": ""
             }
            },
            "type": "scattergl"
           }
          ],
          "scattermap": [
           {
            "marker": {
             "colorbar": {
              "outlinewidth": 0,
              "ticks": ""
             }
            },
            "type": "scattermap"
           }
          ],
          "scattermapbox": [
           {
            "marker": {
             "colorbar": {
              "outlinewidth": 0,
              "ticks": ""
             }
            },
            "type": "scattermapbox"
           }
          ],
          "scatterpolar": [
           {
            "marker": {
             "colorbar": {
              "outlinewidth": 0,
              "ticks": ""
             }
            },
            "type": "scatterpolar"
           }
          ],
          "scatterpolargl": [
           {
            "marker": {
             "colorbar": {
              "outlinewidth": 0,
              "ticks": ""
             }
            },
            "type": "scatterpolargl"
           }
          ],
          "scatterternary": [
           {
            "marker": {
             "colorbar": {
              "outlinewidth": 0,
              "ticks": ""
             }
            },
            "type": "scatterternary"
           }
          ],
          "surface": [
           {
            "colorbar": {
             "outlinewidth": 0,
             "ticks": ""
            },
            "colorscale": [
             [
              0,
              "#0d0887"
             ],
             [
              0.1111111111111111,
              "#46039f"
             ],
             [
              0.2222222222222222,
              "#7201a8"
             ],
             [
              0.3333333333333333,
              "#9c179e"
             ],
             [
              0.4444444444444444,
              "#bd3786"
             ],
             [
              0.5555555555555556,
              "#d8576b"
             ],
             [
              0.6666666666666666,
              "#ed7953"
             ],
             [
              0.7777777777777778,
              "#fb9f3a"
             ],
             [
              0.8888888888888888,
              "#fdca26"
             ],
             [
              1,
              "#f0f921"
             ]
            ],
            "type": "surface"
           }
          ],
          "table": [
           {
            "cells": {
             "fill": {
              "color": "#EBF0F8"
             },
             "line": {
              "color": "white"
             }
            },
            "header": {
             "fill": {
              "color": "#C8D4E3"
             },
             "line": {
              "color": "white"
             }
            },
            "type": "table"
           }
          ]
         },
         "layout": {
          "annotationdefaults": {
           "arrowcolor": "#2a3f5f",
           "arrowhead": 0,
           "arrowwidth": 1
          },
          "autotypenumbers": "strict",
          "coloraxis": {
           "colorbar": {
            "outlinewidth": 0,
            "ticks": ""
           }
          },
          "colorscale": {
           "diverging": [
            [
             0,
             "#8e0152"
            ],
            [
             0.1,
             "#c51b7d"
            ],
            [
             0.2,
             "#de77ae"
            ],
            [
             0.3,
             "#f1b6da"
            ],
            [
             0.4,
             "#fde0ef"
            ],
            [
             0.5,
             "#f7f7f7"
            ],
            [
             0.6,
             "#e6f5d0"
            ],
            [
             0.7,
             "#b8e186"
            ],
            [
             0.8,
             "#7fbc41"
            ],
            [
             0.9,
             "#4d9221"
            ],
            [
             1,
             "#276419"
            ]
           ],
           "sequential": [
            [
             0,
             "#0d0887"
            ],
            [
             0.1111111111111111,
             "#46039f"
            ],
            [
             0.2222222222222222,
             "#7201a8"
            ],
            [
             0.3333333333333333,
             "#9c179e"
            ],
            [
             0.4444444444444444,
             "#bd3786"
            ],
            [
             0.5555555555555556,
             "#d8576b"
            ],
            [
             0.6666666666666666,
             "#ed7953"
            ],
            [
             0.7777777777777778,
             "#fb9f3a"
            ],
            [
             0.8888888888888888,
             "#fdca26"
            ],
            [
             1,
             "#f0f921"
            ]
           ],
           "sequentialminus": [
            [
             0,
             "#0d0887"
            ],
            [
             0.1111111111111111,
             "#46039f"
            ],
            [
             0.2222222222222222,
             "#7201a8"
            ],
            [
             0.3333333333333333,
             "#9c179e"
            ],
            [
             0.4444444444444444,
             "#bd3786"
            ],
            [
             0.5555555555555556,
             "#d8576b"
            ],
            [
             0.6666666666666666,
             "#ed7953"
            ],
            [
             0.7777777777777778,
             "#fb9f3a"
            ],
            [
             0.8888888888888888,
             "#fdca26"
            ],
            [
             1,
             "#f0f921"
            ]
           ]
          },
          "colorway": [
           "#636efa",
           "#EF553B",
           "#00cc96",
           "#ab63fa",
           "#FFA15A",
           "#19d3f3",
           "#FF6692",
           "#B6E880",
           "#FF97FF",
           "#FECB52"
          ],
          "font": {
           "color": "#2a3f5f"
          },
          "geo": {
           "bgcolor": "white",
           "lakecolor": "white",
           "landcolor": "#E5ECF6",
           "showlakes": true,
           "showland": true,
           "subunitcolor": "white"
          },
          "hoverlabel": {
           "align": "left"
          },
          "hovermode": "closest",
          "mapbox": {
           "style": "light"
          },
          "paper_bgcolor": "white",
          "plot_bgcolor": "#E5ECF6",
          "polar": {
           "angularaxis": {
            "gridcolor": "white",
            "linecolor": "white",
            "ticks": ""
           },
           "bgcolor": "#E5ECF6",
           "radialaxis": {
            "gridcolor": "white",
            "linecolor": "white",
            "ticks": ""
           }
          },
          "scene": {
           "xaxis": {
            "backgroundcolor": "#E5ECF6",
            "gridcolor": "white",
            "gridwidth": 2,
            "linecolor": "white",
            "showbackground": true,
            "ticks": "",
            "zerolinecolor": "white"
           },
           "yaxis": {
            "backgroundcolor": "#E5ECF6",
            "gridcolor": "white",
            "gridwidth": 2,
            "linecolor": "white",
            "showbackground": true,
            "ticks": "",
            "zerolinecolor": "white"
           },
           "zaxis": {
            "backgroundcolor": "#E5ECF6",
            "gridcolor": "white",
            "gridwidth": 2,
            "linecolor": "white",
            "showbackground": true,
            "ticks": "",
            "zerolinecolor": "white"
           }
          },
          "shapedefaults": {
           "line": {
            "color": "#2a3f5f"
           }
          },
          "ternary": {
           "aaxis": {
            "gridcolor": "white",
            "linecolor": "white",
            "ticks": ""
           },
           "baxis": {
            "gridcolor": "white",
            "linecolor": "white",
            "ticks": ""
           },
           "bgcolor": "#E5ECF6",
           "caxis": {
            "gridcolor": "white",
            "linecolor": "white",
            "ticks": ""
           }
          },
          "title": {
           "x": 0.05
          },
          "xaxis": {
           "automargin": true,
           "gridcolor": "white",
           "linecolor": "white",
           "ticks": "",
           "title": {
            "standoff": 15
           },
           "zerolinecolor": "white",
           "zerolinewidth": 2
          },
          "yaxis": {
           "automargin": true,
           "gridcolor": "white",
           "linecolor": "white",
           "ticks": "",
           "title": {
            "standoff": 15
           },
           "zerolinecolor": "white",
           "zerolinewidth": 2
          }
         }
        },
        "title": {
         "text": "Gráfico de Dispersión 3D"
        }
       }
      }
     },
     "metadata": {},
     "output_type": "display_data"
    }
   ],
   "source": [
    "def multivariante_analysis(df):\n",
    "    print('=== Análisis Multivariante===')\n",
    "\n",
    "    # Crear una copia para no modificar el original\n",
    "    df_plot = df_bank_loan.copy()\n",
    "\n",
    "    # Crear una columna de categorías para el gráfico de dispersión\n",
    "    df_plot['default_cat'] = df_plot['default'].map({0: 'Aprobado', 1: 'No Aprobado'})\n",
    "\n",
    "    # Gráfico de dispersión\n",
    "    fig = px.scatter_matrix(\n",
    "        df_plot,\n",
    "        dimensions=['age', 'employ', 'income', 'creddebt', 'othdebt'],\n",
    "        color='default_cat',\n",
    "        title='Gráfico de Dispersión Multivariante',\n",
    "        labels={'default_cat': 'Estado del Préstamo', 'age': 'Edad', 'employ': 'Empleo', 'income': 'Ingresos', 'creddebt': 'Deuda Crédito', 'othdebt': 'Otra Deuda'},\n",
    "        color_discrete_sequence=['red','green'],\n",
    "        width=900,\n",
    "        height=700\n",
    "    )\n",
    "    fig.show()\n",
    "\n",
    "    # Gráfico de dispersión 3D\n",
    "    fig = px.scatter_3d(\n",
    "        df_plot,\n",
    "        x='age',\n",
    "        y='income',\n",
    "        z='creddebt',\n",
    "        color='default_cat',\n",
    "        title='Gráfico de Dispersión 3D',\n",
    "        labels={'default_cat': 'Estado del Préstamo', 'age': 'Edad', 'income': 'Ingresos', 'creddebt': 'Deuda Crédito'},\n",
    "        color_discrete_sequence=['red','green'],\n",
    "        height=600,\n",
    "        \n",
    "    )\n",
    "    \n",
    "    fig.update_layout(\n",
    "        scene = dict(\n",
    "            xaxis = dict(showgrid=True, gridwidth=1, title_font=dict(size=14)),\n",
    "            yaxis = dict(showgrid=True, gridwidth=1, title_font=dict(size=14)),\n",
    "            zaxis = dict(showgrid=True, gridwidth=1, title_font=dict(size=14)),\n",
    "            camera=dict(\n",
    "                up=dict(x=0, y=0, z=1),\n",
    "                center=dict(x=0, y=0, z=0),\n",
    "                eye=dict(x=2.5, y=1.5, z=1.5)\n",
    "            ),\n",
    "        ),\n",
    "        margin=dict(l=20, r=0, t=20, b=0),\n",
    "        scene_aspectmode='cube'\n",
    "    )\n",
    "    fig.show()\n",
    "\n",
    "multivariante_analysis(df_bank_loan)"
   ]
  },
  {
   "cell_type": "markdown",
   "id": "0b238576",
   "metadata": {},
   "source": [
    "----- A/B TESTING"
   ]
  },
  {
   "cell_type": "code",
   "execution_count": 91,
   "id": "a1290da2",
   "metadata": {},
   "outputs": [
    {
     "name": "stdout",
     "output_type": "stream",
     "text": [
      "=== A/B Testing===\n",
      "Test t para Ingresos: t-statistic=nan, p-value=nan\n",
      "Test t para Edad: t-statistic=nan, p-value=nan\n",
      "Test t para Empleo: t-statistic=7.758771768486403, p-value=0.000\n",
      "Test t para Deuda: t-statistic=-6.649253570848013, p-value=0.000\n",
      "Test t para Otra Deuda: t-statistic=-3.8775829228348297, p-value=0.000\n",
      "Chi-squared para Educación: chi2=14.090, p-value=0.007\n",
      "Grados de libertad: 4\n",
      "Valores esperados:\n",
      "[[266.96165192  95.03834808]\n",
      " [140.85545723  50.14454277]\n",
      " [ 61.94690265  22.05309735]\n",
      " [ 26.54867257   9.45132743]\n",
      " [  3.68731563   1.31268437]]\n"
     ]
    },
    {
     "data": {
      "application/vnd.plotly.v1+json": {
       "config": {
        "plotlyServerURL": "https://plot.ly"
       },
       "data": [
        {
         "alignmentgroup": "True",
         "bingroup": "x",
         "hovertemplate": "Estado del Préstamo=No Aprobado<br>Nivel Educativo=%{x}<br>count=%{y}<extra></extra>",
         "legendgroup": "No Aprobado",
         "marker": {
          "color": "red",
          "pattern": {
           "shape": ""
          }
         },
         "name": "No Aprobado",
         "offsetgroup": "No Aprobado",
         "orientation": "v",
         "showlegend": true,
         "type": "histogram",
         "x": [
          "Secundaria / Bachillerato",
          "Universidad / Grado",
          "Postgrado / Máster / Doctorado",
          "Universidad / Grado",
          "Universidad / Grado",
          null,
          null,
          "Postgrado / Máster / Doctorado",
          "Universidad / Grado",
          "Postgrado / Máster / Doctorado",
          "Postgrado / Máster / Doctorado",
          "Postgrado / Máster / Doctorado",
          "Postgrado / Máster / Doctorado",
          "Universidad / Grado",
          "Universidad / Grado",
          "Universidad / Grado",
          "Postgrado / Máster / Doctorado",
          "Postgrado / Máster / Doctorado",
          "Universidad / Grado",
          "Universidad / Grado",
          "Postgrado / Máster / Doctorado",
          "Universidad / Grado",
          "Secundaria / Bachillerato",
          "Secundaria / Bachillerato",
          "Postgrado / Máster / Doctorado",
          "Universidad / Grado",
          "Postgrado / Máster / Doctorado",
          "Postgrado / Máster / Doctorado",
          "Primaria",
          "Postgrado / Máster / Doctorado",
          "Universidad / Grado",
          "Universidad / Grado",
          "Postgrado / Máster / Doctorado",
          "Postgrado / Máster / Doctorado",
          "Postgrado / Máster / Doctorado",
          "Postgrado / Máster / Doctorado",
          "Postgrado / Máster / Doctorado",
          "Universidad / Grado",
          "Universidad / Grado",
          "Universidad / Grado",
          "Postgrado / Máster / Doctorado",
          "Postgrado / Máster / Doctorado",
          "Universidad / Grado",
          "Postgrado / Máster / Doctorado",
          "Universidad / Grado",
          "Postgrado / Máster / Doctorado",
          "Postgrado / Máster / Doctorado",
          "Postgrado / Máster / Doctorado",
          "Universidad / Grado",
          "Secundaria / Bachillerato",
          "Postgrado / Máster / Doctorado",
          "Secundaria / Bachillerato",
          "Universidad / Grado",
          "Primaria",
          "Secundaria / Bachillerato",
          "Universidad / Grado",
          "Postgrado / Máster / Doctorado",
          "Universidad / Grado",
          "Postgrado / Máster / Doctorado",
          "Postgrado / Máster / Doctorado",
          "Postgrado / Máster / Doctorado",
          "Secundaria / Bachillerato",
          "Universidad / Grado",
          "Universidad / Grado",
          "Postgrado / Máster / Doctorado",
          "Postgrado / Máster / Doctorado",
          "Postgrado / Máster / Doctorado",
          "Universidad / Grado",
          "Postgrado / Máster / Doctorado",
          "Universidad / Grado",
          "Postgrado / Máster / Doctorado",
          null,
          "Postgrado / Máster / Doctorado",
          "Secundaria / Bachillerato",
          "Secundaria / Bachillerato",
          "Postgrado / Máster / Doctorado",
          "Universidad / Grado",
          "Postgrado / Máster / Doctorado",
          "Secundaria / Bachillerato",
          "Primaria",
          "Secundaria / Bachillerato",
          "Postgrado / Máster / Doctorado",
          "Secundaria / Bachillerato",
          "Postgrado / Máster / Doctorado",
          "Secundaria / Bachillerato",
          "Secundaria / Bachillerato",
          "Postgrado / Máster / Doctorado",
          "Universidad / Grado",
          "Postgrado / Máster / Doctorado",
          "Postgrado / Máster / Doctorado",
          "Postgrado / Máster / Doctorado",
          "Universidad / Grado",
          "Sin estudios",
          "Secundaria / Bachillerato",
          "Primaria",
          "Secundaria / Bachillerato",
          "Postgrado / Máster / Doctorado",
          "Secundaria / Bachillerato",
          "Primaria",
          "Universidad / Grado",
          "Universidad / Grado",
          "Postgrado / Máster / Doctorado",
          "Primaria",
          "Postgrado / Máster / Doctorado",
          "Postgrado / Máster / Doctorado",
          "Universidad / Grado",
          "Postgrado / Máster / Doctorado",
          "Primaria",
          "Secundaria / Bachillerato",
          null,
          "Primaria",
          "Universidad / Grado",
          "Secundaria / Bachillerato",
          "Universidad / Grado",
          "Secundaria / Bachillerato",
          "Primaria",
          "Postgrado / Máster / Doctorado",
          "Universidad / Grado",
          "Secundaria / Bachillerato",
          "Primaria",
          "Universidad / Grado",
          "Universidad / Grado",
          "Secundaria / Bachillerato",
          "Postgrado / Máster / Doctorado",
          "Secundaria / Bachillerato",
          "Postgrado / Máster / Doctorado",
          "Universidad / Grado",
          "Postgrado / Máster / Doctorado",
          "Universidad / Grado",
          "Universidad / Grado",
          "Universidad / Grado",
          "Universidad / Grado",
          "Postgrado / Máster / Doctorado",
          null,
          "Secundaria / Bachillerato",
          "Universidad / Grado",
          "Universidad / Grado",
          "Postgrado / Máster / Doctorado",
          "Postgrado / Máster / Doctorado",
          "Universidad / Grado",
          "Secundaria / Bachillerato",
          "Postgrado / Máster / Doctorado",
          "Universidad / Grado",
          "Postgrado / Máster / Doctorado",
          "Secundaria / Bachillerato",
          "Primaria",
          "Secundaria / Bachillerato",
          "Primaria",
          "Postgrado / Máster / Doctorado",
          "Postgrado / Máster / Doctorado",
          "Postgrado / Máster / Doctorado",
          "Secundaria / Bachillerato",
          "Primaria",
          "Universidad / Grado",
          "Postgrado / Máster / Doctorado",
          "Secundaria / Bachillerato",
          "Postgrado / Máster / Doctorado",
          "Primaria",
          "Universidad / Grado",
          "Universidad / Grado",
          "Postgrado / Máster / Doctorado",
          "Postgrado / Máster / Doctorado",
          "Universidad / Grado",
          "Secundaria / Bachillerato",
          "Postgrado / Máster / Doctorado",
          "Universidad / Grado",
          "Universidad / Grado",
          "Postgrado / Máster / Doctorado",
          "Postgrado / Máster / Doctorado",
          "Universidad / Grado",
          "Postgrado / Máster / Doctorado",
          "Universidad / Grado",
          "Postgrado / Máster / Doctorado",
          "Secundaria / Bachillerato",
          "Universidad / Grado",
          "Postgrado / Máster / Doctorado",
          "Postgrado / Máster / Doctorado",
          "Postgrado / Máster / Doctorado",
          "Postgrado / Máster / Doctorado",
          "Postgrado / Máster / Doctorado",
          "Postgrado / Máster / Doctorado",
          "Postgrado / Máster / Doctorado",
          "Universidad / Grado"
         ],
         "xaxis": "x",
         "yaxis": "y"
        },
        {
         "alignmentgroup": "True",
         "bingroup": "x",
         "hovertemplate": "Estado del Préstamo=Aprobado<br>Nivel Educativo=%{x}<br>count=%{y}<extra></extra>",
         "legendgroup": "Aprobado",
         "marker": {
          "color": "green",
          "pattern": {
           "shape": ""
          }
         },
         "name": "Aprobado",
         "offsetgroup": "Aprobado",
         "orientation": "v",
         "showlegend": true,
         "type": "histogram",
         "x": [
          "Postgrado / Máster / Doctorado",
          "Postgrado / Máster / Doctorado",
          null,
          "Universidad / Grado",
          "Postgrado / Máster / Doctorado",
          "Postgrado / Máster / Doctorado",
          "Postgrado / Máster / Doctorado",
          "Postgrado / Máster / Doctorado",
          "Postgrado / Máster / Doctorado",
          "Postgrado / Máster / Doctorado",
          "Postgrado / Máster / Doctorado",
          "Postgrado / Máster / Doctorado",
          "Postgrado / Máster / Doctorado",
          "Postgrado / Máster / Doctorado",
          null,
          "Postgrado / Máster / Doctorado",
          "Postgrado / Máster / Doctorado",
          "Postgrado / Máster / Doctorado",
          "Primaria",
          "Postgrado / Máster / Doctorado",
          "Universidad / Grado",
          "Secundaria / Bachillerato",
          "Postgrado / Máster / Doctorado",
          "Postgrado / Máster / Doctorado",
          null,
          "Postgrado / Máster / Doctorado",
          "Postgrado / Máster / Doctorado",
          "Universidad / Grado",
          "Universidad / Grado",
          "Universidad / Grado",
          "Postgrado / Máster / Doctorado",
          "Postgrado / Máster / Doctorado",
          "Postgrado / Máster / Doctorado",
          "Universidad / Grado",
          "Postgrado / Máster / Doctorado",
          "Universidad / Grado",
          "Postgrado / Máster / Doctorado",
          "Postgrado / Máster / Doctorado",
          "Postgrado / Máster / Doctorado",
          "Postgrado / Máster / Doctorado",
          null,
          "Universidad / Grado",
          "Postgrado / Máster / Doctorado",
          "Universidad / Grado",
          "Secundaria / Bachillerato",
          "Secundaria / Bachillerato",
          "Postgrado / Máster / Doctorado",
          "Postgrado / Máster / Doctorado",
          "Universidad / Grado",
          "Universidad / Grado",
          "Postgrado / Máster / Doctorado",
          "Universidad / Grado",
          "Universidad / Grado",
          "Postgrado / Máster / Doctorado",
          "Secundaria / Bachillerato",
          "Postgrado / Máster / Doctorado",
          "Postgrado / Máster / Doctorado",
          "Postgrado / Máster / Doctorado",
          "Postgrado / Máster / Doctorado",
          "Postgrado / Máster / Doctorado",
          "Postgrado / Máster / Doctorado",
          "Postgrado / Máster / Doctorado",
          "Postgrado / Máster / Doctorado",
          "Primaria",
          "Postgrado / Máster / Doctorado",
          "Postgrado / Máster / Doctorado",
          "Secundaria / Bachillerato",
          "Postgrado / Máster / Doctorado",
          "Postgrado / Máster / Doctorado",
          "Postgrado / Máster / Doctorado",
          "Postgrado / Máster / Doctorado",
          null,
          "Postgrado / Máster / Doctorado",
          "Universidad / Grado",
          "Postgrado / Máster / Doctorado",
          "Postgrado / Máster / Doctorado",
          "Postgrado / Máster / Doctorado",
          "Universidad / Grado",
          "Universidad / Grado",
          "Postgrado / Máster / Doctorado",
          "Postgrado / Máster / Doctorado",
          "Universidad / Grado",
          "Universidad / Grado",
          "Secundaria / Bachillerato",
          "Postgrado / Máster / Doctorado",
          "Secundaria / Bachillerato",
          null,
          "Postgrado / Máster / Doctorado",
          "Universidad / Grado",
          "Universidad / Grado",
          "Universidad / Grado",
          "Postgrado / Máster / Doctorado",
          "Postgrado / Máster / Doctorado",
          "Postgrado / Máster / Doctorado",
          "Universidad / Grado",
          "Postgrado / Máster / Doctorado",
          "Universidad / Grado",
          "Primaria",
          "Postgrado / Máster / Doctorado",
          "Universidad / Grado",
          "Postgrado / Máster / Doctorado",
          "Postgrado / Máster / Doctorado",
          "Universidad / Grado",
          "Universidad / Grado",
          null,
          "Postgrado / Máster / Doctorado",
          "Secundaria / Bachillerato",
          "Postgrado / Máster / Doctorado",
          "Postgrado / Máster / Doctorado",
          "Universidad / Grado",
          "Primaria",
          "Primaria",
          "Postgrado / Máster / Doctorado",
          "Postgrado / Máster / Doctorado",
          "Universidad / Grado",
          "Postgrado / Máster / Doctorado",
          "Postgrado / Máster / Doctorado",
          "Universidad / Grado",
          "Secundaria / Bachillerato",
          "Postgrado / Máster / Doctorado",
          "Postgrado / Máster / Doctorado",
          "Postgrado / Máster / Doctorado",
          "Secundaria / Bachillerato",
          "Postgrado / Máster / Doctorado",
          "Postgrado / Máster / Doctorado",
          "Primaria",
          "Postgrado / Máster / Doctorado",
          "Postgrado / Máster / Doctorado",
          "Postgrado / Máster / Doctorado",
          "Postgrado / Máster / Doctorado",
          "Postgrado / Máster / Doctorado",
          "Postgrado / Máster / Doctorado",
          "Postgrado / Máster / Doctorado",
          "Universidad / Grado",
          "Postgrado / Máster / Doctorado",
          "Postgrado / Máster / Doctorado",
          "Universidad / Grado",
          "Secundaria / Bachillerato",
          "Postgrado / Máster / Doctorado",
          "Primaria",
          "Postgrado / Máster / Doctorado",
          "Postgrado / Máster / Doctorado",
          "Postgrado / Máster / Doctorado",
          "Postgrado / Máster / Doctorado",
          "Postgrado / Máster / Doctorado",
          "Universidad / Grado",
          "Postgrado / Máster / Doctorado",
          "Primaria",
          "Postgrado / Máster / Doctorado",
          "Postgrado / Máster / Doctorado",
          "Primaria",
          "Universidad / Grado",
          "Secundaria / Bachillerato",
          "Secundaria / Bachillerato",
          "Postgrado / Máster / Doctorado",
          "Universidad / Grado",
          "Postgrado / Máster / Doctorado",
          "Universidad / Grado",
          "Secundaria / Bachillerato",
          "Secundaria / Bachillerato",
          null,
          "Secundaria / Bachillerato",
          "Postgrado / Máster / Doctorado",
          "Universidad / Grado",
          "Postgrado / Máster / Doctorado",
          "Secundaria / Bachillerato",
          "Secundaria / Bachillerato",
          "Postgrado / Máster / Doctorado",
          "Universidad / Grado",
          "Primaria",
          "Universidad / Grado",
          "Postgrado / Máster / Doctorado",
          "Secundaria / Bachillerato",
          "Universidad / Grado",
          "Universidad / Grado",
          "Postgrado / Máster / Doctorado",
          "Postgrado / Máster / Doctorado",
          "Universidad / Grado",
          "Universidad / Grado",
          null,
          "Postgrado / Máster / Doctorado",
          "Universidad / Grado",
          "Secundaria / Bachillerato",
          "Secundaria / Bachillerato",
          "Postgrado / Máster / Doctorado",
          "Postgrado / Máster / Doctorado",
          "Postgrado / Máster / Doctorado",
          "Postgrado / Máster / Doctorado",
          "Universidad / Grado",
          "Universidad / Grado",
          "Universidad / Grado",
          "Universidad / Grado",
          "Postgrado / Máster / Doctorado",
          "Postgrado / Máster / Doctorado",
          "Postgrado / Máster / Doctorado",
          "Secundaria / Bachillerato",
          "Secundaria / Bachillerato",
          "Universidad / Grado",
          "Postgrado / Máster / Doctorado",
          "Universidad / Grado",
          "Universidad / Grado",
          "Postgrado / Máster / Doctorado",
          "Postgrado / Máster / Doctorado",
          "Postgrado / Máster / Doctorado",
          "Postgrado / Máster / Doctorado",
          "Postgrado / Máster / Doctorado",
          "Universidad / Grado",
          "Postgrado / Máster / Doctorado",
          "Secundaria / Bachillerato",
          "Postgrado / Máster / Doctorado",
          "Universidad / Grado",
          "Postgrado / Máster / Doctorado",
          "Postgrado / Máster / Doctorado",
          "Postgrado / Máster / Doctorado",
          "Universidad / Grado",
          "Postgrado / Máster / Doctorado",
          "Universidad / Grado",
          "Postgrado / Máster / Doctorado",
          "Postgrado / Máster / Doctorado",
          "Postgrado / Máster / Doctorado",
          "Universidad / Grado",
          null,
          "Universidad / Grado",
          "Postgrado / Máster / Doctorado",
          "Postgrado / Máster / Doctorado",
          "Postgrado / Máster / Doctorado",
          "Postgrado / Máster / Doctorado",
          "Postgrado / Máster / Doctorado",
          "Universidad / Grado",
          "Postgrado / Máster / Doctorado",
          "Postgrado / Máster / Doctorado",
          "Secundaria / Bachillerato",
          "Postgrado / Máster / Doctorado",
          "Secundaria / Bachillerato",
          "Postgrado / Máster / Doctorado",
          "Postgrado / Máster / Doctorado",
          "Postgrado / Máster / Doctorado",
          "Postgrado / Máster / Doctorado",
          "Postgrado / Máster / Doctorado",
          "Primaria",
          "Postgrado / Máster / Doctorado",
          "Postgrado / Máster / Doctorado",
          "Primaria",
          "Postgrado / Máster / Doctorado",
          "Postgrado / Máster / Doctorado",
          "Postgrado / Máster / Doctorado",
          "Postgrado / Máster / Doctorado",
          "Postgrado / Máster / Doctorado",
          "Postgrado / Máster / Doctorado",
          "Postgrado / Máster / Doctorado",
          "Postgrado / Máster / Doctorado",
          "Primaria",
          "Universidad / Grado",
          "Postgrado / Máster / Doctorado",
          "Universidad / Grado",
          "Postgrado / Máster / Doctorado",
          "Postgrado / Máster / Doctorado",
          null,
          "Universidad / Grado",
          "Universidad / Grado",
          "Universidad / Grado",
          "Postgrado / Máster / Doctorado",
          "Universidad / Grado",
          "Universidad / Grado",
          "Universidad / Grado",
          "Postgrado / Máster / Doctorado",
          "Postgrado / Máster / Doctorado",
          "Universidad / Grado",
          "Secundaria / Bachillerato",
          "Secundaria / Bachillerato",
          "Postgrado / Máster / Doctorado",
          "Universidad / Grado",
          "Postgrado / Máster / Doctorado",
          null,
          "Universidad / Grado",
          "Sin estudios",
          "Universidad / Grado",
          "Postgrado / Máster / Doctorado",
          "Secundaria / Bachillerato",
          "Postgrado / Máster / Doctorado",
          "Postgrado / Máster / Doctorado",
          "Postgrado / Máster / Doctorado",
          "Universidad / Grado",
          "Postgrado / Máster / Doctorado",
          "Primaria",
          "Postgrado / Máster / Doctorado",
          "Postgrado / Máster / Doctorado",
          "Postgrado / Máster / Doctorado",
          "Postgrado / Máster / Doctorado",
          "Postgrado / Máster / Doctorado",
          "Postgrado / Máster / Doctorado",
          "Postgrado / Máster / Doctorado",
          "Sin estudios",
          null,
          "Postgrado / Máster / Doctorado",
          "Postgrado / Máster / Doctorado",
          "Postgrado / Máster / Doctorado",
          "Postgrado / Máster / Doctorado",
          "Postgrado / Máster / Doctorado",
          "Postgrado / Máster / Doctorado",
          "Universidad / Grado",
          "Universidad / Grado",
          "Universidad / Grado",
          "Universidad / Grado",
          "Postgrado / Máster / Doctorado",
          "Universidad / Grado",
          "Postgrado / Máster / Doctorado",
          "Secundaria / Bachillerato",
          "Postgrado / Máster / Doctorado",
          "Postgrado / Máster / Doctorado",
          "Universidad / Grado",
          "Postgrado / Máster / Doctorado",
          "Postgrado / Máster / Doctorado",
          "Universidad / Grado",
          "Postgrado / Máster / Doctorado",
          "Postgrado / Máster / Doctorado",
          "Postgrado / Máster / Doctorado",
          "Universidad / Grado",
          "Postgrado / Máster / Doctorado",
          "Secundaria / Bachillerato",
          "Primaria",
          null,
          "Postgrado / Máster / Doctorado",
          "Postgrado / Máster / Doctorado",
          "Postgrado / Máster / Doctorado",
          "Postgrado / Máster / Doctorado",
          "Universidad / Grado",
          "Universidad / Grado",
          "Postgrado / Máster / Doctorado",
          "Secundaria / Bachillerato",
          "Universidad / Grado",
          "Universidad / Grado",
          "Postgrado / Máster / Doctorado",
          "Postgrado / Máster / Doctorado",
          "Postgrado / Máster / Doctorado",
          "Postgrado / Máster / Doctorado",
          "Secundaria / Bachillerato",
          "Postgrado / Máster / Doctorado",
          "Postgrado / Máster / Doctorado",
          "Universidad / Grado",
          "Secundaria / Bachillerato",
          "Postgrado / Máster / Doctorado",
          "Postgrado / Máster / Doctorado",
          "Sin estudios",
          "Postgrado / Máster / Doctorado",
          "Postgrado / Máster / Doctorado",
          "Postgrado / Máster / Doctorado",
          "Postgrado / Máster / Doctorado",
          "Secundaria / Bachillerato",
          "Universidad / Grado",
          "Postgrado / Máster / Doctorado",
          "Postgrado / Máster / Doctorado",
          "Universidad / Grado",
          "Universidad / Grado",
          "Postgrado / Máster / Doctorado",
          "Postgrado / Máster / Doctorado",
          "Universidad / Grado",
          "Universidad / Grado",
          "Postgrado / Máster / Doctorado",
          "Universidad / Grado",
          "Postgrado / Máster / Doctorado",
          "Postgrado / Máster / Doctorado",
          "Postgrado / Máster / Doctorado",
          "Universidad / Grado",
          "Universidad / Grado",
          "Universidad / Grado",
          "Postgrado / Máster / Doctorado",
          null,
          "Universidad / Grado",
          "Secundaria / Bachillerato",
          "Sin estudios",
          "Postgrado / Máster / Doctorado",
          "Secundaria / Bachillerato",
          "Postgrado / Máster / Doctorado",
          "Postgrado / Máster / Doctorado",
          "Universidad / Grado",
          "Postgrado / Máster / Doctorado",
          "Universidad / Grado",
          "Secundaria / Bachillerato",
          "Universidad / Grado",
          "Postgrado / Máster / Doctorado",
          "Universidad / Grado",
          "Postgrado / Máster / Doctorado",
          "Secundaria / Bachillerato",
          "Postgrado / Máster / Doctorado",
          "Universidad / Grado",
          "Secundaria / Bachillerato",
          "Universidad / Grado",
          "Postgrado / Máster / Doctorado",
          "Postgrado / Máster / Doctorado",
          "Postgrado / Máster / Doctorado",
          "Postgrado / Máster / Doctorado",
          "Postgrado / Máster / Doctorado",
          "Postgrado / Máster / Doctorado",
          "Universidad / Grado",
          "Postgrado / Máster / Doctorado",
          "Postgrado / Máster / Doctorado",
          "Postgrado / Máster / Doctorado",
          "Universidad / Grado",
          "Universidad / Grado",
          "Postgrado / Máster / Doctorado",
          "Postgrado / Máster / Doctorado",
          "Universidad / Grado",
          "Secundaria / Bachillerato",
          "Universidad / Grado",
          "Universidad / Grado",
          "Primaria",
          "Universidad / Grado",
          "Universidad / Grado",
          "Postgrado / Máster / Doctorado",
          "Postgrado / Máster / Doctorado",
          "Secundaria / Bachillerato",
          "Primaria",
          "Secundaria / Bachillerato",
          "Universidad / Grado",
          "Universidad / Grado",
          "Secundaria / Bachillerato",
          "Universidad / Grado",
          "Secundaria / Bachillerato",
          "Universidad / Grado",
          "Postgrado / Máster / Doctorado",
          "Postgrado / Máster / Doctorado",
          "Postgrado / Máster / Doctorado",
          "Postgrado / Máster / Doctorado",
          "Universidad / Grado",
          "Universidad / Grado",
          "Postgrado / Máster / Doctorado",
          "Universidad / Grado",
          "Postgrado / Máster / Doctorado",
          "Postgrado / Máster / Doctorado",
          "Postgrado / Máster / Doctorado",
          "Universidad / Grado",
          "Postgrado / Máster / Doctorado",
          "Postgrado / Máster / Doctorado",
          "Primaria",
          "Postgrado / Máster / Doctorado",
          "Postgrado / Máster / Doctorado",
          "Postgrado / Máster / Doctorado",
          "Secundaria / Bachillerato",
          "Postgrado / Máster / Doctorado",
          "Universidad / Grado",
          "Primaria",
          "Postgrado / Máster / Doctorado",
          "Postgrado / Máster / Doctorado",
          "Postgrado / Máster / Doctorado",
          "Universidad / Grado",
          "Postgrado / Máster / Doctorado",
          "Universidad / Grado",
          "Secundaria / Bachillerato",
          "Postgrado / Máster / Doctorado",
          "Universidad / Grado",
          "Postgrado / Máster / Doctorado",
          "Universidad / Grado",
          "Universidad / Grado",
          "Postgrado / Máster / Doctorado",
          "Postgrado / Máster / Doctorado",
          "Primaria",
          "Postgrado / Máster / Doctorado",
          "Postgrado / Máster / Doctorado",
          "Postgrado / Máster / Doctorado",
          "Postgrado / Máster / Doctorado",
          "Primaria",
          "Secundaria / Bachillerato",
          "Secundaria / Bachillerato",
          "Postgrado / Máster / Doctorado",
          "Universidad / Grado",
          "Postgrado / Máster / Doctorado",
          "Postgrado / Máster / Doctorado",
          "Universidad / Grado",
          "Universidad / Grado",
          "Universidad / Grado",
          "Postgrado / Máster / Doctorado",
          "Postgrado / Máster / Doctorado",
          "Postgrado / Máster / Doctorado",
          "Postgrado / Máster / Doctorado",
          "Universidad / Grado",
          "Postgrado / Máster / Doctorado",
          "Postgrado / Máster / Doctorado",
          "Postgrado / Máster / Doctorado",
          "Postgrado / Máster / Doctorado",
          "Postgrado / Máster / Doctorado",
          "Postgrado / Máster / Doctorado",
          "Postgrado / Máster / Doctorado",
          "Universidad / Grado",
          "Postgrado / Máster / Doctorado",
          "Secundaria / Bachillerato",
          "Postgrado / Máster / Doctorado",
          "Postgrado / Máster / Doctorado",
          "Postgrado / Máster / Doctorado",
          "Universidad / Grado",
          "Postgrado / Máster / Doctorado",
          "Postgrado / Máster / Doctorado",
          "Secundaria / Bachillerato",
          "Universidad / Grado",
          "Postgrado / Máster / Doctorado",
          "Postgrado / Máster / Doctorado",
          "Universidad / Grado",
          "Universidad / Grado",
          "Universidad / Grado",
          "Postgrado / Máster / Doctorado",
          "Postgrado / Máster / Doctorado",
          "Primaria",
          "Postgrado / Máster / Doctorado",
          "Postgrado / Máster / Doctorado",
          "Secundaria / Bachillerato",
          "Postgrado / Máster / Doctorado",
          "Postgrado / Máster / Doctorado",
          "Universidad / Grado",
          "Postgrado / Máster / Doctorado",
          "Secundaria / Bachillerato",
          "Universidad / Grado",
          "Universidad / Grado",
          "Postgrado / Máster / Doctorado",
          "Postgrado / Máster / Doctorado",
          "Postgrado / Máster / Doctorado"
         ],
         "xaxis": "x",
         "yaxis": "y"
        }
       ],
       "layout": {
        "barmode": "group",
        "height": 700,
        "legend": {
         "orientation": "h",
         "title": {
          "text": "Estado del Préstamo"
         },
         "tracegroupgap": 0,
         "x": 1,
         "xanchor": "right",
         "y": 1.02,
         "yanchor": "bottom"
        },
        "template": {
         "data": {
          "bar": [
           {
            "error_x": {
             "color": "#2a3f5f"
            },
            "error_y": {
             "color": "#2a3f5f"
            },
            "marker": {
             "line": {
              "color": "#E5ECF6",
              "width": 0.5
             },
             "pattern": {
              "fillmode": "overlay",
              "size": 10,
              "solidity": 0.2
             }
            },
            "type": "bar"
           }
          ],
          "barpolar": [
           {
            "marker": {
             "line": {
              "color": "#E5ECF6",
              "width": 0.5
             },
             "pattern": {
              "fillmode": "overlay",
              "size": 10,
              "solidity": 0.2
             }
            },
            "type": "barpolar"
           }
          ],
          "carpet": [
           {
            "aaxis": {
             "endlinecolor": "#2a3f5f",
             "gridcolor": "white",
             "linecolor": "white",
             "minorgridcolor": "white",
             "startlinecolor": "#2a3f5f"
            },
            "baxis": {
             "endlinecolor": "#2a3f5f",
             "gridcolor": "white",
             "linecolor": "white",
             "minorgridcolor": "white",
             "startlinecolor": "#2a3f5f"
            },
            "type": "carpet"
           }
          ],
          "choropleth": [
           {
            "colorbar": {
             "outlinewidth": 0,
             "ticks": ""
            },
            "type": "choropleth"
           }
          ],
          "contour": [
           {
            "colorbar": {
             "outlinewidth": 0,
             "ticks": ""
            },
            "colorscale": [
             [
              0,
              "#0d0887"
             ],
             [
              0.1111111111111111,
              "#46039f"
             ],
             [
              0.2222222222222222,
              "#7201a8"
             ],
             [
              0.3333333333333333,
              "#9c179e"
             ],
             [
              0.4444444444444444,
              "#bd3786"
             ],
             [
              0.5555555555555556,
              "#d8576b"
             ],
             [
              0.6666666666666666,
              "#ed7953"
             ],
             [
              0.7777777777777778,
              "#fb9f3a"
             ],
             [
              0.8888888888888888,
              "#fdca26"
             ],
             [
              1,
              "#f0f921"
             ]
            ],
            "type": "contour"
           }
          ],
          "contourcarpet": [
           {
            "colorbar": {
             "outlinewidth": 0,
             "ticks": ""
            },
            "type": "contourcarpet"
           }
          ],
          "heatmap": [
           {
            "colorbar": {
             "outlinewidth": 0,
             "ticks": ""
            },
            "colorscale": [
             [
              0,
              "#0d0887"
             ],
             [
              0.1111111111111111,
              "#46039f"
             ],
             [
              0.2222222222222222,
              "#7201a8"
             ],
             [
              0.3333333333333333,
              "#9c179e"
             ],
             [
              0.4444444444444444,
              "#bd3786"
             ],
             [
              0.5555555555555556,
              "#d8576b"
             ],
             [
              0.6666666666666666,
              "#ed7953"
             ],
             [
              0.7777777777777778,
              "#fb9f3a"
             ],
             [
              0.8888888888888888,
              "#fdca26"
             ],
             [
              1,
              "#f0f921"
             ]
            ],
            "type": "heatmap"
           }
          ],
          "histogram": [
           {
            "marker": {
             "pattern": {
              "fillmode": "overlay",
              "size": 10,
              "solidity": 0.2
             }
            },
            "type": "histogram"
           }
          ],
          "histogram2d": [
           {
            "colorbar": {
             "outlinewidth": 0,
             "ticks": ""
            },
            "colorscale": [
             [
              0,
              "#0d0887"
             ],
             [
              0.1111111111111111,
              "#46039f"
             ],
             [
              0.2222222222222222,
              "#7201a8"
             ],
             [
              0.3333333333333333,
              "#9c179e"
             ],
             [
              0.4444444444444444,
              "#bd3786"
             ],
             [
              0.5555555555555556,
              "#d8576b"
             ],
             [
              0.6666666666666666,
              "#ed7953"
             ],
             [
              0.7777777777777778,
              "#fb9f3a"
             ],
             [
              0.8888888888888888,
              "#fdca26"
             ],
             [
              1,
              "#f0f921"
             ]
            ],
            "type": "histogram2d"
           }
          ],
          "histogram2dcontour": [
           {
            "colorbar": {
             "outlinewidth": 0,
             "ticks": ""
            },
            "colorscale": [
             [
              0,
              "#0d0887"
             ],
             [
              0.1111111111111111,
              "#46039f"
             ],
             [
              0.2222222222222222,
              "#7201a8"
             ],
             [
              0.3333333333333333,
              "#9c179e"
             ],
             [
              0.4444444444444444,
              "#bd3786"
             ],
             [
              0.5555555555555556,
              "#d8576b"
             ],
             [
              0.6666666666666666,
              "#ed7953"
             ],
             [
              0.7777777777777778,
              "#fb9f3a"
             ],
             [
              0.8888888888888888,
              "#fdca26"
             ],
             [
              1,
              "#f0f921"
             ]
            ],
            "type": "histogram2dcontour"
           }
          ],
          "mesh3d": [
           {
            "colorbar": {
             "outlinewidth": 0,
             "ticks": ""
            },
            "type": "mesh3d"
           }
          ],
          "parcoords": [
           {
            "line": {
             "colorbar": {
              "outlinewidth": 0,
              "ticks": ""
             }
            },
            "type": "parcoords"
           }
          ],
          "pie": [
           {
            "automargin": true,
            "type": "pie"
           }
          ],
          "scatter": [
           {
            "fillpattern": {
             "fillmode": "overlay",
             "size": 10,
             "solidity": 0.2
            },
            "type": "scatter"
           }
          ],
          "scatter3d": [
           {
            "line": {
             "colorbar": {
              "outlinewidth": 0,
              "ticks": ""
             }
            },
            "marker": {
             "colorbar": {
              "outlinewidth": 0,
              "ticks": ""
             }
            },
            "type": "scatter3d"
           }
          ],
          "scattercarpet": [
           {
            "marker": {
             "colorbar": {
              "outlinewidth": 0,
              "ticks": ""
             }
            },
            "type": "scattercarpet"
           }
          ],
          "scattergeo": [
           {
            "marker": {
             "colorbar": {
              "outlinewidth": 0,
              "ticks": ""
             }
            },
            "type": "scattergeo"
           }
          ],
          "scattergl": [
           {
            "marker": {
             "colorbar": {
              "outlinewidth": 0,
              "ticks": ""
             }
            },
            "type": "scattergl"
           }
          ],
          "scattermap": [
           {
            "marker": {
             "colorbar": {
              "outlinewidth": 0,
              "ticks": ""
             }
            },
            "type": "scattermap"
           }
          ],
          "scattermapbox": [
           {
            "marker": {
             "colorbar": {
              "outlinewidth": 0,
              "ticks": ""
             }
            },
            "type": "scattermapbox"
           }
          ],
          "scatterpolar": [
           {
            "marker": {
             "colorbar": {
              "outlinewidth": 0,
              "ticks": ""
             }
            },
            "type": "scatterpolar"
           }
          ],
          "scatterpolargl": [
           {
            "marker": {
             "colorbar": {
              "outlinewidth": 0,
              "ticks": ""
             }
            },
            "type": "scatterpolargl"
           }
          ],
          "scatterternary": [
           {
            "marker": {
             "colorbar": {
              "outlinewidth": 0,
              "ticks": ""
             }
            },
            "type": "scatterternary"
           }
          ],
          "surface": [
           {
            "colorbar": {
             "outlinewidth": 0,
             "ticks": ""
            },
            "colorscale": [
             [
              0,
              "#0d0887"
             ],
             [
              0.1111111111111111,
              "#46039f"
             ],
             [
              0.2222222222222222,
              "#7201a8"
             ],
             [
              0.3333333333333333,
              "#9c179e"
             ],
             [
              0.4444444444444444,
              "#bd3786"
             ],
             [
              0.5555555555555556,
              "#d8576b"
             ],
             [
              0.6666666666666666,
              "#ed7953"
             ],
             [
              0.7777777777777778,
              "#fb9f3a"
             ],
             [
              0.8888888888888888,
              "#fdca26"
             ],
             [
              1,
              "#f0f921"
             ]
            ],
            "type": "surface"
           }
          ],
          "table": [
           {
            "cells": {
             "fill": {
              "color": "#EBF0F8"
             },
             "line": {
              "color": "white"
             }
            },
            "header": {
             "fill": {
              "color": "#C8D4E3"
             },
             "line": {
              "color": "white"
             }
            },
            "type": "table"
           }
          ]
         },
         "layout": {
          "annotationdefaults": {
           "arrowcolor": "#2a3f5f",
           "arrowhead": 0,
           "arrowwidth": 1
          },
          "autotypenumbers": "strict",
          "coloraxis": {
           "colorbar": {
            "outlinewidth": 0,
            "ticks": ""
           }
          },
          "colorscale": {
           "diverging": [
            [
             0,
             "#8e0152"
            ],
            [
             0.1,
             "#c51b7d"
            ],
            [
             0.2,
             "#de77ae"
            ],
            [
             0.3,
             "#f1b6da"
            ],
            [
             0.4,
             "#fde0ef"
            ],
            [
             0.5,
             "#f7f7f7"
            ],
            [
             0.6,
             "#e6f5d0"
            ],
            [
             0.7,
             "#b8e186"
            ],
            [
             0.8,
             "#7fbc41"
            ],
            [
             0.9,
             "#4d9221"
            ],
            [
             1,
             "#276419"
            ]
           ],
           "sequential": [
            [
             0,
             "#0d0887"
            ],
            [
             0.1111111111111111,
             "#46039f"
            ],
            [
             0.2222222222222222,
             "#7201a8"
            ],
            [
             0.3333333333333333,
             "#9c179e"
            ],
            [
             0.4444444444444444,
             "#bd3786"
            ],
            [
             0.5555555555555556,
             "#d8576b"
            ],
            [
             0.6666666666666666,
             "#ed7953"
            ],
            [
             0.7777777777777778,
             "#fb9f3a"
            ],
            [
             0.8888888888888888,
             "#fdca26"
            ],
            [
             1,
             "#f0f921"
            ]
           ],
           "sequentialminus": [
            [
             0,
             "#0d0887"
            ],
            [
             0.1111111111111111,
             "#46039f"
            ],
            [
             0.2222222222222222,
             "#7201a8"
            ],
            [
             0.3333333333333333,
             "#9c179e"
            ],
            [
             0.4444444444444444,
             "#bd3786"
            ],
            [
             0.5555555555555556,
             "#d8576b"
            ],
            [
             0.6666666666666666,
             "#ed7953"
            ],
            [
             0.7777777777777778,
             "#fb9f3a"
            ],
            [
             0.8888888888888888,
             "#fdca26"
            ],
            [
             1,
             "#f0f921"
            ]
           ]
          },
          "colorway": [
           "#636efa",
           "#EF553B",
           "#00cc96",
           "#ab63fa",
           "#FFA15A",
           "#19d3f3",
           "#FF6692",
           "#B6E880",
           "#FF97FF",
           "#FECB52"
          ],
          "font": {
           "color": "#2a3f5f"
          },
          "geo": {
           "bgcolor": "white",
           "lakecolor": "white",
           "landcolor": "#E5ECF6",
           "showlakes": true,
           "showland": true,
           "subunitcolor": "white"
          },
          "hoverlabel": {
           "align": "left"
          },
          "hovermode": "closest",
          "mapbox": {
           "style": "light"
          },
          "paper_bgcolor": "white",
          "plot_bgcolor": "#E5ECF6",
          "polar": {
           "angularaxis": {
            "gridcolor": "white",
            "linecolor": "white",
            "ticks": ""
           },
           "bgcolor": "#E5ECF6",
           "radialaxis": {
            "gridcolor": "white",
            "linecolor": "white",
            "ticks": ""
           }
          },
          "scene": {
           "xaxis": {
            "backgroundcolor": "#E5ECF6",
            "gridcolor": "white",
            "gridwidth": 2,
            "linecolor": "white",
            "showbackground": true,
            "ticks": "",
            "zerolinecolor": "white"
           },
           "yaxis": {
            "backgroundcolor": "#E5ECF6",
            "gridcolor": "white",
            "gridwidth": 2,
            "linecolor": "white",
            "showbackground": true,
            "ticks": "",
            "zerolinecolor": "white"
           },
           "zaxis": {
            "backgroundcolor": "#E5ECF6",
            "gridcolor": "white",
            "gridwidth": 2,
            "linecolor": "white",
            "showbackground": true,
            "ticks": "",
            "zerolinecolor": "white"
           }
          },
          "shapedefaults": {
           "line": {
            "color": "#2a3f5f"
           }
          },
          "ternary": {
           "aaxis": {
            "gridcolor": "white",
            "linecolor": "white",
            "ticks": ""
           },
           "baxis": {
            "gridcolor": "white",
            "linecolor": "white",
            "ticks": ""
           },
           "bgcolor": "#E5ECF6",
           "caxis": {
            "gridcolor": "white",
            "linecolor": "white",
            "ticks": ""
           }
          },
          "title": {
           "x": 0.05
          },
          "xaxis": {
           "automargin": true,
           "gridcolor": "white",
           "linecolor": "white",
           "ticks": "",
           "title": {
            "standoff": 15
           },
           "zerolinecolor": "white",
           "zerolinewidth": 2
          },
          "yaxis": {
           "automargin": true,
           "gridcolor": "white",
           "linecolor": "white",
           "ticks": "",
           "title": {
            "standoff": 15
           },
           "zerolinecolor": "white",
           "zerolinewidth": 2
          }
         }
        },
        "title": {
         "text": "Distribución por Nivel Educativo"
        },
        "width": 900,
        "xaxis": {
         "anchor": "y",
         "domain": [
          0,
          1
         ],
         "title": {
          "text": "Nivel Educativo"
         }
        },
        "yaxis": {
         "anchor": "x",
         "domain": [
          0,
          1
         ],
         "title": {
          "text": "count"
         }
        }
       }
      }
     },
     "metadata": {},
     "output_type": "display_data"
    },
    {
     "data": {
      "application/vnd.plotly.v1+json": {
       "config": {
        "plotlyServerURL": "https://plot.ly"
       },
       "data": [
        {
         "alignmentgroup": "True",
         "bingroup": "x",
         "hovertemplate": "Estado del Préstamo=No Aprobado<br>Empleo=%{x}<br>count=%{y}<extra></extra>",
         "legendgroup": "No Aprobado",
         "marker": {
          "color": "red",
          "pattern": {
           "shape": ""
          }
         },
         "name": "No Aprobado",
         "offsetgroup": "No Aprobado",
         "orientation": "v",
         "showlegend": true,
         "type": "histogram",
         "x": {
          "bdata": "EQIDCQ0BAQAAAhABDQsCCAEEBQABAAIECQABAwYCBwQACQ0JCQIBDQQBAg4ECgEBBggFBQcABQkDAgYNCQkBAgALDwIKBB0TAgQDAAUZAwIGBAUAEgcCAAAODQIJAgUJAgAAAQsBAAIMAAMSAwIBABACBwADAgUCCgANAAwDBAAGAwEOBAYBAgUDBAQMAAACBw4FAAMJCBAAAwoAAgEFAwMBBAMABgMfAQAHAAYCAAAGBwQHCgAG",
          "dtype": "i1"
         },
         "xaxis": "x",
         "yaxis": "y"
        },
        {
         "alignmentgroup": "True",
         "bingroup": "x",
         "hovertemplate": "Estado del Préstamo=Aprobado<br>Empleo=%{x}<br>count=%{y}<extra></extra>",
         "legendgroup": "Aprobado",
         "marker": {
          "color": "green",
          "pattern": {
           "shape": ""
          }
         },
         "name": "Aprobado",
         "offsetgroup": "Aprobado",
         "orientation": "v",
         "showlegend": true,
         "type": "histogram",
         "x": {
          "bdata": "Cg8PBRQMAAAEGAYWFwYAEQMIABkMAgMBAggIBgoMFwcRBxMADQQSAQMDCRASCgkEBAUTAwUaAQ0NAgEODwsHBAQKBQwDBRENDgQWBggVFggEDAkCBgAMEAQJDwwFBwkFEwEFEhEHBgENCBALEAUBAgsIDwQIAw0MCQQFCAQOEAcEDgYGAQcNDAgQCgANCwETAQ0ECQgDAwAHEQcGDgYQARAMDhULABEFCgUABwkIBQsHBAsECgcVAwwPBQ8KFg0BBRMSAhAKDwgICQcAAhMWBAYQBg4NCAEJCQsQCwMJEwQKAwAUBhYGBQkLEAoEEgYBBBAABAgQDAIBCAEAEAsHFAYEDxIDCgMCCAEKBgkADQ4GAgMFEhIWDQcIFAEHAQ8KDAMDBw8HDRYCBQ4LAAAEBRIQDAANChUWDggBBBMQAwgIABAVCwkJAQASCBAWChcLBQcZBgsAAAkEAQoICQkABAYGDAENDAUbFQkFBgQPDQwMAAYDAhMJARMDDQYGCxYABwkHBQQRAgYKAx8JAg8JEhAKDA0KCQoMERUIBw0PCgkXCwwJEgEXABYDBgIICQkIEQkHBwoCBBgLCRsDBwcJEQoUBwECHhIGDwsDAgYHEgwYBgcBEAYFHAsGCwUEDAsPDBAEDAIGCw8YFQAHCgMABgQeCAkRAQESAQwEAB8ABgYPEww=",
          "dtype": "i1"
         },
         "xaxis": "x",
         "yaxis": "y"
        }
       ],
       "layout": {
        "barmode": "group",
        "height": 700,
        "legend": {
         "orientation": "h",
         "title": {
          "text": "Estado del Préstamo"
         },
         "tracegroupgap": 0,
         "x": 1,
         "xanchor": "right",
         "y": 1.02,
         "yanchor": "bottom"
        },
        "template": {
         "data": {
          "bar": [
           {
            "error_x": {
             "color": "#2a3f5f"
            },
            "error_y": {
             "color": "#2a3f5f"
            },
            "marker": {
             "line": {
              "color": "#E5ECF6",
              "width": 0.5
             },
             "pattern": {
              "fillmode": "overlay",
              "size": 10,
              "solidity": 0.2
             }
            },
            "type": "bar"
           }
          ],
          "barpolar": [
           {
            "marker": {
             "line": {
              "color": "#E5ECF6",
              "width": 0.5
             },
             "pattern": {
              "fillmode": "overlay",
              "size": 10,
              "solidity": 0.2
             }
            },
            "type": "barpolar"
           }
          ],
          "carpet": [
           {
            "aaxis": {
             "endlinecolor": "#2a3f5f",
             "gridcolor": "white",
             "linecolor": "white",
             "minorgridcolor": "white",
             "startlinecolor": "#2a3f5f"
            },
            "baxis": {
             "endlinecolor": "#2a3f5f",
             "gridcolor": "white",
             "linecolor": "white",
             "minorgridcolor": "white",
             "startlinecolor": "#2a3f5f"
            },
            "type": "carpet"
           }
          ],
          "choropleth": [
           {
            "colorbar": {
             "outlinewidth": 0,
             "ticks": ""
            },
            "type": "choropleth"
           }
          ],
          "contour": [
           {
            "colorbar": {
             "outlinewidth": 0,
             "ticks": ""
            },
            "colorscale": [
             [
              0,
              "#0d0887"
             ],
             [
              0.1111111111111111,
              "#46039f"
             ],
             [
              0.2222222222222222,
              "#7201a8"
             ],
             [
              0.3333333333333333,
              "#9c179e"
             ],
             [
              0.4444444444444444,
              "#bd3786"
             ],
             [
              0.5555555555555556,
              "#d8576b"
             ],
             [
              0.6666666666666666,
              "#ed7953"
             ],
             [
              0.7777777777777778,
              "#fb9f3a"
             ],
             [
              0.8888888888888888,
              "#fdca26"
             ],
             [
              1,
              "#f0f921"
             ]
            ],
            "type": "contour"
           }
          ],
          "contourcarpet": [
           {
            "colorbar": {
             "outlinewidth": 0,
             "ticks": ""
            },
            "type": "contourcarpet"
           }
          ],
          "heatmap": [
           {
            "colorbar": {
             "outlinewidth": 0,
             "ticks": ""
            },
            "colorscale": [
             [
              0,
              "#0d0887"
             ],
             [
              0.1111111111111111,
              "#46039f"
             ],
             [
              0.2222222222222222,
              "#7201a8"
             ],
             [
              0.3333333333333333,
              "#9c179e"
             ],
             [
              0.4444444444444444,
              "#bd3786"
             ],
             [
              0.5555555555555556,
              "#d8576b"
             ],
             [
              0.6666666666666666,
              "#ed7953"
             ],
             [
              0.7777777777777778,
              "#fb9f3a"
             ],
             [
              0.8888888888888888,
              "#fdca26"
             ],
             [
              1,
              "#f0f921"
             ]
            ],
            "type": "heatmap"
           }
          ],
          "histogram": [
           {
            "marker": {
             "pattern": {
              "fillmode": "overlay",
              "size": 10,
              "solidity": 0.2
             }
            },
            "type": "histogram"
           }
          ],
          "histogram2d": [
           {
            "colorbar": {
             "outlinewidth": 0,
             "ticks": ""
            },
            "colorscale": [
             [
              0,
              "#0d0887"
             ],
             [
              0.1111111111111111,
              "#46039f"
             ],
             [
              0.2222222222222222,
              "#7201a8"
             ],
             [
              0.3333333333333333,
              "#9c179e"
             ],
             [
              0.4444444444444444,
              "#bd3786"
             ],
             [
              0.5555555555555556,
              "#d8576b"
             ],
             [
              0.6666666666666666,
              "#ed7953"
             ],
             [
              0.7777777777777778,
              "#fb9f3a"
             ],
             [
              0.8888888888888888,
              "#fdca26"
             ],
             [
              1,
              "#f0f921"
             ]
            ],
            "type": "histogram2d"
           }
          ],
          "histogram2dcontour": [
           {
            "colorbar": {
             "outlinewidth": 0,
             "ticks": ""
            },
            "colorscale": [
             [
              0,
              "#0d0887"
             ],
             [
              0.1111111111111111,
              "#46039f"
             ],
             [
              0.2222222222222222,
              "#7201a8"
             ],
             [
              0.3333333333333333,
              "#9c179e"
             ],
             [
              0.4444444444444444,
              "#bd3786"
             ],
             [
              0.5555555555555556,
              "#d8576b"
             ],
             [
              0.6666666666666666,
              "#ed7953"
             ],
             [
              0.7777777777777778,
              "#fb9f3a"
             ],
             [
              0.8888888888888888,
              "#fdca26"
             ],
             [
              1,
              "#f0f921"
             ]
            ],
            "type": "histogram2dcontour"
           }
          ],
          "mesh3d": [
           {
            "colorbar": {
             "outlinewidth": 0,
             "ticks": ""
            },
            "type": "mesh3d"
           }
          ],
          "parcoords": [
           {
            "line": {
             "colorbar": {
              "outlinewidth": 0,
              "ticks": ""
             }
            },
            "type": "parcoords"
           }
          ],
          "pie": [
           {
            "automargin": true,
            "type": "pie"
           }
          ],
          "scatter": [
           {
            "fillpattern": {
             "fillmode": "overlay",
             "size": 10,
             "solidity": 0.2
            },
            "type": "scatter"
           }
          ],
          "scatter3d": [
           {
            "line": {
             "colorbar": {
              "outlinewidth": 0,
              "ticks": ""
             }
            },
            "marker": {
             "colorbar": {
              "outlinewidth": 0,
              "ticks": ""
             }
            },
            "type": "scatter3d"
           }
          ],
          "scattercarpet": [
           {
            "marker": {
             "colorbar": {
              "outlinewidth": 0,
              "ticks": ""
             }
            },
            "type": "scattercarpet"
           }
          ],
          "scattergeo": [
           {
            "marker": {
             "colorbar": {
              "outlinewidth": 0,
              "ticks": ""
             }
            },
            "type": "scattergeo"
           }
          ],
          "scattergl": [
           {
            "marker": {
             "colorbar": {
              "outlinewidth": 0,
              "ticks": ""
             }
            },
            "type": "scattergl"
           }
          ],
          "scattermap": [
           {
            "marker": {
             "colorbar": {
              "outlinewidth": 0,
              "ticks": ""
             }
            },
            "type": "scattermap"
           }
          ],
          "scattermapbox": [
           {
            "marker": {
             "colorbar": {
              "outlinewidth": 0,
              "ticks": ""
             }
            },
            "type": "scattermapbox"
           }
          ],
          "scatterpolar": [
           {
            "marker": {
             "colorbar": {
              "outlinewidth": 0,
              "ticks": ""
             }
            },
            "type": "scatterpolar"
           }
          ],
          "scatterpolargl": [
           {
            "marker": {
             "colorbar": {
              "outlinewidth": 0,
              "ticks": ""
             }
            },
            "type": "scatterpolargl"
           }
          ],
          "scatterternary": [
           {
            "marker": {
             "colorbar": {
              "outlinewidth": 0,
              "ticks": ""
             }
            },
            "type": "scatterternary"
           }
          ],
          "surface": [
           {
            "colorbar": {
             "outlinewidth": 0,
             "ticks": ""
            },
            "colorscale": [
             [
              0,
              "#0d0887"
             ],
             [
              0.1111111111111111,
              "#46039f"
             ],
             [
              0.2222222222222222,
              "#7201a8"
             ],
             [
              0.3333333333333333,
              "#9c179e"
             ],
             [
              0.4444444444444444,
              "#bd3786"
             ],
             [
              0.5555555555555556,
              "#d8576b"
             ],
             [
              0.6666666666666666,
              "#ed7953"
             ],
             [
              0.7777777777777778,
              "#fb9f3a"
             ],
             [
              0.8888888888888888,
              "#fdca26"
             ],
             [
              1,
              "#f0f921"
             ]
            ],
            "type": "surface"
           }
          ],
          "table": [
           {
            "cells": {
             "fill": {
              "color": "#EBF0F8"
             },
             "line": {
              "color": "white"
             }
            },
            "header": {
             "fill": {
              "color": "#C8D4E3"
             },
             "line": {
              "color": "white"
             }
            },
            "type": "table"
           }
          ]
         },
         "layout": {
          "annotationdefaults": {
           "arrowcolor": "#2a3f5f",
           "arrowhead": 0,
           "arrowwidth": 1
          },
          "autotypenumbers": "strict",
          "coloraxis": {
           "colorbar": {
            "outlinewidth": 0,
            "ticks": ""
           }
          },
          "colorscale": {
           "diverging": [
            [
             0,
             "#8e0152"
            ],
            [
             0.1,
             "#c51b7d"
            ],
            [
             0.2,
             "#de77ae"
            ],
            [
             0.3,
             "#f1b6da"
            ],
            [
             0.4,
             "#fde0ef"
            ],
            [
             0.5,
             "#f7f7f7"
            ],
            [
             0.6,
             "#e6f5d0"
            ],
            [
             0.7,
             "#b8e186"
            ],
            [
             0.8,
             "#7fbc41"
            ],
            [
             0.9,
             "#4d9221"
            ],
            [
             1,
             "#276419"
            ]
           ],
           "sequential": [
            [
             0,
             "#0d0887"
            ],
            [
             0.1111111111111111,
             "#46039f"
            ],
            [
             0.2222222222222222,
             "#7201a8"
            ],
            [
             0.3333333333333333,
             "#9c179e"
            ],
            [
             0.4444444444444444,
             "#bd3786"
            ],
            [
             0.5555555555555556,
             "#d8576b"
            ],
            [
             0.6666666666666666,
             "#ed7953"
            ],
            [
             0.7777777777777778,
             "#fb9f3a"
            ],
            [
             0.8888888888888888,
             "#fdca26"
            ],
            [
             1,
             "#f0f921"
            ]
           ],
           "sequentialminus": [
            [
             0,
             "#0d0887"
            ],
            [
             0.1111111111111111,
             "#46039f"
            ],
            [
             0.2222222222222222,
             "#7201a8"
            ],
            [
             0.3333333333333333,
             "#9c179e"
            ],
            [
             0.4444444444444444,
             "#bd3786"
            ],
            [
             0.5555555555555556,
             "#d8576b"
            ],
            [
             0.6666666666666666,
             "#ed7953"
            ],
            [
             0.7777777777777778,
             "#fb9f3a"
            ],
            [
             0.8888888888888888,
             "#fdca26"
            ],
            [
             1,
             "#f0f921"
            ]
           ]
          },
          "colorway": [
           "#636efa",
           "#EF553B",
           "#00cc96",
           "#ab63fa",
           "#FFA15A",
           "#19d3f3",
           "#FF6692",
           "#B6E880",
           "#FF97FF",
           "#FECB52"
          ],
          "font": {
           "color": "#2a3f5f"
          },
          "geo": {
           "bgcolor": "white",
           "lakecolor": "white",
           "landcolor": "#E5ECF6",
           "showlakes": true,
           "showland": true,
           "subunitcolor": "white"
          },
          "hoverlabel": {
           "align": "left"
          },
          "hovermode": "closest",
          "mapbox": {
           "style": "light"
          },
          "paper_bgcolor": "white",
          "plot_bgcolor": "#E5ECF6",
          "polar": {
           "angularaxis": {
            "gridcolor": "white",
            "linecolor": "white",
            "ticks": ""
           },
           "bgcolor": "#E5ECF6",
           "radialaxis": {
            "gridcolor": "white",
            "linecolor": "white",
            "ticks": ""
           }
          },
          "scene": {
           "xaxis": {
            "backgroundcolor": "#E5ECF6",
            "gridcolor": "white",
            "gridwidth": 2,
            "linecolor": "white",
            "showbackground": true,
            "ticks": "",
            "zerolinecolor": "white"
           },
           "yaxis": {
            "backgroundcolor": "#E5ECF6",
            "gridcolor": "white",
            "gridwidth": 2,
            "linecolor": "white",
            "showbackground": true,
            "ticks": "",
            "zerolinecolor": "white"
           },
           "zaxis": {
            "backgroundcolor": "#E5ECF6",
            "gridcolor": "white",
            "gridwidth": 2,
            "linecolor": "white",
            "showbackground": true,
            "ticks": "",
            "zerolinecolor": "white"
           }
          },
          "shapedefaults": {
           "line": {
            "color": "#2a3f5f"
           }
          },
          "ternary": {
           "aaxis": {
            "gridcolor": "white",
            "linecolor": "white",
            "ticks": ""
           },
           "baxis": {
            "gridcolor": "white",
            "linecolor": "white",
            "ticks": ""
           },
           "bgcolor": "#E5ECF6",
           "caxis": {
            "gridcolor": "white",
            "linecolor": "white",
            "ticks": ""
           }
          },
          "title": {
           "x": 0.05
          },
          "xaxis": {
           "automargin": true,
           "gridcolor": "white",
           "linecolor": "white",
           "ticks": "",
           "title": {
            "standoff": 15
           },
           "zerolinecolor": "white",
           "zerolinewidth": 2
          },
          "yaxis": {
           "automargin": true,
           "gridcolor": "white",
           "linecolor": "white",
           "ticks": "",
           "title": {
            "standoff": 15
           },
           "zerolinecolor": "white",
           "zerolinewidth": 2
          }
         }
        },
        "title": {
         "text": "Distribución por Empleo"
        },
        "width": 900,
        "xaxis": {
         "anchor": "y",
         "domain": [
          0,
          1
         ],
         "title": {
          "text": "Empleo"
         }
        },
        "yaxis": {
         "anchor": "x",
         "domain": [
          0,
          1
         ],
         "title": {
          "text": "count"
         }
        }
       }
      }
     },
     "metadata": {},
     "output_type": "display_data"
    }
   ],
   "source": [
    "def ab_testing(df):\n",
    "    print('=== A/B Testing===')\n",
    "    # Crear una copia para no modificar el original\n",
    "    df_plot = df_bank_loan.copy()\n",
    "    \n",
    "    #  Crear una columna de categorías para el gráfico de dispersión\n",
    "    df_plot['default_cat'] = df_plot['default'].map({0: 'Aprobado', 1: 'No Aprobado'})\n",
    "    \n",
    "    # dividir en grupos\n",
    "    default_0 = df_plot[df_plot['default'] == 0]\n",
    "    default_1 = df_plot[df_plot['default'] == 1]\n",
    "    \n",
    "    # test t para ingresos\n",
    "    t_statistic, p_value = stats.ttest_ind(default_0['income'], default_1['income'])\n",
    "    print(f'Test t para Ingresos: t-statistic={t_statistic}, p-value={p_value:.3f}')\n",
    "   \n",
    "   # test t para edad\n",
    "    t_statistic, p_value = stats.ttest_ind(default_0['age'], default_1['age'])\n",
    "    print(f'Test t para Edad: t-statistic={t_statistic}, p-value={p_value:.3f}')\n",
    "\n",
    "    # test t para empleo\n",
    "    t_statistic, p_value = stats.ttest_ind(default_0['employ'], default_1['employ'])\n",
    "    print(f'Test t para Empleo: t-statistic={t_statistic}, p-value={p_value:.3f}')\n",
    "\n",
    "    # test t para deuda\n",
    "    t_statistic, p_value = stats.ttest_ind(default_0['creddebt'], default_1['creddebt'])\n",
    "    print(f'Test t para Deuda: t-statistic={t_statistic}, p-value={p_value:.3f}')\n",
    "\n",
    "    # test t para otra deuda\n",
    "    t_statistic, p_value = stats.ttest_ind(default_0['othdebt'], default_1['othdebt'])\n",
    "    print(f'Test t para Otra Deuda: t-statistic={t_statistic}, p-value={p_value:.3f}')\n",
    "    \n",
    "    # chi-squared para educación\n",
    "    contingency_table = pd.crosstab(df_plot['ed'], df_plot['default'])  \n",
    "    chi2, p_value, dof, expected = chi2_contingency(contingency_table)\n",
    "    print(f'Chi-squared para Educación: chi2={chi2:.3f}, p-value={p_value:.3f}')\n",
    "    print(f'Grados de libertad: {dof}')\n",
    "    print(f'Valores esperados:\\n{expected}')\n",
    "    \n",
    "    # Distribución por niver educativo\n",
    "    fig= px.histogram(df_plot, x='ed_text', color='default_cat', barmode='group',\n",
    "                       title='Distribución por Nivel Educativo',\n",
    "                       labels={'default_cat': 'Estado del Préstamo', 'ed_text': 'Nivel Educativo'},\n",
    "                       color_discrete_sequence=['red','green'],\n",
    "                       width=900,\n",
    "                       height=700\n",
    "    )\n",
    "    fig.update_layout(\n",
    "        legend=dict(\n",
    "            orientation='h',\n",
    "            yanchor='bottom',\n",
    "            y=1.02,\n",
    "            xanchor='right',\n",
    "            x=1\n",
    "        )\n",
    "    )\n",
    "    fig.show()\n",
    "    \n",
    "    # distribución por empleo\n",
    "    fig = px.histogram(df_plot, x='employ', color='default_cat', barmode='group',\n",
    "                       title='Distribución por Empleo',\n",
    "                       labels={'default_cat': 'Estado del Préstamo', 'employ': 'Empleo'},\n",
    "                       color_discrete_sequence=['red','green'],\n",
    "                       width=900,\n",
    "                       height=700\n",
    "    )\n",
    "    fig.update_layout(\n",
    "        legend=dict(\n",
    "            orientation='h',\n",
    "            yanchor='bottom',\n",
    "            y=1.02,\n",
    "            xanchor='right',\n",
    "            x=1\n",
    "        )\n",
    "    )\n",
    "    fig.show()\n",
    "ab_testing(df_bank_loan) "
   ]
  },
  {
   "cell_type": "markdown",
   "id": "19f9ca1d",
   "metadata": {},
   "source": [
    "----- ANÁLISIS AVANZADO CON VISUALIZACIONES"
   ]
  },
  {
   "cell_type": "code",
   "execution_count": 137,
   "id": "74912594",
   "metadata": {},
   "outputs": [
    {
     "name": "stdout",
     "output_type": "stream",
     "text": [
      "=== Análisis Avanzado===\n",
      "Valores nulos en income: 37\n",
      "Valores nulos en ed_text: 20\n"
     ]
    },
    {
     "data": {
      "application/vnd.plotly.v1+json": {
       "config": {
        "plotlyServerURL": "https://plot.ly"
       },
       "data": [
        {
         "branchvalues": "total",
         "customdata": [
          [
           "(?)"
          ],
          [
           "(?)"
          ],
          [
           "(?)"
          ],
          [
           "(?)"
          ],
          [
           "(?)"
          ],
          [
           "Aprobado"
          ],
          [
           "Aprobado"
          ],
          [
           "Aprobado"
          ],
          [
           "Aprobado"
          ],
          [
           "Aprobado"
          ],
          [
           "No Aprobado"
          ],
          [
           "No Aprobado"
          ],
          [
           "No Aprobado"
          ],
          [
           "No Aprobado"
          ],
          [
           "No Aprobado"
          ]
         ],
         "domain": {
          "x": [
           0,
           1
          ],
          "y": [
           0,
           1
          ]
         },
         "hovertemplate": "labels=%{label}<br>income=%{value}<br>parent=%{parent}<br>id=%{id}<br>default_cat=%{customdata[0]}<extra></extra>",
         "ids": [
          "Secundaria / Bachillerato",
          "Postgrado / Máster / Doctorado",
          "Universidad / Grado",
          "Primaria",
          "Sin estudios",
          "Postgrado / Máster / Doctorado/Aprobado",
          "Universidad / Grado/Aprobado",
          "Secundaria / Bachillerato/Aprobado",
          "Primaria/Aprobado",
          "Sin estudios/Aprobado",
          "Secundaria / Bachillerato/No Aprobado",
          "Universidad / Grado/No Aprobado",
          "Postgrado / Máster / Doctorado/No Aprobado",
          "Primaria/No Aprobado",
          "Sin estudios/No Aprobado"
         ],
         "labels": [
          "Secundaria / Bachillerato",
          "Postgrado / Máster / Doctorado",
          "Universidad / Grado",
          "Primaria",
          "Sin estudios",
          "Aprobado",
          "Aprobado",
          "Aprobado",
          "Aprobado",
          "Aprobado",
          "No Aprobado",
          "No Aprobado",
          "No Aprobado",
          "No Aprobado",
          "No Aprobado"
         ],
         "marker": {
          "colors": [
           "#4E2D30",
           "#4E2D30",
           "#4E2D30",
           "#4E2D30",
           "#4E2D30",
           "#2E5C2E",
           "#2E5C2E",
           "#2E5C2E",
           "#2E5C2E",
           "#2E5C2E",
           "#4E2D30",
           "#4E2D30",
           "#4E2D30",
           "#4E2D30",
           "#4E2D30"
          ],
          "line": {
           "color": "DarkSlateGrey",
           "width": 2
          }
         },
         "name": "",
         "parents": [
          "",
          "",
          "",
          "",
          "",
          "Postgrado / Máster / Doctorado",
          "Universidad / Grado",
          "Secundaria / Bachillerato",
          "Primaria",
          "Sin estudios",
          "Secundaria / Bachillerato",
          "Universidad / Grado",
          "Postgrado / Máster / Doctorado",
          "Primaria",
          "Sin estudios"
         ],
         "textfont": {
          "color": "white",
          "size": 12
         },
         "textinfo": "label+value",
         "textposition": "middle center",
         "type": "treemap",
         "values": {
          "bdata": "AAAAhHG88UEAAAAKal8IQgAAAFIpgwBCAAAAMIgo30EAAADg71/BQQAAADZiCARCAAAABDpw+kEAAAAQo4vmQQAAAJBz5dFBAAAAQMKTvkEAAADwf9rZQQAAAIBiWNpBAAAAUB9c4UEAAABAKYbKQQAAAAB2sJBB",
          "dtype": "f8"
         }
        }
       ],
       "layout": {
        "height": 600,
        "legend": {
         "orientation": "h",
         "tracegroupgap": 0,
         "x": 1,
         "xanchor": "right",
         "y": 1.02,
         "yanchor": "bottom"
        },
        "template": {
         "data": {
          "bar": [
           {
            "error_x": {
             "color": "#2a3f5f"
            },
            "error_y": {
             "color": "#2a3f5f"
            },
            "marker": {
             "line": {
              "color": "#E5ECF6",
              "width": 0.5
             },
             "pattern": {
              "fillmode": "overlay",
              "size": 10,
              "solidity": 0.2
             }
            },
            "type": "bar"
           }
          ],
          "barpolar": [
           {
            "marker": {
             "line": {
              "color": "#E5ECF6",
              "width": 0.5
             },
             "pattern": {
              "fillmode": "overlay",
              "size": 10,
              "solidity": 0.2
             }
            },
            "type": "barpolar"
           }
          ],
          "carpet": [
           {
            "aaxis": {
             "endlinecolor": "#2a3f5f",
             "gridcolor": "white",
             "linecolor": "white",
             "minorgridcolor": "white",
             "startlinecolor": "#2a3f5f"
            },
            "baxis": {
             "endlinecolor": "#2a3f5f",
             "gridcolor": "white",
             "linecolor": "white",
             "minorgridcolor": "white",
             "startlinecolor": "#2a3f5f"
            },
            "type": "carpet"
           }
          ],
          "choropleth": [
           {
            "colorbar": {
             "outlinewidth": 0,
             "ticks": ""
            },
            "type": "choropleth"
           }
          ],
          "contour": [
           {
            "colorbar": {
             "outlinewidth": 0,
             "ticks": ""
            },
            "colorscale": [
             [
              0,
              "#0d0887"
             ],
             [
              0.1111111111111111,
              "#46039f"
             ],
             [
              0.2222222222222222,
              "#7201a8"
             ],
             [
              0.3333333333333333,
              "#9c179e"
             ],
             [
              0.4444444444444444,
              "#bd3786"
             ],
             [
              0.5555555555555556,
              "#d8576b"
             ],
             [
              0.6666666666666666,
              "#ed7953"
             ],
             [
              0.7777777777777778,
              "#fb9f3a"
             ],
             [
              0.8888888888888888,
              "#fdca26"
             ],
             [
              1,
              "#f0f921"
             ]
            ],
            "type": "contour"
           }
          ],
          "contourcarpet": [
           {
            "colorbar": {
             "outlinewidth": 0,
             "ticks": ""
            },
            "type": "contourcarpet"
           }
          ],
          "heatmap": [
           {
            "colorbar": {
             "outlinewidth": 0,
             "ticks": ""
            },
            "colorscale": [
             [
              0,
              "#0d0887"
             ],
             [
              0.1111111111111111,
              "#46039f"
             ],
             [
              0.2222222222222222,
              "#7201a8"
             ],
             [
              0.3333333333333333,
              "#9c179e"
             ],
             [
              0.4444444444444444,
              "#bd3786"
             ],
             [
              0.5555555555555556,
              "#d8576b"
             ],
             [
              0.6666666666666666,
              "#ed7953"
             ],
             [
              0.7777777777777778,
              "#fb9f3a"
             ],
             [
              0.8888888888888888,
              "#fdca26"
             ],
             [
              1,
              "#f0f921"
             ]
            ],
            "type": "heatmap"
           }
          ],
          "histogram": [
           {
            "marker": {
             "pattern": {
              "fillmode": "overlay",
              "size": 10,
              "solidity": 0.2
             }
            },
            "type": "histogram"
           }
          ],
          "histogram2d": [
           {
            "colorbar": {
             "outlinewidth": 0,
             "ticks": ""
            },
            "colorscale": [
             [
              0,
              "#0d0887"
             ],
             [
              0.1111111111111111,
              "#46039f"
             ],
             [
              0.2222222222222222,
              "#7201a8"
             ],
             [
              0.3333333333333333,
              "#9c179e"
             ],
             [
              0.4444444444444444,
              "#bd3786"
             ],
             [
              0.5555555555555556,
              "#d8576b"
             ],
             [
              0.6666666666666666,
              "#ed7953"
             ],
             [
              0.7777777777777778,
              "#fb9f3a"
             ],
             [
              0.8888888888888888,
              "#fdca26"
             ],
             [
              1,
              "#f0f921"
             ]
            ],
            "type": "histogram2d"
           }
          ],
          "histogram2dcontour": [
           {
            "colorbar": {
             "outlinewidth": 0,
             "ticks": ""
            },
            "colorscale": [
             [
              0,
              "#0d0887"
             ],
             [
              0.1111111111111111,
              "#46039f"
             ],
             [
              0.2222222222222222,
              "#7201a8"
             ],
             [
              0.3333333333333333,
              "#9c179e"
             ],
             [
              0.4444444444444444,
              "#bd3786"
             ],
             [
              0.5555555555555556,
              "#d8576b"
             ],
             [
              0.6666666666666666,
              "#ed7953"
             ],
             [
              0.7777777777777778,
              "#fb9f3a"
             ],
             [
              0.8888888888888888,
              "#fdca26"
             ],
             [
              1,
              "#f0f921"
             ]
            ],
            "type": "histogram2dcontour"
           }
          ],
          "mesh3d": [
           {
            "colorbar": {
             "outlinewidth": 0,
             "ticks": ""
            },
            "type": "mesh3d"
           }
          ],
          "parcoords": [
           {
            "line": {
             "colorbar": {
              "outlinewidth": 0,
              "ticks": ""
             }
            },
            "type": "parcoords"
           }
          ],
          "pie": [
           {
            "automargin": true,
            "type": "pie"
           }
          ],
          "scatter": [
           {
            "fillpattern": {
             "fillmode": "overlay",
             "size": 10,
             "solidity": 0.2
            },
            "type": "scatter"
           }
          ],
          "scatter3d": [
           {
            "line": {
             "colorbar": {
              "outlinewidth": 0,
              "ticks": ""
             }
            },
            "marker": {
             "colorbar": {
              "outlinewidth": 0,
              "ticks": ""
             }
            },
            "type": "scatter3d"
           }
          ],
          "scattercarpet": [
           {
            "marker": {
             "colorbar": {
              "outlinewidth": 0,
              "ticks": ""
             }
            },
            "type": "scattercarpet"
           }
          ],
          "scattergeo": [
           {
            "marker": {
             "colorbar": {
              "outlinewidth": 0,
              "ticks": ""
             }
            },
            "type": "scattergeo"
           }
          ],
          "scattergl": [
           {
            "marker": {
             "colorbar": {
              "outlinewidth": 0,
              "ticks": ""
             }
            },
            "type": "scattergl"
           }
          ],
          "scattermap": [
           {
            "marker": {
             "colorbar": {
              "outlinewidth": 0,
              "ticks": ""
             }
            },
            "type": "scattermap"
           }
          ],
          "scattermapbox": [
           {
            "marker": {
             "colorbar": {
              "outlinewidth": 0,
              "ticks": ""
             }
            },
            "type": "scattermapbox"
           }
          ],
          "scatterpolar": [
           {
            "marker": {
             "colorbar": {
              "outlinewidth": 0,
              "ticks": ""
             }
            },
            "type": "scatterpolar"
           }
          ],
          "scatterpolargl": [
           {
            "marker": {
             "colorbar": {
              "outlinewidth": 0,
              "ticks": ""
             }
            },
            "type": "scatterpolargl"
           }
          ],
          "scatterternary": [
           {
            "marker": {
             "colorbar": {
              "outlinewidth": 0,
              "ticks": ""
             }
            },
            "type": "scatterternary"
           }
          ],
          "surface": [
           {
            "colorbar": {
             "outlinewidth": 0,
             "ticks": ""
            },
            "colorscale": [
             [
              0,
              "#0d0887"
             ],
             [
              0.1111111111111111,
              "#46039f"
             ],
             [
              0.2222222222222222,
              "#7201a8"
             ],
             [
              0.3333333333333333,
              "#9c179e"
             ],
             [
              0.4444444444444444,
              "#bd3786"
             ],
             [
              0.5555555555555556,
              "#d8576b"
             ],
             [
              0.6666666666666666,
              "#ed7953"
             ],
             [
              0.7777777777777778,
              "#fb9f3a"
             ],
             [
              0.8888888888888888,
              "#fdca26"
             ],
             [
              1,
              "#f0f921"
             ]
            ],
            "type": "surface"
           }
          ],
          "table": [
           {
            "cells": {
             "fill": {
              "color": "#EBF0F8"
             },
             "line": {
              "color": "white"
             }
            },
            "header": {
             "fill": {
              "color": "#C8D4E3"
             },
             "line": {
              "color": "white"
             }
            },
            "type": "table"
           }
          ]
         },
         "layout": {
          "annotationdefaults": {
           "arrowcolor": "#2a3f5f",
           "arrowhead": 0,
           "arrowwidth": 1
          },
          "autotypenumbers": "strict",
          "coloraxis": {
           "colorbar": {
            "outlinewidth": 0,
            "ticks": ""
           }
          },
          "colorscale": {
           "diverging": [
            [
             0,
             "#8e0152"
            ],
            [
             0.1,
             "#c51b7d"
            ],
            [
             0.2,
             "#de77ae"
            ],
            [
             0.3,
             "#f1b6da"
            ],
            [
             0.4,
             "#fde0ef"
            ],
            [
             0.5,
             "#f7f7f7"
            ],
            [
             0.6,
             "#e6f5d0"
            ],
            [
             0.7,
             "#b8e186"
            ],
            [
             0.8,
             "#7fbc41"
            ],
            [
             0.9,
             "#4d9221"
            ],
            [
             1,
             "#276419"
            ]
           ],
           "sequential": [
            [
             0,
             "#0d0887"
            ],
            [
             0.1111111111111111,
             "#46039f"
            ],
            [
             0.2222222222222222,
             "#7201a8"
            ],
            [
             0.3333333333333333,
             "#9c179e"
            ],
            [
             0.4444444444444444,
             "#bd3786"
            ],
            [
             0.5555555555555556,
             "#d8576b"
            ],
            [
             0.6666666666666666,
             "#ed7953"
            ],
            [
             0.7777777777777778,
             "#fb9f3a"
            ],
            [
             0.8888888888888888,
             "#fdca26"
            ],
            [
             1,
             "#f0f921"
            ]
           ],
           "sequentialminus": [
            [
             0,
             "#0d0887"
            ],
            [
             0.1111111111111111,
             "#46039f"
            ],
            [
             0.2222222222222222,
             "#7201a8"
            ],
            [
             0.3333333333333333,
             "#9c179e"
            ],
            [
             0.4444444444444444,
             "#bd3786"
            ],
            [
             0.5555555555555556,
             "#d8576b"
            ],
            [
             0.6666666666666666,
             "#ed7953"
            ],
            [
             0.7777777777777778,
             "#fb9f3a"
            ],
            [
             0.8888888888888888,
             "#fdca26"
            ],
            [
             1,
             "#f0f921"
            ]
           ]
          },
          "colorway": [
           "#636efa",
           "#EF553B",
           "#00cc96",
           "#ab63fa",
           "#FFA15A",
           "#19d3f3",
           "#FF6692",
           "#B6E880",
           "#FF97FF",
           "#FECB52"
          ],
          "font": {
           "color": "#2a3f5f"
          },
          "geo": {
           "bgcolor": "white",
           "lakecolor": "white",
           "landcolor": "#E5ECF6",
           "showlakes": true,
           "showland": true,
           "subunitcolor": "white"
          },
          "hoverlabel": {
           "align": "left"
          },
          "hovermode": "closest",
          "mapbox": {
           "style": "light"
          },
          "paper_bgcolor": "white",
          "plot_bgcolor": "#E5ECF6",
          "polar": {
           "angularaxis": {
            "gridcolor": "white",
            "linecolor": "white",
            "ticks": ""
           },
           "bgcolor": "#E5ECF6",
           "radialaxis": {
            "gridcolor": "white",
            "linecolor": "white",
            "ticks": ""
           }
          },
          "scene": {
           "xaxis": {
            "backgroundcolor": "#E5ECF6",
            "gridcolor": "white",
            "gridwidth": 2,
            "linecolor": "white",
            "showbackground": true,
            "ticks": "",
            "zerolinecolor": "white"
           },
           "yaxis": {
            "backgroundcolor": "#E5ECF6",
            "gridcolor": "white",
            "gridwidth": 2,
            "linecolor": "white",
            "showbackground": true,
            "ticks": "",
            "zerolinecolor": "white"
           },
           "zaxis": {
            "backgroundcolor": "#E5ECF6",
            "gridcolor": "white",
            "gridwidth": 2,
            "linecolor": "white",
            "showbackground": true,
            "ticks": "",
            "zerolinecolor": "white"
           }
          },
          "shapedefaults": {
           "line": {
            "color": "#2a3f5f"
           }
          },
          "ternary": {
           "aaxis": {
            "gridcolor": "white",
            "linecolor": "white",
            "ticks": ""
           },
           "baxis": {
            "gridcolor": "white",
            "linecolor": "white",
            "ticks": ""
           },
           "bgcolor": "#E5ECF6",
           "caxis": {
            "gridcolor": "white",
            "linecolor": "white",
            "ticks": ""
           }
          },
          "title": {
           "x": 0.05
          },
          "xaxis": {
           "automargin": true,
           "gridcolor": "white",
           "linecolor": "white",
           "ticks": "",
           "title": {
            "standoff": 15
           },
           "zerolinecolor": "white",
           "zerolinewidth": 2
          },
          "yaxis": {
           "automargin": true,
           "gridcolor": "white",
           "linecolor": "white",
           "ticks": "",
           "title": {
            "standoff": 15
           },
           "zerolinecolor": "white",
           "zerolinewidth": 2
          }
         }
        },
        "title": {
         "text": "Ingresos por Nivel Educativo y Estado de Default"
        },
        "treemapcolorway": [
         "#4E2D30",
         "#2E5C2E"
        ],
        "width": 800
       }
      }
     },
     "metadata": {},
     "output_type": "display_data"
    }
   ],
   "source": [
    "def advance_visualizations(df):\n",
    "    print('=== Análisis Avanzado===')\n",
    "    \n",
    "    print(\"Valores nulos en income:\", df_bank_loan['income'].isnull().sum())\n",
    "    print(\"Valores nulos en ed_text:\", df_bank_loan['ed_text'].isnull().sum())\n",
    "    \n",
    "    \n",
    "    # Treemap de ingresos por educacion y default\n",
    "    df_plot = df_bank_loan.copy()\n",
    "    df_plot['default_cat'] = df_plot['default'].map({0: 'Aprobado', 1: 'No Aprobado'})\n",
    "    \n",
    "    df_plot = df_plot.dropna(subset=['income', 'ed_text', 'default_cat'])\n",
    "    \n",
    "    fig=px.treemap(df_plot, path=['ed_text', 'default_cat'], values='income',\n",
    "                   title='Ingresos por Nivel Educativo y Estado de Default',\n",
    "                   color='default_cat',\n",
    "                   color_discrete_sequence=[\"#4E2D30\",\"#2E5C2E\"],\n",
    "                   width=800,\n",
    "                   height=600\n",
    "    )\n",
    "    \n",
    "    fig.update_traces(\n",
    "        textposition=\"middle center\",\n",
    "        textfont_size=12,\n",
    "        textinfo=\"label+value\",\n",
    "        textfont_color='white',\n",
    "        marker=dict(\n",
    "            line=dict(width=2, color='DarkSlateGrey')\n",
    "        )\n",
    "    )\n",
    "    fig.update_layout(\n",
    "        legend=dict(\n",
    "            orientation='h',\n",
    "            yanchor='bottom',\n",
    "            y=1.02,\n",
    "            xanchor='right',\n",
    "            x=1\n",
    "        )\n",
    "    )\n",
    "    fig.show()\n",
    "\n",
    "    \n",
    "advance_visualizations(df_bank_loan)"
   ]
  },
  {
   "cell_type": "code",
   "execution_count": null,
   "id": "d6bc8dfd",
   "metadata": {},
   "outputs": [],
   "source": []
  }
 ],
 "metadata": {
  "kernelspec": {
   "display_name": "env_bank_loan",
   "language": "python",
   "name": "python3"
  },
  "language_info": {
   "codemirror_mode": {
    "name": "ipython",
    "version": 3
   },
   "file_extension": ".py",
   "mimetype": "text/x-python",
   "name": "python",
   "nbconvert_exporter": "python",
   "pygments_lexer": "ipython3",
   "version": "3.12.2"
  }
 },
 "nbformat": 4,
 "nbformat_minor": 5
}
