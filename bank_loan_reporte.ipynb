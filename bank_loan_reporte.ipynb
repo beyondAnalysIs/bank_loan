{
 "cells": [
  {
   "cell_type": "code",
   "execution_count": 8,
   "id": "aadb8a88",
   "metadata": {},
   "outputs": [],
   "source": [
    "import pandas as pd\n",
    "import numpy as np\n",
    "import matplotlib.pyplot as plt\n",
    "import seaborn as sns \n",
    "import plotly.express as px\n",
    "import plotly.graph_objects as go # para hacer graficos interactivos\n",
    "from scipy import stats\n",
    "import warnings\n",
    "warnings.filterwarnings('ignore')\n",
    "\n",
    "# Configuración inicial\n",
    "plt.style.use('seaborn-v0_8')\n",
    "pd.set_option('display.max_columns', None)\n",
    "pd.set_option('display.width', None)"
   ]
  },
  {
   "cell_type": "code",
   "execution_count": 9,
   "id": "560e4928",
   "metadata": {},
   "outputs": [
    {
     "name": "stdout",
     "output_type": "stream",
     "text": [
      "Index(['age;ed;employ;address;income;debtinc;creddebt;othdebt;default'], dtype='object')\n"
     ]
    }
   ],
   "source": [
    "df = pd.read_csv('Bankloan.csv')\n",
    "print(df.columns)\n"
   ]
  },
  {
   "cell_type": "code",
   "execution_count": 30,
   "id": "581bfe66",
   "metadata": {},
   "outputs": [
    {
     "name": "stdout",
     "output_type": "stream",
     "text": [
      "Dataset cargado: 700 filas y 11 columnas\n"
     ]
    }
   ],
   "source": [
    "# Cargar Datos\n",
    "def load_data(file_path):\n",
    "    '''Carga y limpieza de bankloan'''\n",
    "    df = pd.read_csv(file_path, sep=';', encoding='utf-8-sig')\n",
    "    \n",
    "    # Limpieza de de datos\n",
    "    # convertir columnas a numéricas. manejando errores\n",
    "    numeric_cols=['age', 'ed', 'employ', 'address', 'income', 'debtinc', 'creddebt', 'othdebt', 'default']\n",
    "    # recorriendo numeric_cols y convirtiendo a numérico\n",
    "    for col in numeric_cols:\n",
    "        df[col] = pd.to_numeric(df[col], errors='coerce')\n",
    "        \n",
    "    # manejar valores missing\n",
    "    df.fillna(df.median(numeric_only=True), inplace=True)\n",
    "    \n",
    "    # Eliminar duplicados\n",
    "    df.drop_duplicates(inplace=True)\n",
    "    \n",
    "    # Crear Variable categórica para default\n",
    "    df['default_status'] = df['default'].map({0: 'Aprobado', 1: 'No Aprobado'})\n",
    "    \n",
    "    # Crear ratio de endeudamiento\n",
    "    df['ratio_debtinc'] = df['debtinc'] / df['income'].replace(0,1)\n",
    "    \n",
    "    print(f'Dataset cargado: {df.shape[0]} filas y {df.shape[1]} columnas')\n",
    "    \n",
    "    return df   \n",
    "\n",
    "df = load_data('Bankloan.csv')    \n",
    "\n"
   ]
  },
  {
   "cell_type": "code",
   "execution_count": null,
   "id": "30159f6c",
   "metadata": {},
   "outputs": [],
   "source": []
  }
 ],
 "metadata": {
  "kernelspec": {
   "display_name": "env_bank_loan",
   "language": "python",
   "name": "python3"
  },
  "language_info": {
   "codemirror_mode": {
    "name": "ipython",
    "version": 3
   },
   "file_extension": ".py",
   "mimetype": "text/x-python",
   "name": "python",
   "nbconvert_exporter": "python",
   "pygments_lexer": "ipython3",
   "version": "3.12.2"
  }
 },
 "nbformat": 4,
 "nbformat_minor": 5
}
